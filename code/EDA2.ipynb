{
 "cells": [
  {
   "cell_type": "markdown",
   "metadata": {},
   "source": [
    "## IMPORT LIBRARY"
   ]
  },
  {
   "cell_type": "code",
   "execution_count": 1,
   "metadata": {},
   "outputs": [],
   "source": [
    "# Importing Libraries\n",
    "import pandas as pd\n",
    "import numpy as np\n",
    "import matplotlib.pyplot as plt\n",
    "import seaborn as sns\n",
    "from matplotlib.gridspec import GridSpec\n",
    "import plotly.offline as py\n",
    "import plotly.express as px\n",
    "import plotly.graph_objs as go\n",
    "import json\n",
    "import requests\n",
    "from collections import Counter\n",
    "from PIL import Image\n",
    "from matplotlib.ticker import FuncFormatter\n",
    "#------------------------------------- \n",
    "import re\n",
    "from nltk.corpus import stopwords\n",
    "from nltk.stem import RSLPStemmer\n",
    "from sklearn.feature_extraction.text import CountVectorizer, TfidfVectorizer\n",
    "from sklearn.base import BaseEstimator, TransformerMixin\n",
    "from sklearn.pipeline import Pipeline\n",
    "import joblib\n",
    "from scipy import stats \n",
    "import folium\n",
    "from folium.plugins import FastMarkerCluster, Fullscreen, MiniMap, HeatMap, HeatMapWithTime, LocateControl"
   ]
  },
  {
   "cell_type": "code",
   "execution_count": 2,
   "metadata": {},
   "outputs": [],
   "source": [
    "path = '../data/'\n",
    "#Importing Datasets\n",
    "df_item = pd.read_csv(path+\"olist_order_items_dataset.csv\")\n",
    "df_reviews = pd.read_csv(path+\"olist_order_reviews_dataset.csv\")\n",
    "df_orders = pd.read_csv(path+\"olist_orders_dataset.csv\")\n",
    "df_products = pd.read_csv(path+\"olist_products_dataset.csv\")\n",
    "df_geolocation = pd.read_csv(path+\"olist_geolocation_dataset.csv\")\n",
    "df_sellers = pd.read_csv(path+\"olist_sellers_dataset.csv\")\n",
    "df_order_pay = pd.read_csv(path+\"olist_order_payments_dataset.csv\")\n",
    "df_customers = pd.read_csv(path+\"olist_customers_dataset.csv\")\n",
    "df_category = pd.read_csv(path+\"product_category_name_translation.csv\")"
   ]
  },
  {
   "cell_type": "code",
   "execution_count": 3,
   "metadata": {},
   "outputs": [],
   "source": [
    "df_list = [df_item,df_reviews,df_orders, df_products, df_geolocation, df_sellers, df_order_pay, df_customers, df_category]"
   ]
  },
  {
   "cell_type": "code",
   "execution_count": 4,
   "metadata": {},
   "outputs": [
    {
     "name": "stdout",
     "output_type": "stream",
     "text": [
      "Index(['order_id', 'order_item_id', 'product_id', 'seller_id',\n",
      "       'shipping_limit_date', 'price', 'freight_value'],\n",
      "      dtype='object')\n",
      "Index(['review_id', 'order_id', 'review_score', 'review_comment_title',\n",
      "       'review_comment_message', 'review_creation_date',\n",
      "       'review_answer_timestamp'],\n",
      "      dtype='object')\n",
      "Index(['order_id', 'customer_id', 'order_status', 'order_purchase_timestamp',\n",
      "       'order_approved_at', 'order_delivered_carrier_date',\n",
      "       'order_delivered_customer_date', 'order_estimated_delivery_date'],\n",
      "      dtype='object')\n",
      "Index(['product_id', 'product_category_name', 'product_name_lenght',\n",
      "       'product_description_lenght', 'product_photos_qty', 'product_weight_g',\n",
      "       'product_length_cm', 'product_height_cm', 'product_width_cm'],\n",
      "      dtype='object')\n",
      "Index(['geolocation_zip_code_prefix', 'geolocation_lat', 'geolocation_lng',\n",
      "       'geolocation_city', 'geolocation_state'],\n",
      "      dtype='object')\n",
      "Index(['seller_id', 'seller_zip_code_prefix', 'seller_city', 'seller_state'], dtype='object')\n",
      "Index(['order_id', 'payment_sequential', 'payment_type',\n",
      "       'payment_installments', 'payment_value'],\n",
      "      dtype='object')\n",
      "Index(['customer_id', 'customer_unique_id', 'customer_zip_code_prefix',\n",
      "       'customer_city', 'customer_state'],\n",
      "      dtype='object')\n",
      "Index(['product_category_name', 'product_category_name_english'], dtype='object')\n"
     ]
    }
   ],
   "source": [
    "for x in df_list:\n",
    "    print(x.columns)"
   ]
  },
  {
   "cell_type": "code",
   "execution_count": 5,
   "metadata": {},
   "outputs": [],
   "source": [
    "# Merging Datasets\n",
    "df_train = df_orders.merge(df_item, on='order_id', how='left')\n",
    "df_train = df_train.merge(df_order_pay, on='order_id', how='outer', validate='m:m')\n",
    "df_train = df_train.merge(df_reviews, on='order_id', how='outer')\n",
    "df_train = df_train.merge(df_products, on='product_id', how='outer')\n",
    "df_train = df_train.merge(df_customers, on='customer_id', how='outer')\n",
    "df_train = df_train.merge(df_sellers, on='seller_id', how='outer')"
   ]
  },
  {
   "cell_type": "markdown",
   "metadata": {},
   "source": [
    "[df_customer]\n",
    "customer_id : 주문 데이터 세트의 키입니다. 각 주문에는 고유한 customer_id가 있습니다.\n",
    "customer_unique_id : 고객의 고유 식별자.\n",
    "customer_zip_code_prefix : 고객 우편번호의 처음 5자리\n",
    "customer_city : 고객 도시 이름\n",
    "customer_state : 고객 주\n",
    "\n",
    "[df_item]\n"
   ]
  },
  {
   "cell_type": "markdown",
   "metadata": {},
   "source": [
    "\n",
    "df_item,df_reviews,df_orders, df_products, df_geolocation, df_sellers, df_order_pay, df_customers, df_category\n",
    "\n",
    ",,, , df_geolocation, , , , df_category\n"
   ]
  },
  {
   "cell_type": "code",
   "execution_count": 6,
   "metadata": {},
   "outputs": [
    {
     "data": {
      "text/plain": [
       "<bound method NDFrame.describe of                                 order_id                       customer_id  \\\n",
       "0       d455a8cb295653b55abda06d434ab492  944b72539d7e1f7f7fc6e46639ef1fe3   \n",
       "1       7f39ba4c9052be115350065d07583cac  d7fc82cbeafea77bd0a8fbbf6296e387   \n",
       "2       9dc8d1a6f16f1b89874c29c9d8d30447  d9442164acf4b03109425633efaa0cfc   \n",
       "3       0f548bd29148ebc519d6495e37a284e1  015faf9ec36eccd957c0f2782aab09a4   \n",
       "4       0f548bd29148ebc519d6495e37a284e1  015faf9ec36eccd957c0f2782aab09a4   \n",
       "...                                  ...                               ...   \n",
       "119138  87ae60ef8b08ae0e5f903cacb53a6904  fea4d57ed3a45455f89c25ef3dae8ee8   \n",
       "119139  d69fcef5a5fe3a3db60ea65c6ee499cc  ff0340330283c0d05ea7281e67fa2e76   \n",
       "119140  f86d7bc39aab05299691322044b63bb2  ff31bee1ba4bba00cc14b1b91c8d28f3   \n",
       "119141  74f833bf7c70ce8c3f820f725c213e1c  fffc22669ca576ae3f654ea64c8f36be   \n",
       "119142  2e935fa1d39497aa0ec3f1107fbfb5b8  ffffe8b65bbe3087b653a978c870db99   \n",
       "\n",
       "       order_status order_purchase_timestamp    order_approved_at  \\\n",
       "0         delivered      2017-09-26 22:17:05  2017-09-27 22:24:16   \n",
       "1         delivered      2017-10-18 08:16:34  2017-10-18 23:56:20   \n",
       "2         delivered      2017-10-12 13:33:22  2017-10-12 13:49:22   \n",
       "3         delivered      2017-09-03 08:06:30  2017-09-03 08:25:50   \n",
       "4         delivered      2017-09-03 08:06:30  2017-09-03 08:25:50   \n",
       "...             ...                      ...                  ...   \n",
       "119138     canceled      2018-09-11 16:45:54                  NaN   \n",
       "119139  unavailable      2017-12-02 10:11:44  2017-12-02 10:30:31   \n",
       "119140     canceled      2018-08-13 18:43:06                  NaN   \n",
       "119141  unavailable      2017-06-30 11:21:11  2017-06-30 11:30:20   \n",
       "119142  unavailable      2017-09-29 14:07:03  2017-10-03 06:34:13   \n",
       "\n",
       "       order_delivered_carrier_date order_delivered_customer_date  \\\n",
       "0               2017-09-29 15:53:03           2017-10-07 16:12:47   \n",
       "1               2017-10-20 14:29:01           2017-10-27 16:46:05   \n",
       "2               2017-10-17 15:42:42           2017-10-24 20:17:44   \n",
       "3               2017-09-04 22:03:06           2017-09-08 16:26:55   \n",
       "4               2017-09-04 22:03:06           2017-09-08 16:26:55   \n",
       "...                             ...                           ...   \n",
       "119138                          NaN                           NaN   \n",
       "119139                          NaN                           NaN   \n",
       "119140                          NaN                           NaN   \n",
       "119141                          NaN                           NaN   \n",
       "119142                          NaN                           NaN   \n",
       "\n",
       "       order_estimated_delivery_date  order_item_id  \\\n",
       "0                2017-10-30 00:00:00            1.0   \n",
       "1                2017-11-09 00:00:00            1.0   \n",
       "2                2017-11-06 00:00:00            1.0   \n",
       "3                2017-09-27 00:00:00            1.0   \n",
       "4                2017-09-27 00:00:00            2.0   \n",
       "...                              ...            ...   \n",
       "119138           2018-09-26 00:00:00            NaN   \n",
       "119139           2018-01-08 00:00:00            NaN   \n",
       "119140           2018-09-25 00:00:00            NaN   \n",
       "119141           2017-08-01 00:00:00            NaN   \n",
       "119142           2017-10-24 00:00:00            NaN   \n",
       "\n",
       "                              product_id  ... product_length_cm  \\\n",
       "0       a2ff5a97bf95719e38ea2e3b4105bce8  ...              40.0   \n",
       "1       a2ff5a97bf95719e38ea2e3b4105bce8  ...              40.0   \n",
       "2       a2ff5a97bf95719e38ea2e3b4105bce8  ...              40.0   \n",
       "3       08574b074924071f4e201e151b152b4e  ...              42.0   \n",
       "4       08574b074924071f4e201e151b152b4e  ...              42.0   \n",
       "...                                  ...  ...               ...   \n",
       "119138                               NaN  ...               NaN   \n",
       "119139                               NaN  ...               NaN   \n",
       "119140                               NaN  ...               NaN   \n",
       "119141                               NaN  ...               NaN   \n",
       "119142                               NaN  ...               NaN   \n",
       "\n",
       "       product_height_cm  product_width_cm                customer_unique_id  \\\n",
       "0                   43.0              36.0  3c7e305796add66698959fc7ad176f6b   \n",
       "1                   43.0              36.0  9de5797cddb92598755a0f76383ddbbb   \n",
       "2                   43.0              36.0  9915eb9f74b6c11aaf04833f65b00e93   \n",
       "3                   12.0              39.0  dce323533e45e74d215e0fe7fb114118   \n",
       "4                   12.0              39.0  dce323533e45e74d215e0fe7fb114118   \n",
       "...                  ...               ...                               ...   \n",
       "119138               NaN               NaN  09687a7b7431a93b5c53b50ba779bf94   \n",
       "119139               NaN               NaN  dc80a79483121fee90b0d2f53d1054f5   \n",
       "119140               NaN               NaN  a0931a30dcf7e2106f0939b799c54321   \n",
       "119141               NaN               NaN  0f21adf44f13a61282678a89f6433c10   \n",
       "119142               NaN               NaN  736e6bfa0510aa5b878881a226a5fd89   \n",
       "\n",
       "        customer_zip_code_prefix        customer_city  customer_state  \\\n",
       "0                          87502             umuarama              PR   \n",
       "1                          35490  entre rios de minas              MG   \n",
       "2                          38600             paracatu              MG   \n",
       "3                          24710          sao goncalo              RJ   \n",
       "4                          24710          sao goncalo              RJ   \n",
       "...                          ...                  ...             ...   \n",
       "119138                     12010              taubate              SP   \n",
       "119139                     57046               maceio              AL   \n",
       "119140                     76804          porto velho              RO   \n",
       "119141                     40255             salvador              BA   \n",
       "119142                      6172               osasco              SP   \n",
       "\n",
       "        seller_zip_code_prefix  seller_city  seller_state  \n",
       "0                       9080.0  santo andre            SP  \n",
       "1                       9080.0  santo andre            SP  \n",
       "2                       9080.0  santo andre            SP  \n",
       "3                      29156.0    cariacica            ES  \n",
       "4                      29156.0    cariacica            ES  \n",
       "...                        ...          ...           ...  \n",
       "119138                     NaN          NaN           NaN  \n",
       "119139                     NaN          NaN           NaN  \n",
       "119140                     NaN          NaN           NaN  \n",
       "119141                     NaN          NaN           NaN  \n",
       "119142                     NaN          NaN           NaN  \n",
       "\n",
       "[119143 rows x 39 columns]>"
      ]
     },
     "execution_count": 6,
     "metadata": {},
     "output_type": "execute_result"
    }
   ],
   "source": [
    "df_train.describe"
   ]
  },
  {
   "cell_type": "code",
   "execution_count": 11,
   "metadata": {},
   "outputs": [
    {
     "data": {
      "text/plain": [
       "(119143, 39)"
      ]
     },
     "execution_count": 11,
     "metadata": {},
     "output_type": "execute_result"
    }
   ],
   "source": [
    "df_train.shape"
   ]
  },
  {
   "cell_type": "code",
   "execution_count": 9,
   "metadata": {},
   "outputs": [
    {
     "data": {
      "text/plain": [
       "order_id                              0\n",
       "customer_id                           0\n",
       "order_status                          0\n",
       "order_purchase_timestamp              0\n",
       "order_approved_at                   177\n",
       "order_delivered_carrier_date       2086\n",
       "order_delivered_customer_date      3421\n",
       "order_estimated_delivery_date         0\n",
       "order_item_id                       833\n",
       "product_id                          833\n",
       "seller_id                           833\n",
       "shipping_limit_date                 833\n",
       "price                               833\n",
       "freight_value                       833\n",
       "payment_sequential                    3\n",
       "payment_type                          3\n",
       "payment_installments                  3\n",
       "payment_value                         3\n",
       "review_id                           997\n",
       "review_score                        997\n",
       "review_comment_title             105154\n",
       "review_comment_message            68898\n",
       "review_creation_date                997\n",
       "review_answer_timestamp             997\n",
       "product_category_name              2542\n",
       "product_name_lenght                2542\n",
       "product_description_lenght         2542\n",
       "product_photos_qty                 2542\n",
       "product_weight_g                    853\n",
       "product_length_cm                   853\n",
       "product_height_cm                   853\n",
       "product_width_cm                    853\n",
       "customer_unique_id                    0\n",
       "customer_zip_code_prefix              0\n",
       "customer_city                         0\n",
       "customer_state                        0\n",
       "seller_zip_code_prefix              833\n",
       "seller_city                         833\n",
       "seller_state                        833\n",
       "dtype: int64"
      ]
     },
     "execution_count": 9,
     "metadata": {},
     "output_type": "execute_result"
    }
   ],
   "source": [
    "df_train.isnull().sum()"
   ]
  },
  {
   "cell_type": "code",
   "execution_count": null,
   "metadata": {},
   "outputs": [],
   "source": []
  }
 ],
 "metadata": {
  "kernelspec": {
   "display_name": "Python 3",
   "language": "python",
   "name": "python3"
  },
  "language_info": {
   "codemirror_mode": {
    "name": "ipython",
    "version": 3
   },
   "file_extension": ".py",
   "mimetype": "text/x-python",
   "name": "python",
   "nbconvert_exporter": "python",
   "pygments_lexer": "ipython3",
   "version": "3.10.8"
  }
 },
 "nbformat": 4,
 "nbformat_minor": 2
}
