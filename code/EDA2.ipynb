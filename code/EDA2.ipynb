{
 "cells": [
  {
   "cell_type": "markdown",
   "metadata": {},
   "source": [
    "## IMPORT LIBRARY"
   ]
  },
  {
   "cell_type": "code",
   "execution_count": 2,
   "metadata": {},
   "outputs": [],
   "source": [
    "# Importing Libraries\n",
    "import pandas as pd\n",
    "import numpy as np\n",
    "import matplotlib.pyplot as plt\n",
    "import seaborn as sns\n",
    "from matplotlib.gridspec import GridSpec\n",
    "import plotly.offline as py\n",
    "import plotly.express as px\n",
    "import plotly.graph_objs as go\n",
    "import json\n",
    "import requests\n",
    "from collections import Counter\n",
    "from PIL import Image\n",
    "from matplotlib.ticker import FuncFormatter\n",
    "#------------------------------------- \n",
    "import re\n",
    "from nltk.corpus import stopwords\n",
    "from nltk.stem import RSLPStemmer\n",
    "from sklearn.feature_extraction.text import CountVectorizer, TfidfVectorizer\n",
    "from sklearn.base import BaseEstimator, TransformerMixin\n",
    "from sklearn.pipeline import Pipeline\n",
    "import joblib\n",
    "from scipy import stats \n",
    "import folium\n",
    "from folium.plugins import FastMarkerCluster, Fullscreen, MiniMap, HeatMap, HeatMapWithTime, LocateControl"
   ]
  },
  {
   "cell_type": "markdown",
   "metadata": {},
   "source": [
    "## DATA 준비"
   ]
  },
  {
   "cell_type": "markdown",
   "metadata": {},
   "source": [
    "### data load"
   ]
  },
  {
   "cell_type": "code",
   "execution_count": 12,
   "metadata": {},
   "outputs": [],
   "source": [
    "path = '../data/'\n",
    "#Importing Datasets\n",
    "df_item = pd.read_csv(path+\"olist_order_items_dataset.csv\")\n",
    "df_reviews = pd.read_csv(path+\"olist_order_reviews_dataset.csv\")\n",
    "df_orders = pd.read_csv(path+\"olist_orders_dataset.csv\")\n",
    "df_products = pd.read_csv(path+\"olist_products_dataset.csv\")\n",
    "df_geolocation = pd.read_csv(path+\"olist_geolocation_dataset.csv\")\n",
    "df_sellers = pd.read_csv(path+\"olist_sellers_dataset.csv\")\n",
    "df_order_pay = pd.read_csv(path+\"olist_order_payments_dataset.csv\")\n",
    "df_customers = pd.read_csv(path+\"olist_customers_dataset.csv\")\n",
    "df_category = pd.read_csv(path+\"product_category_name_translation.csv\")"
   ]
  },
  {
   "cell_type": "code",
   "execution_count": 7,
   "metadata": {},
   "outputs": [],
   "source": [
    "df_list = [df_customers, df_item, df_order_pay, df_reviews, df_orders, df_products, df_sellers, df_geolocation, df_category]"
   ]
  },
  {
   "cell_type": "code",
   "execution_count": 6,
   "metadata": {},
   "outputs": [
    {
     "name": "stdout",
     "output_type": "stream",
     "text": [
      "Index(['customer_id', 'customer_unique_id', 'customer_zip_code_prefix',\n",
      "       'customer_city', 'customer_state'],\n",
      "      dtype='object')\n",
      "Index(['order_id', 'order_item_id', 'product_id', 'seller_id',\n",
      "       'shipping_limit_date', 'price', 'freight_value'],\n",
      "      dtype='object')\n",
      "Index(['order_id', 'payment_sequential', 'payment_type',\n",
      "       'payment_installments', 'payment_value'],\n",
      "      dtype='object')\n",
      "Index(['review_id', 'order_id', 'review_score', 'review_comment_title',\n",
      "       'review_comment_message', 'review_creation_date',\n",
      "       'review_answer_timestamp'],\n",
      "      dtype='object')\n",
      "Index(['order_id', 'customer_id', 'order_status', 'order_purchase_timestamp',\n",
      "       'order_approved_at', 'order_delivered_carrier_date',\n",
      "       'order_delivered_customer_date', 'order_estimated_delivery_date'],\n",
      "      dtype='object')\n",
      "Index(['product_id', 'product_category_name', 'product_name_lenght',\n",
      "       'product_description_lenght', 'product_photos_qty', 'product_weight_g',\n",
      "       'product_length_cm', 'product_height_cm', 'product_width_cm'],\n",
      "      dtype='object')\n",
      "Index(['seller_id', 'seller_zip_code_prefix', 'seller_city', 'seller_state'], dtype='object')\n",
      "Index(['geolocation_zip_code_prefix', 'geolocation_lat', 'geolocation_lng',\n",
      "       'geolocation_city', 'geolocation_state'],\n",
      "      dtype='object')\n",
      "Index(['product_category_name', 'product_category_name_english'], dtype='object')\n"
     ]
    }
   ],
   "source": [
    "for x in df_list:\n",
    "    print(x.columns)"
   ]
  },
  {
   "cell_type": "markdown",
   "metadata": {},
   "source": [
    "### data merge"
   ]
  },
  {
   "cell_type": "code",
   "execution_count": 23,
   "metadata": {},
   "outputs": [],
   "source": [
    "# Merging Datasets\n",
    "df_train = df_orders.merge(df_item, on='order_id', how='left')\n",
    "df_train = df_train.merge(df_order_pay, on='order_id', how='outer', validate='m:m')\n",
    "df_train = df_train.merge(df_reviews, on='order_id', how='outer')\n",
    "df_train = df_train.merge(df_products, on='product_id', how='outer')\n",
    "df_train = df_train.merge(df_customers, on='customer_id', how='outer')\n",
    "df_train = df_train.merge(df_sellers, on='seller_id', how='outer')"
   ]
  },
  {
   "cell_type": "markdown",
   "metadata": {},
   "source": [
    "data columns 설명   \n",
    "\n",
    "[df_customer]   \n",
    "<U>***customer_id : 주문 데이터 세트의 키입니다. 각 주문에는 고유한 customer_id가 있습니다.***</U>   \n",
    "customer_unique_id : 고객의 고유 식별자.    \n",
    "customer_zip_code_prefix : 고객 우편번호의 처음 5자리   \n",
    "customer_city : 고객 도시 이름  \n",
    "customer_state : 고객 주    \n",
    "\n",
    "[df_item]   \n",
    "<U>***order_id : 고유 식별자 주문***</U>   \n",
    "order_item_id : 동일한 주문에 포함된 품목의 번호를 식별하는 순차적인 번호.      \n",
    "<U>***product_id : 제품 고유 식별자***</U>      \n",
    "<U>***seller_id : 판매자 고유 식별자***</U>     \n",
    "shipping_limit_date : 주문을 물류 파트너에게 처리하기 위한 판매자의 배송 제한 날짜를 보여줍니다.    \n",
    "price : 품목 가격   \n",
    "freight_value : 품목 운임 가치 품목(주문에 품목이 두 개 이상 있는 경우 운임 가치는 품목 간에 분할됨)    \n",
    "\n",
    "[df_order_pay]  \n",
    "<U>***order_id : 주문의 고유 식별자.***</U>     \n",
    "payment_sequential : 고객은 두 개 이상의 결제 방법으로 주문을 결제할 수 있습니다. 그렇게 하면 모든 결제를 수용할 수 있는 시퀀스가 ​​생성됩니다.     \n",
    "payment_type : 고객이 선택한 결제 방법.     \n",
    "payment_installments : 고객이 선택한 할부 횟수.     \n",
    "payment_value : 거래 가치.      \n",
    "\n",
    "[df_reviews]\n",
    "review_id : 고유 리뷰 식별자    \n",
    "<U>***order_id : 고유 주문 식별자***</U>        \n",
    "review_score : 만족도 조사에서 고객이 준 1~5점의 점수입니다.    \n",
    "review_comment_title : 고객이 포르투갈어로 남긴 리뷰의 댓글 제목입니다.     \n",
    "review_comment_message : 고객이 남긴 리뷰의 포르투갈어 코멘트 메시지입니다.     \n",
    "review_creation_date : 만족도 설문 조사가 고객에게 전송된 날짜를 보여줍니다.        \n",
    "review_answer_timestamp : 만족도 설문 답변 타임스탬프를 보여줍니다.     \n",
    "\n",
    "[df_orders]     \n",
    "<U>***order_id : 주문의 고유 식별자.***</U>        \n",
    "<U>***customer_id : 고객 데이터 세트의 키. 각 주문에는 고유한 customer_id가 있습니다.***</U>             \n",
    "order_status : 주문 상태(배달됨, 발송됨 등)에 대한 참조입니다.      \n",
    "order_purchase_timestamp : 구매 타임스탬프를 보여줍니다.        \n",
    "order_approved_at : 결제 승인 타임스탬프를 보여줍니다.      \n",
    "order_delivered_carrier_date : 주문 게시 타임스탬프를 보여줍니다. 물류 파트너에게 처리된 시점입니다.    \n",
    "order_delivered_customer_date : 고객에게 실제 주문 배송 날짜를 보여줍니다.      \n",
    "order_estimated_delivery_date : 구매 시점에 고객에게 안내된 예상 배송일을 보여줍니다.   \n",
    "\n",
    "[df_products]   \n",
    "<U>***product_id : 고유 제품 식별자***</U>      \n",
    "product_category_name : 포르투갈어로 제품의 핵심 카테고리입니다.    \n",
    "product_name_lenght : 제품명에서 추출된 문자 수입니다.      \n",
    "product_description_lenght : 제품 설명에서 추출된 문자 수입니다.    \n",
    "product_photos_qty : 제품 게시 사진 수      \n",
    "product_weight_g : 제품 무게는 그램 단위로 측정됩니다.      \n",
    "product_length_cm : 제품 길이는 센티미터로 측정합니다.      \n",
    "product_height_cm : 제품 높이는 센티미터로 측정합니다.      \n",
    "product_width_cm : 제품의 너비는 센티미터로 측정됩니다.     \n",
    "\n",
    "[df_sellers]    \n",
    "<U>***seller_id : 판매자 고유 식별자***</U>         \n",
    "seller_zip_code_prefix : 판매자 우편번호의 처음 5자리   \n",
    "seller_city : 판매자 도시 이름  \n",
    "seller_state : 판매자 주    \n"
   ]
  },
  {
   "cell_type": "markdown",
   "metadata": {},
   "source": [
    "df_geolocation, df_category 두 데이터는 결합 제거"
   ]
  },
  {
   "cell_type": "code",
   "execution_count": 24,
   "metadata": {},
   "outputs": [
    {
     "data": {
      "text/plain": [
       "(119143, 39)"
      ]
     },
     "execution_count": 24,
     "metadata": {},
     "output_type": "execute_result"
    }
   ],
   "source": [
    "df_train.shape"
   ]
  },
  {
   "cell_type": "markdown",
   "metadata": {},
   "source": [
    "## 결측치 확인"
   ]
  },
  {
   "cell_type": "code",
   "execution_count": 25,
   "metadata": {},
   "outputs": [
    {
     "data": {
      "text/plain": [
       "order_id                              0\n",
       "customer_id                           0\n",
       "order_status                          0\n",
       "order_purchase_timestamp              0\n",
       "order_approved_at                   177\n",
       "order_delivered_carrier_date       2086\n",
       "order_delivered_customer_date      3421\n",
       "order_estimated_delivery_date         0\n",
       "order_item_id                       833\n",
       "product_id                          833\n",
       "seller_id                           833\n",
       "shipping_limit_date                 833\n",
       "price                               833\n",
       "freight_value                       833\n",
       "payment_sequential                    3\n",
       "payment_type                          3\n",
       "payment_installments                  3\n",
       "payment_value                         3\n",
       "review_id                           997\n",
       "review_score                        997\n",
       "review_comment_title             105154\n",
       "review_comment_message            68898\n",
       "review_creation_date                997\n",
       "review_answer_timestamp             997\n",
       "product_category_name              2542\n",
       "product_name_lenght                2542\n",
       "product_description_lenght         2542\n",
       "product_photos_qty                 2542\n",
       "product_weight_g                    853\n",
       "product_length_cm                   853\n",
       "product_height_cm                   853\n",
       "product_width_cm                    853\n",
       "customer_unique_id                    0\n",
       "customer_zip_code_prefix              0\n",
       "customer_city                         0\n",
       "customer_state                        0\n",
       "seller_zip_code_prefix              833\n",
       "seller_city                         833\n",
       "seller_state                        833\n",
       "dtype: int64"
      ]
     },
     "execution_count": 25,
     "metadata": {},
     "output_type": "execute_result"
    }
   ],
   "source": [
    "df_train.isnull().sum()"
   ]
  },
  {
   "cell_type": "markdown",
   "metadata": {},
   "source": [
    "### 1. 주문 상태가 'cancelled' 또는 'unshipped'이고 'order_delivered_customer_date'가 Null인 행을 확인\n"
   ]
  },
  {
   "cell_type": "code",
   "execution_count": 26,
   "metadata": {},
   "outputs": [
    {
     "name": "stdout",
     "output_type": "stream",
     "text": [
      "'order_status'가 'cancelled' 또는 'unshipped'이고 'order_delivered_customer_date'가 Null인 행 개수: 0\n"
     ]
    }
   ],
   "source": [
    "cancelled_unshipped_null_delivery = df_train[(df_train['order_status'].isin(['cancelled', 'unshipped'])) & (df_train['order_delivered_customer_date'].isnull())]\n",
    "print(f\"'order_status'가 'cancelled' 또는 'unshipped'이고 'order_delivered_customer_date'가 Null인 행 개수: {cancelled_unshipped_null_delivery.shape[0]}\")\n"
   ]
  },
  {
   "cell_type": "markdown",
   "metadata": {},
   "source": [
    "### 2. 금액 관련 필드 Null 값 확인: 'price' 또는 'freight_value'가 Null인 행을 확인"
   ]
  },
  {
   "cell_type": "code",
   "execution_count": 27,
   "metadata": {},
   "outputs": [
    {
     "name": "stdout",
     "output_type": "stream",
     "text": [
      "'price' 또는 'freight_value'가 Null인 행 개수: 833\n"
     ]
    }
   ],
   "source": [
    "null_price_freight = df_train[df_train[['price', 'freight_value']].isnull().any(axis=1)]\n",
    "print(f\"'price' 또는 'freight_value'가 Null인 행 개수: {null_price_freight.shape[0]}\")\n"
   ]
  },
  {
   "cell_type": "markdown",
   "metadata": {},
   "source": [
    "결측치 처리: 'price' 또는 'freight_value'가 Null인 경우 해당 행 제거"
   ]
  },
  {
   "cell_type": "code",
   "execution_count": 28,
   "metadata": {},
   "outputs": [],
   "source": [
    "df_train = df_train.dropna(subset=['price', 'freight_value'])"
   ]
  },
  {
   "cell_type": "markdown",
   "metadata": {},
   "source": [
    "### 3. 결제 정보가 Null인 행 확인: 'payment_value'가 Null인 행을 확인"
   ]
  },
  {
   "cell_type": "code",
   "execution_count": 29,
   "metadata": {},
   "outputs": [
    {
     "name": "stdout",
     "output_type": "stream",
     "text": [
      "'payment_value'가 Null인 행 개수: 3\n"
     ]
    }
   ],
   "source": [
    "null_payment_value = df_train[df_train['payment_value'].isnull()]\n",
    "print(f\"'payment_value'가 Null인 행 개수: {null_payment_value.shape[0]}\")"
   ]
  },
  {
   "cell_type": "markdown",
   "metadata": {},
   "source": [
    "결측치 처리: 결제 정보가 Null인 경우 해당 행 제거"
   ]
  },
  {
   "cell_type": "code",
   "execution_count": 30,
   "metadata": {},
   "outputs": [],
   "source": [
    "df_train = df_train.dropna(subset=['payment_value'])"
   ]
  },
  {
   "cell_type": "markdown",
   "metadata": {},
   "source": [
    "### 4. 리뷰가 Null인 주문 확인: 'review_score'와 'review_comment_message'가 모두 Null인 행을 확인\n"
   ]
  },
  {
   "cell_type": "code",
   "execution_count": 31,
   "metadata": {},
   "outputs": [
    {
     "name": "stdout",
     "output_type": "stream",
     "text": [
      "'review_score'와 'review_comment_message'가 모두 Null인 행 개수: 978\n"
     ]
    }
   ],
   "source": [
    "null_review_info = df_train[df_train[['review_score', 'review_comment_message']].isnull().all(axis=1)]\n",
    "print(f\"'review_score'와 'review_comment_message'가 모두 Null인 행 개수: {null_review_info.shape[0]}\")\n"
   ]
  },
  {
   "cell_type": "markdown",
   "metadata": {},
   "source": [
    "보류"
   ]
  },
  {
   "cell_type": "markdown",
   "metadata": {},
   "source": [
    "### 5. 제품 속성 관련 Null 값 확인: 제품 관련 카테고리 이름 또는 무게 중 하나라도 Null인 행 확인"
   ]
  },
  {
   "cell_type": "code",
   "execution_count": 36,
   "metadata": {},
   "outputs": [
    {
     "name": "stdout",
     "output_type": "stream",
     "text": [
      "제품 속성 중 하나라도 Null인 행 개수: 1710\n"
     ]
    }
   ],
   "source": [
    "null_product_features = df_train[df_train[['product_category_name', 'product_weight_g']].isnull().any(axis=1)]\n",
    "print(f\"제품 속성 중 하나라도 Null인 행 개수: {null_product_features.shape[0]}\")"
   ]
  },
  {
   "cell_type": "code",
   "execution_count": 39,
   "metadata": {},
   "outputs": [
    {
     "name": "stdout",
     "output_type": "stream",
     "text": [
      "제품 무게 Null인 행 개수: 20\n"
     ]
    }
   ],
   "source": [
    "null_product_features = df_train[df_train[['product_weight_g']].isnull().any(axis=1)]\n",
    "print(f\"제품 무게 Null인 행 개수: {null_product_features.shape[0]}\")"
   ]
  },
  {
   "cell_type": "code",
   "execution_count": 40,
   "metadata": {},
   "outputs": [
    {
     "name": "stdout",
     "output_type": "stream",
     "text": [
      "제품 이름 Null인 행 개수: 1709\n"
     ]
    }
   ],
   "source": [
    "null_product_features = df_train[df_train[['product_category_name']].isnull().any(axis=1)]\n",
    "print(f\"제품 이름 Null인 행 개수: {null_product_features.shape[0]}\")"
   ]
  },
  {
   "cell_type": "markdown",
   "metadata": {},
   "source": [
    "결측치 처리: Null 값을 가진 행을 제거"
   ]
  },
  {
   "cell_type": "code",
   "execution_count": 41,
   "metadata": {},
   "outputs": [],
   "source": [
    "df_train = df_train.dropna(subset=['product_category_name', 'product_weight_g'])"
   ]
  },
  {
   "cell_type": "markdown",
   "metadata": {},
   "source": [
    "### 6. 고객 위치 정보가 Null인 경우 확인: 'customer_zip_code_prefix' 또는 'customer_city'가 Null인 행\n"
   ]
  },
  {
   "cell_type": "code",
   "execution_count": 32,
   "metadata": {},
   "outputs": [
    {
     "name": "stdout",
     "output_type": "stream",
     "text": [
      "'customer_zip_code_prefix' 또는 'customer_city'가 Null인 행 개수: 0\n"
     ]
    }
   ],
   "source": [
    "null_customer_location = df_train[df_train[['customer_zip_code_prefix', 'customer_city']].isnull().any(axis=1)]\n",
    "print(f\"'customer_zip_code_prefix' 또는 'customer_city'가 Null인 행 개수: {null_customer_location.shape[0]}\")\n"
   ]
  },
  {
   "cell_type": "markdown",
   "metadata": {},
   "source": [
    "### 7. 판매자 위치 정보가 Null인 경우 확인: 'seller_zip_code_prefix' 또는 'seller_city'가 Null인 행\n"
   ]
  },
  {
   "cell_type": "code",
   "execution_count": 42,
   "metadata": {},
   "outputs": [
    {
     "name": "stdout",
     "output_type": "stream",
     "text": [
      "'seller_zip_code_prefix' 또는 'seller_city'가 Null인 행 개수: 0\n"
     ]
    }
   ],
   "source": [
    "null_seller_location = df_train[df_train[['seller_zip_code_prefix', 'seller_city']].isnull().any(axis=1)]\n",
    "print(f\"'seller_zip_code_prefix' 또는 'seller_city'가 Null인 행 개수: {null_seller_location.shape[0]}\")\n"
   ]
  },
  {
   "cell_type": "markdown",
   "metadata": {},
   "source": [
    "### 8.결측치 확인"
   ]
  },
  {
   "cell_type": "code",
   "execution_count": 43,
   "metadata": {},
   "outputs": [
    {
     "name": "stdout",
     "output_type": "stream",
     "text": [
      "\n",
      "결측치 처리 후 데이터 프레임의 결측치 개수:\n",
      " order_id                              0\n",
      "customer_id                           0\n",
      "order_status                          0\n",
      "order_purchase_timestamp              0\n",
      "order_approved_at                    14\n",
      "order_delivered_carrier_date       1215\n",
      "order_delivered_customer_date      2517\n",
      "order_estimated_delivery_date         0\n",
      "order_item_id                         0\n",
      "product_id                            0\n",
      "seller_id                             0\n",
      "shipping_limit_date                   0\n",
      "price                                 0\n",
      "freight_value                         0\n",
      "payment_sequential                    0\n",
      "payment_type                          0\n",
      "payment_installments                  0\n",
      "payment_value                         0\n",
      "review_id                           964\n",
      "review_score                        964\n",
      "review_comment_title             102787\n",
      "review_comment_message            67679\n",
      "review_creation_date                964\n",
      "review_answer_timestamp             964\n",
      "product_category_name                 0\n",
      "product_name_lenght                   0\n",
      "product_description_lenght            0\n",
      "product_photos_qty                    0\n",
      "product_weight_g                      0\n",
      "product_length_cm                     0\n",
      "product_height_cm                     0\n",
      "product_width_cm                      0\n",
      "customer_unique_id                    0\n",
      "customer_zip_code_prefix              0\n",
      "customer_city                         0\n",
      "customer_state                        0\n",
      "seller_zip_code_prefix                0\n",
      "seller_city                           0\n",
      "seller_state                          0\n",
      "dtype: int64\n"
     ]
    }
   ],
   "source": [
    "# 최종 데이터 확인\n",
    "print(\"\\n결측치 처리 후 데이터 프레임의 결측치 개수:\\n\", df_train.isnull().sum())"
   ]
  },
  {
   "cell_type": "markdown",
   "metadata": {},
   "source": [
    "### 9.order_status에 따른 결측치 재확인"
   ]
  },
  {
   "cell_type": "code",
   "execution_count": 44,
   "metadata": {},
   "outputs": [
    {
     "name": "stdout",
     "output_type": "stream",
     "text": [
      "order_approved_at 값이 NULL일 때의 order_status 분포:\n",
      "\n",
      "order_status\n",
      "delivered    14\n",
      "Name: count, dtype: int64\n"
     ]
    }
   ],
   "source": [
    "null_approved_status = df_train[df_train['order_approved_at'].isnull()]['order_status']\n",
    "print(\"order_approved_at 값이 NULL일 때의 order_status 분포:\\n\")\n",
    "print(null_approved_status.value_counts())"
   ]
  },
  {
   "cell_type": "markdown",
   "metadata": {},
   "source": [
    "1) delivered: 고객에게 주문이 완료되어 배송된 상태  \n",
    "처리 방안: 이 상태에서는 order_approved_at, order_delivered_carrier_date, order_delivered_customer_date 모두 값이 있어야 함."
   ]
  },
  {
   "cell_type": "code",
   "execution_count": 51,
   "metadata": {},
   "outputs": [
    {
     "name": "stdout",
     "output_type": "stream",
     "text": [
      "'delivered' 상태에서 필요한 값이 Null인 행 개수: 23\n"
     ]
    }
   ],
   "source": [
    "# 'delivered' 상태에서 필요한 값이 Null인 경우 확인 및 제거\n",
    "delivered_null = df_train[(df_train['order_status'] == 'delivered') & (df_train[['order_approved_at', 'order_delivered_carrier_date', 'order_delivered_customer_date']].isnull().any(axis=1))]\n",
    "print(f\"'delivered' 상태에서 필요한 값이 Null인 행 개수: {delivered_null.shape[0]}\")"
   ]
  },
  {
   "cell_type": "code",
   "execution_count": 53,
   "metadata": {},
   "outputs": [],
   "source": [
    "df_train = df_train[~((df_train['order_status'] == 'delivered') & (df_train[['order_approved_at', 'order_delivered_carrier_date', 'order_delivered_customer_date']].isnull().any(axis=1)))]"
   ]
  },
  {
   "cell_type": "markdown",
   "metadata": {},
   "source": [
    "2. shipped: 주문이 발송되었으나 아직 고객에게 도착하지 않은 상태입니다.     \n",
    "처리 방안: order_approved_at과 order_delivered_carrier_date는 값이 있어야 하며, order_delivered_customer_date는 Null일 수 있습니다."
   ]
  },
  {
   "cell_type": "code",
   "execution_count": 54,
   "metadata": {},
   "outputs": [
    {
     "name": "stdout",
     "output_type": "stream",
     "text": [
      "'shipped' 상태에서 필요한 값이 Null인 행 개수: 0\n"
     ]
    }
   ],
   "source": [
    "shipped_null = df_train[(df_train['order_status'] == 'shipped') & (df_train[['order_approved_at', 'order_delivered_carrier_date']].isnull().any(axis=1))]\n",
    "print(f\"'shipped' 상태에서 필요한 값이 Null인 행 개수: {shipped_null.shape[0]}\")"
   ]
  },
  {
   "cell_type": "markdown",
   "metadata": {},
   "source": [
    "3. approved: 결제가 승인된 상태이며, 아직 배송은 시작되지 않은 상태입니다.  \n",
    "처리 방안: order_approved_at은 값이 있어야 하며, order_delivered_carrier_date와 order_delivered_customer_date는 Null일 수 있습니다."
   ]
  },
  {
   "cell_type": "code",
   "execution_count": 55,
   "metadata": {},
   "outputs": [
    {
     "name": "stdout",
     "output_type": "stream",
     "text": [
      "'approved' 상태에서 'order_approved_at'이 Null인 행 개수: 0\n"
     ]
    }
   ],
   "source": [
    "approved_null = df_train[(df_train['order_status'] == 'approved') & (df_train['order_approved_at'].isnull())]\n",
    "print(f\"'approved' 상태에서 'order_approved_at'이 Null인 행 개수: {approved_null.shape[0]}\")"
   ]
  },
  {
   "cell_type": "code",
   "execution_count": 56,
   "metadata": {},
   "outputs": [
    {
     "name": "stdout",
     "output_type": "stream",
     "text": [
      "\n",
      "결측치 처리 후 데이터 프레임의 결측치 개수:\n",
      " order_id                              0\n",
      "customer_id                           0\n",
      "order_status                          0\n",
      "order_purchase_timestamp              0\n",
      "order_approved_at                     0\n",
      "order_delivered_carrier_date       1213\n",
      "order_delivered_customer_date      2509\n",
      "order_estimated_delivery_date         0\n",
      "order_item_id                         0\n",
      "product_id                            0\n",
      "seller_id                             0\n",
      "shipping_limit_date                   0\n",
      "price                                 0\n",
      "freight_value                         0\n",
      "payment_sequential                    0\n",
      "payment_type                          0\n",
      "payment_installments                  0\n",
      "payment_value                         0\n",
      "review_id                           964\n",
      "review_score                        964\n",
      "review_comment_title             102768\n",
      "review_comment_message            67669\n",
      "review_creation_date                964\n",
      "review_answer_timestamp             964\n",
      "product_category_name                 0\n",
      "product_name_lenght                   0\n",
      "product_description_lenght            0\n",
      "product_photos_qty                    0\n",
      "product_weight_g                      0\n",
      "product_length_cm                     0\n",
      "product_height_cm                     0\n",
      "product_width_cm                      0\n",
      "customer_unique_id                    0\n",
      "customer_zip_code_prefix              0\n",
      "customer_city                         0\n",
      "customer_state                        0\n",
      "seller_zip_code_prefix                0\n",
      "seller_city                           0\n",
      "seller_state                          0\n",
      "dtype: int64\n"
     ]
    }
   ],
   "source": [
    "# 최종 데이터 확인\n",
    "print(\"\\n결측치 처리 후 데이터 프레임의 결측치 개수:\\n\", df_train.isnull().sum())"
   ]
  },
  {
   "cell_type": "markdown",
   "metadata": {},
   "source": [
    "review part 제외 결측치 처리 완료"
   ]
  },
  {
   "cell_type": "markdown",
   "metadata": {},
   "source": [
    "## EDA"
   ]
  }
 ],
 "metadata": {
  "kernelspec": {
   "display_name": "Python 3",
   "language": "python",
   "name": "python3"
  },
  "language_info": {
   "codemirror_mode": {
    "name": "ipython",
    "version": 3
   },
   "file_extension": ".py",
   "mimetype": "text/x-python",
   "name": "python",
   "nbconvert_exporter": "python",
   "pygments_lexer": "ipython3",
   "version": "3.10.8"
  }
 },
 "nbformat": 4,
 "nbformat_minor": 2
}
