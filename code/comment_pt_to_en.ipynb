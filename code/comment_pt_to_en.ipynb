{
 "cells": [
  {
   "cell_type": "code",
   "execution_count": 1,
   "metadata": {},
   "outputs": [],
   "source": [
    "# Importing Libraries\n",
    "import pandas as pd\n",
    "import numpy as np\n",
    "import matplotlib.pyplot as plt\n",
    "import seaborn as sns\n",
    "from matplotlib.gridspec import GridSpec\n",
    "import plotly.offline as py\n",
    "import plotly.express as px\n",
    "import plotly.graph_objs as go\n",
    "import json\n",
    "import requests\n",
    "from collections import Counter\n",
    "from PIL import Image\n",
    "from matplotlib.ticker import FuncFormatter\n",
    "from tqdm import tqdm\n",
    "#------------------------------------- \n",
    "import re\n",
    "from nltk.corpus import stopwords\n",
    "from nltk.stem import RSLPStemmer\n",
    "from sklearn.feature_extraction.text import CountVectorizer, TfidfVectorizer\n",
    "from sklearn.base import BaseEstimator, TransformerMixin\n",
    "from sklearn.pipeline import Pipeline\n",
    "import joblib\n",
    "from scipy import stats \n",
    "import folium\n",
    "from folium.plugins import FastMarkerCluster, Fullscreen, MiniMap, HeatMap, HeatMapWithTime, LocateControl"
   ]
  },
  {
   "cell_type": "code",
   "execution_count": 3,
   "metadata": {},
   "outputs": [],
   "source": [
    "path = '../data/'\n",
    "#Importing Datasets\n",
    "df_item = pd.read_csv(path+\"olist_order_items_dataset.csv\")\n",
    "df_reviews = pd.read_csv(path+\"olist_order_reviews_dataset.csv\")\n",
    "df_orders = pd.read_csv(path+\"olist_orders_dataset.csv\")\n",
    "df_products = pd.read_csv(path+\"olist_products_dataset.csv\")\n",
    "df_geolocation = pd.read_csv(path+\"olist_geolocation_dataset.csv\")\n",
    "df_sellers = pd.read_csv(path+\"olist_sellers_dataset.csv\")\n",
    "df_order_pay = pd.read_csv(path+\"olist_order_payments_dataset.csv\")\n",
    "df_customers = pd.read_csv(path+\"olist_customers_dataset.csv\")\n",
    "df_category = pd.read_csv(path+\"product_category_name_translation.csv\")"
   ]
  },
  {
   "cell_type": "code",
   "execution_count": 3,
   "metadata": {},
   "outputs": [],
   "source": [
    "df_list = [df_customers, df_item, df_order_pay, df_reviews, df_orders, df_products, df_sellers, df_geolocation, df_category]"
   ]
  },
  {
   "cell_type": "code",
   "execution_count": 4,
   "metadata": {},
   "outputs": [],
   "source": [
    "# Merging Datasets\n",
    "df_train = df_orders.merge(df_item, on='order_id', how='left')\n",
    "df_train = df_train.merge(df_order_pay, on='order_id', how='outer', validate='m:m')\n",
    "df_train = df_train.merge(df_reviews, on='order_id', how='outer')\n",
    "df_train = df_train.merge(df_products, on='product_id', how='outer')\n",
    "df_train = df_train.merge(df_customers, on='customer_id', how='outer')\n",
    "df_train = df_train.merge(df_sellers, on='seller_id', how='outer')"
   ]
  },
  {
   "cell_type": "code",
   "execution_count": 30,
   "metadata": {},
   "outputs": [],
   "source": [
    "df_train['review_comment_message_en'] = None"
   ]
  },
  {
   "cell_type": "code",
   "execution_count": 2,
   "metadata": {},
   "outputs": [],
   "source": [
    "train_df = pd.read_csv(\"../data/train.csv\")"
   ]
  },
  {
   "cell_type": "code",
   "execution_count": null,
   "metadata": {},
   "outputs": [],
   "source": []
  },
  {
   "cell_type": "code",
   "execution_count": 3,
   "metadata": {},
   "outputs": [
    {
     "name": "stderr",
     "output_type": "stream",
     "text": [
      "c:\\Python310\\lib\\site-packages\\tqdm\\auto.py:21: TqdmWarning:\n",
      "\n",
      "IProgress not found. Please update jupyter and ipywidgets. See https://ipywidgets.readthedocs.io/en/stable/user_install.html\n",
      "\n"
     ]
    }
   ],
   "source": [
    "from transformers import MBartForConditionalGeneration, MBart50TokenizerFast\n",
    "\n",
    "# mBART 모델 불러오기 (포르투갈어 -> 영어)\n",
    "model_name = 'facebook/mbart-large-50-many-to-many-mmt'\n",
    "\n",
    "model = MBartForConditionalGeneration.from_pretrained(\"facebook/mbart-large-50-many-to-many-mmt\")\n",
    "tokenizer = MBart50TokenizerFast.from_pretrained(\"facebook/mbart-large-50-many-to-many-mmt\")\n",
    "\n",
    "# 모델이 번역할 소스 언어를 설정 (포르투갈어)\n",
    "tokenizer.src_lang = \"pt_XX\""
   ]
  },
  {
   "cell_type": "code",
   "execution_count": 3,
   "metadata": {},
   "outputs": [
    {
     "name": "stdout",
     "output_type": "stream",
     "text": [
      "['Hi, how are you?']\n"
     ]
    }
   ],
   "source": [
    "# # 번역할 포르투갈어 문장\n",
    "\n",
    "# text_pt = \"Olá, como você está?\"\n",
    "\n",
    "# # 텍스트를 토큰화\n",
    "# tokens = tokenizer(text_pt, return_tensors=\"pt\")\n",
    "\n",
    "# # 번역 수행\n",
    "# translated = model.generate(**tokens, forced_bos_token_id=tokenizer.lang_code_to_id[\"en_XX\"])\n",
    "\n",
    "# # 번역된 텍스트를 디코딩\n",
    "# translated_text = tokenizer.batch_decode(translated, skip_special_tokens=True)\n",
    "\n",
    "# # 결과 출력\n",
    "# print(translated_text)\n"
   ]
  },
  {
   "cell_type": "code",
   "execution_count": 4,
   "metadata": {},
   "outputs": [],
   "source": [
    "def translate_to_english(text_pt):\n",
    "    if pd.isnull(text_pt):  # Null 값 처리\n",
    "        return None\n",
    "    tokens = tokenizer(text_pt, return_tensors=\"pt\")\n",
    "    translated = model.generate(**tokens, forced_bos_token_id=tokenizer.lang_code_to_id[\"en_XX\"])\n",
    "    translated_text = tokenizer.batch_decode(translated, skip_special_tokens=True)\n",
    "    return translated_text[0]"
   ]
  },
  {
   "cell_type": "code",
   "execution_count": 6,
   "metadata": {},
   "outputs": [],
   "source": [
    "comment_df = pd.DataFrame(train_df.loc[:,'review_comment_message'])"
   ]
  },
  {
   "cell_type": "code",
   "execution_count": 26,
   "metadata": {},
   "outputs": [
    {
     "data": {
      "text/plain": [
       "(119143, 1)"
      ]
     },
     "execution_count": 26,
     "metadata": {},
     "output_type": "execute_result"
    }
   ],
   "source": [
    "comment_df.shape"
   ]
  },
  {
   "cell_type": "code",
   "execution_count": 7,
   "metadata": {},
   "outputs": [],
   "source": [
    "comment_df = comment_df.dropna()"
   ]
  },
  {
   "cell_type": "code",
   "execution_count": 8,
   "metadata": {},
   "outputs": [
    {
     "data": {
      "text/plain": [
       "(48905, 1)"
      ]
     },
     "execution_count": 8,
     "metadata": {},
     "output_type": "execute_result"
    }
   ],
   "source": [
    "comment_df.shape"
   ]
  },
  {
   "cell_type": "code",
   "execution_count": 9,
   "metadata": {},
   "outputs": [],
   "source": [
    "comment_df = comment_df.drop_duplicates()"
   ]
  },
  {
   "cell_type": "code",
   "execution_count": 10,
   "metadata": {},
   "outputs": [
    {
     "data": {
      "text/plain": [
       "(35175, 1)"
      ]
     },
     "execution_count": 10,
     "metadata": {},
     "output_type": "execute_result"
    }
   ],
   "source": [
    "comment_df.shape"
   ]
  },
  {
   "cell_type": "code",
   "execution_count": 11,
   "metadata": {},
   "outputs": [],
   "source": [
    "comment_df['review_comment_message_en'] = None"
   ]
  },
  {
   "cell_type": "code",
   "execution_count": 12,
   "metadata": {},
   "outputs": [
    {
     "name": "stderr",
     "output_type": "stream",
     "text": [
      "100%|██████████| 35175/35175 [87:26:23<00:00,  8.95s/it]    \n"
     ]
    }
   ],
   "source": [
    "tqdm.pandas()  # tqdm의 progress_apply를 사용하기 위해 설정\n",
    "comment_df['review_comment_message_en'] = comment_df['review_comment_message'].progress_apply(translate_to_english)"
   ]
  },
  {
   "cell_type": "code",
   "execution_count": 14,
   "metadata": {},
   "outputs": [
    {
     "data": {
      "text/plain": [
       "1         Black product, repacked in a white box, lots o...\n",
       "5         WE'RE STILL EXPERIENCED WITH A RECOMMENDATION ...\n",
       "6                                                Very good.\n",
       "10        It arrives by the deadline. Very good product,...\n",
       "11                                               excellent.\n",
       "                                ...                        \n",
       "116565    Thank you very much, a note 10 for your attent...\n",
       "116566         I got it delivered on time. I appreciate it.\n",
       "116570     That layer doesn't fit right. I can't change it.\n",
       "116571    So he waited a long time for me to let him kno...\n",
       "116572                                               Right.\n",
       "Name: review_comment_message_en, Length: 35175, dtype: object"
      ]
     },
     "execution_count": 14,
     "metadata": {},
     "output_type": "execute_result"
    }
   ],
   "source": [
    "comment_df['review_comment_message_en']"
   ]
  },
  {
   "cell_type": "code",
   "execution_count": 18,
   "metadata": {},
   "outputs": [],
   "source": [
    "comment_df.to_csv(\"../data/comment_translation.csv\", index=False)"
   ]
  }
 ],
 "metadata": {
  "kernelspec": {
   "display_name": "Python 3",
   "language": "python",
   "name": "python3"
  },
  "language_info": {
   "codemirror_mode": {
    "name": "ipython",
    "version": 3
   },
   "file_extension": ".py",
   "mimetype": "text/x-python",
   "name": "python",
   "nbconvert_exporter": "python",
   "pygments_lexer": "ipython3",
   "version": "3.10.8"
  }
 },
 "nbformat": 4,
 "nbformat_minor": 2
}
