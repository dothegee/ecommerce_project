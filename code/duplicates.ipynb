{
 "cells": [
  {
   "cell_type": "code",
   "execution_count": 1,
   "metadata": {},
   "outputs": [
    {
     "data": {
      "text/html": [
       "<div>\n",
       "<style scoped>\n",
       "    .dataframe tbody tr th:only-of-type {\n",
       "        vertical-align: middle;\n",
       "    }\n",
       "\n",
       "    .dataframe tbody tr th {\n",
       "        vertical-align: top;\n",
       "    }\n",
       "\n",
       "    .dataframe thead th {\n",
       "        text-align: right;\n",
       "    }\n",
       "</style>\n",
       "<table border=\"1\" class=\"dataframe\">\n",
       "  <thead>\n",
       "    <tr style=\"text-align: right;\">\n",
       "      <th></th>\n",
       "      <th>review_comment_message</th>\n",
       "      <th>review_comment_message_en</th>\n",
       "    </tr>\n",
       "  </thead>\n",
       "  <tbody>\n",
       "    <tr>\n",
       "      <th>0</th>\n",
       "      <td>Produto preto, reembalado na caixa de um branc...</td>\n",
       "      <td>Black product, repackaged in a white box. Very...</td>\n",
       "    </tr>\n",
       "    <tr>\n",
       "      <th>1</th>\n",
       "      <td>FICAMOS ESPERANDO UMA ENCOMENDA PAGA QUE NUNCA...</td>\n",
       "      <td>로드 중...</td>\n",
       "    </tr>\n",
       "    <tr>\n",
       "      <th>2</th>\n",
       "      <td>Otimo muito bom</td>\n",
       "      <td>Excellent very good</td>\n",
       "    </tr>\n",
       "    <tr>\n",
       "      <th>3</th>\n",
       "      <td>Entrega antes do prazo. Produto muito bom e bo...</td>\n",
       "      <td>로드 중...</td>\n",
       "    </tr>\n",
       "    <tr>\n",
       "      <th>4</th>\n",
       "      <td>excelente.</td>\n",
       "      <td>excellent.</td>\n",
       "    </tr>\n",
       "  </tbody>\n",
       "</table>\n",
       "</div>"
      ],
      "text/plain": [
       "                              review_comment_message  \\\n",
       "0  Produto preto, reembalado na caixa de um branc...   \n",
       "1  FICAMOS ESPERANDO UMA ENCOMENDA PAGA QUE NUNCA...   \n",
       "2                                    Otimo muito bom   \n",
       "3  Entrega antes do prazo. Produto muito bom e bo...   \n",
       "4                                         excelente.   \n",
       "\n",
       "                           review_comment_message_en  \n",
       "0  Black product, repackaged in a white box. Very...  \n",
       "1                                            로드 중...  \n",
       "2                                Excellent very good  \n",
       "3                                            로드 중...  \n",
       "4                                         excellent.  "
      ]
     },
     "execution_count": 1,
     "metadata": {},
     "output_type": "execute_result"
    }
   ],
   "source": [
    "import pandas as pd\n",
    "t = pd.read_csv('../data/comment_translation.csv')\n",
    "t.head()"
   ]
  },
  {
   "cell_type": "code",
   "execution_count": 2,
   "metadata": {},
   "outputs": [
    {
     "data": {
      "text/plain": [
       "pandas.core.frame.DataFrame"
      ]
     },
     "execution_count": 2,
     "metadata": {},
     "output_type": "execute_result"
    }
   ],
   "source": [
    "type(t)"
   ]
  },
  {
   "cell_type": "code",
   "execution_count": 3,
   "metadata": {},
   "outputs": [
    {
     "data": {
      "text/plain": [
       "(50245, 2)"
      ]
     },
     "execution_count": 3,
     "metadata": {},
     "output_type": "execute_result"
    }
   ],
   "source": [
    "t.shape"
   ]
  },
  {
   "cell_type": "code",
   "execution_count": 4,
   "metadata": {},
   "outputs": [
    {
     "data": {
      "text/plain": [
       "[39818, 39819]"
      ]
     },
     "execution_count": 4,
     "metadata": {},
     "output_type": "execute_result"
    }
   ],
   "source": [
    "t[t['review_comment_message_en'].isnull()].index.tolist()"
   ]
  },
  {
   "cell_type": "code",
   "execution_count": 37,
   "metadata": {},
   "outputs": [],
   "source": [
    "t = t.dropna(subset = ['review_comment_message'])"
   ]
  },
  {
   "cell_type": "code",
   "execution_count": 5,
   "metadata": {},
   "outputs": [
    {
     "data": {
      "text/html": [
       "<div>\n",
       "<style scoped>\n",
       "    .dataframe tbody tr th:only-of-type {\n",
       "        vertical-align: middle;\n",
       "    }\n",
       "\n",
       "    .dataframe tbody tr th {\n",
       "        vertical-align: top;\n",
       "    }\n",
       "\n",
       "    .dataframe thead th {\n",
       "        text-align: right;\n",
       "    }\n",
       "</style>\n",
       "<table border=\"1\" class=\"dataframe\">\n",
       "  <thead>\n",
       "    <tr style=\"text-align: right;\">\n",
       "      <th></th>\n",
       "      <th>review_comment_message</th>\n",
       "      <th>review_comment_message_en</th>\n",
       "    </tr>\n",
       "  </thead>\n",
       "  <tbody>\n",
       "    <tr>\n",
       "      <th>30168</th>\n",
       "      <td>Tudo ok! Recomendo!</td>\n",
       "      <td>Everything ok! I recommend!</td>\n",
       "    </tr>\n",
       "    <tr>\n",
       "      <th>39811</th>\n",
       "      <td>almofadas lindas porem meu pedido paguei por 6...</td>\n",
       "      <td>로드 중...</td>\n",
       "    </tr>\n",
       "    <tr>\n",
       "      <th>39812</th>\n",
       "      <td>almofadas lindas porem meu pedido paguei por 6...</td>\n",
       "      <td>로드 중...</td>\n",
       "    </tr>\n",
       "  </tbody>\n",
       "</table>\n",
       "</div>"
      ],
      "text/plain": [
       "                                  review_comment_message  \\\n",
       "30168                                Tudo ok! Recomendo!   \n",
       "39811  almofadas lindas porem meu pedido paguei por 6...   \n",
       "39812  almofadas lindas porem meu pedido paguei por 6...   \n",
       "\n",
       "         review_comment_message_en  \n",
       "30168  Everything ok! I recommend!  \n",
       "39811                      로드 중...  \n",
       "39812                      로드 중...  "
      ]
     },
     "execution_count": 5,
     "metadata": {},
     "output_type": "execute_result"
    }
   ],
   "source": [
    "t.iloc[[30168, 39811, 39812],:]"
   ]
  },
  {
   "cell_type": "code",
   "execution_count": 45,
   "metadata": {},
   "outputs": [],
   "source": [
    "t.iloc[30168,1] = 'None'\n",
    "t.iloc[39811,1] = 'N/A'\n",
    "t.iloc[39812,1] = 'N/A'\n"
   ]
  },
  {
   "cell_type": "code",
   "execution_count": 49,
   "metadata": {},
   "outputs": [],
   "source": [
    "t = t.drop_duplicates()\n"
   ]
  },
  {
   "cell_type": "code",
   "execution_count": 50,
   "metadata": {},
   "outputs": [
    {
     "data": {
      "text/html": [
       "<div>\n",
       "<style scoped>\n",
       "    .dataframe tbody tr th:only-of-type {\n",
       "        vertical-align: middle;\n",
       "    }\n",
       "\n",
       "    .dataframe tbody tr th {\n",
       "        vertical-align: top;\n",
       "    }\n",
       "\n",
       "    .dataframe thead th {\n",
       "        text-align: right;\n",
       "    }\n",
       "</style>\n",
       "<table border=\"1\" class=\"dataframe\">\n",
       "  <thead>\n",
       "    <tr style=\"text-align: right;\">\n",
       "      <th></th>\n",
       "      <th>review_comment_message</th>\n",
       "      <th>review_comment_message_en</th>\n",
       "    </tr>\n",
       "  </thead>\n",
       "  <tbody>\n",
       "    <tr>\n",
       "      <th>0</th>\n",
       "      <td>Produto preto, reembalado na caixa de um branc...</td>\n",
       "      <td>Black product, repackaged in a white box. Very...</td>\n",
       "    </tr>\n",
       "    <tr>\n",
       "      <th>1</th>\n",
       "      <td>FICAMOS ESPERANDO UMA ENCOMENDA PAGA QUE NUNCA...</td>\n",
       "      <td>WE ARE WAITING FOR A PAID ORDER THAT NEVER ARR...</td>\n",
       "    </tr>\n",
       "    <tr>\n",
       "      <th>2</th>\n",
       "      <td>Otimo muito bom</td>\n",
       "      <td>Excellent very good</td>\n",
       "    </tr>\n",
       "    <tr>\n",
       "      <th>3</th>\n",
       "      <td>Entrega antes do prazo. Produto muito bom e bo...</td>\n",
       "      <td>Delivery ahead of schedule. Very good and beau...</td>\n",
       "    </tr>\n",
       "    <tr>\n",
       "      <th>4</th>\n",
       "      <td>excelente.</td>\n",
       "      <td>excellent.</td>\n",
       "    </tr>\n",
       "    <tr>\n",
       "      <th>...</th>\n",
       "      <td>...</td>\n",
       "      <td>...</td>\n",
       "    </tr>\n",
       "    <tr>\n",
       "      <th>50240</th>\n",
       "      <td>Solicitei um produto e foi entregue outro, est...</td>\n",
       "      <td>I ordered a product and another was delivered,...</td>\n",
       "    </tr>\n",
       "    <tr>\n",
       "      <th>50241</th>\n",
       "      <td>A loja targaryen informou que nao possuía o pr...</td>\n",
       "      <td>The targaryen store reported that it did not h...</td>\n",
       "    </tr>\n",
       "    <tr>\n",
       "      <th>50242</th>\n",
       "      <td>recebi parcial pois veio somente 01 unidade e ...</td>\n",
       "      <td>I received partial because only 01 unit arrive...</td>\n",
       "    </tr>\n",
       "    <tr>\n",
       "      <th>50243</th>\n",
       "      <td>Não recomendo esta loja pois só fique sabendo ...</td>\n",
       "      <td>I don't recommend this store because you only ...</td>\n",
       "    </tr>\n",
       "    <tr>\n",
       "      <th>50244</th>\n",
       "      <td>Chegou na data informada estou satisfeita com ...</td>\n",
       "      <td>It arrived on the stated date, I am satisfied ...</td>\n",
       "    </tr>\n",
       "  </tbody>\n",
       "</table>\n",
       "<p>35745 rows × 2 columns</p>\n",
       "</div>"
      ],
      "text/plain": [
       "                                  review_comment_message  \\\n",
       "0      Produto preto, reembalado na caixa de um branc...   \n",
       "1      FICAMOS ESPERANDO UMA ENCOMENDA PAGA QUE NUNCA...   \n",
       "2                                        Otimo muito bom   \n",
       "3      Entrega antes do prazo. Produto muito bom e bo...   \n",
       "4                                             excelente.   \n",
       "...                                                  ...   \n",
       "50240  Solicitei um produto e foi entregue outro, est...   \n",
       "50241  A loja targaryen informou que nao possuía o pr...   \n",
       "50242  recebi parcial pois veio somente 01 unidade e ...   \n",
       "50243  Não recomendo esta loja pois só fique sabendo ...   \n",
       "50244  Chegou na data informada estou satisfeita com ...   \n",
       "\n",
       "                               review_comment_message_en  \n",
       "0      Black product, repackaged in a white box. Very...  \n",
       "1      WE ARE WAITING FOR A PAID ORDER THAT NEVER ARR...  \n",
       "2                                    Excellent very good  \n",
       "3      Delivery ahead of schedule. Very good and beau...  \n",
       "4                                             excellent.  \n",
       "...                                                  ...  \n",
       "50240  I ordered a product and another was delivered,...  \n",
       "50241  The targaryen store reported that it did not h...  \n",
       "50242  I received partial because only 01 unit arrive...  \n",
       "50243  I don't recommend this store because you only ...  \n",
       "50244  It arrived on the stated date, I am satisfied ...  \n",
       "\n",
       "[35745 rows x 2 columns]"
      ]
     },
     "execution_count": 50,
     "metadata": {},
     "output_type": "execute_result"
    }
   ],
   "source": [
    "t"
   ]
  },
  {
   "cell_type": "code",
   "execution_count": 51,
   "metadata": {},
   "outputs": [],
   "source": [
    "t.to_csv('../data/comment_translation_drop_dup.csv', index=False)"
   ]
  }
 ],
 "metadata": {
  "kernelspec": {
   "display_name": "Python 3",
   "language": "python",
   "name": "python3"
  },
  "language_info": {
   "codemirror_mode": {
    "name": "ipython",
    "version": 3
   },
   "file_extension": ".py",
   "mimetype": "text/x-python",
   "name": "python",
   "nbconvert_exporter": "python",
   "pygments_lexer": "ipython3",
   "version": "3.10.8"
  }
 },
 "nbformat": 4,
 "nbformat_minor": 2
}
