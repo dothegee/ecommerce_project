{
 "cells": [
  {
   "cell_type": "markdown",
   "metadata": {},
   "source": [
    "# Import Library"
   ]
  },
  {
   "cell_type": "code",
   "execution_count": 1,
   "metadata": {},
   "outputs": [
    {
     "name": "stderr",
     "output_type": "stream",
     "text": [
      "c:\\Python310\\lib\\site-packages\\tqdm\\auto.py:21: TqdmWarning: IProgress not found. Please update jupyter and ipywidgets. See https://ipywidgets.readthedocs.io/en/stable/user_install.html\n",
      "  from .autonotebook import tqdm as notebook_tqdm\n"
     ]
    }
   ],
   "source": [
    "import torch\n",
    "import torch.nn as nn\n",
    "from transformers import RobertaTokenizer, RobertaForSequenceClassification, Trainer, TrainingArguments\n",
    "from transformers import RobertaTokenizer, RobertaForSequenceClassification, AdamW\n",
    "from torch.utils.data import Dataset, DataLoader\n",
    "from tqdm import tqdm\n",
    "from sklearn.metrics import f1_score, classification_report\n",
    "import numpy as np\n",
    "import pandas as pd\n",
    "import os"
   ]
  },
  {
   "cell_type": "markdown",
   "metadata": {},
   "source": [
    "# 모델 로드"
   ]
  },
  {
   "cell_type": "code",
   "execution_count": 2,
   "metadata": {},
   "outputs": [],
   "source": [
    "# GPU 설정\n",
    "device = torch.device(\"cuda\" if torch.cuda.is_available() else \"cpu\")\n"
   ]
  },
  {
   "cell_type": "markdown",
   "metadata": {},
   "source": [
    "## 모델 클래스 정의"
   ]
  },
  {
   "cell_type": "code",
   "execution_count": 3,
   "metadata": {},
   "outputs": [],
   "source": [
    "class CustomRobertaForMultiLabelClassification(nn.Module):\n",
    "    def __init__(self, num_labels_per_category=3, num_categories=5):\n",
    "        super(CustomRobertaForMultiLabelClassification, self).__init__()\n",
    "        self.roberta = RobertaForSequenceClassification.from_pretrained(\"roberta-base\", num_labels=num_labels_per_category)\n",
    "        self.num_categories = num_categories\n",
    "        self.classifiers = nn.ModuleList([nn.Linear(self.roberta.config.hidden_size, num_labels_per_category) for _ in range(num_categories)])\n",
    "\n",
    "    def forward(self, input_ids, attention_mask, labels=None):\n",
    "        outputs = self.roberta.roberta(input_ids=input_ids, attention_mask=attention_mask)\n",
    "        logits = torch.stack([classifier(outputs.last_hidden_state[:, 0, :]) for classifier in self.classifiers], dim=1)\n",
    "        \n",
    "        loss = None\n",
    "        if labels is not None:\n",
    "            loss_fct = nn.CrossEntropyLoss()\n",
    "            losses = [loss_fct(logits[:, i, :], labels[:, i]) for i in range(self.num_categories)]\n",
    "            loss = sum(losses) / self.num_categories\n",
    "        \n",
    "        return {\"loss\": loss, \"logits\": logits}\n"
   ]
  },
  {
   "cell_type": "code",
   "execution_count": 4,
   "metadata": {},
   "outputs": [
    {
     "name": "stderr",
     "output_type": "stream",
     "text": [
      "Some weights of RobertaForSequenceClassification were not initialized from the model checkpoint at roberta-base and are newly initialized: ['classifier.dense.bias', 'classifier.dense.weight', 'classifier.out_proj.bias', 'classifier.out_proj.weight']\n",
      "You should probably TRAIN this model on a down-stream task to be able to use it for predictions and inference.\n",
      "C:\\Users\\Public\\Documents\\ESTsoft\\CreatorTemp\\ipykernel_8240\\2242597953.py:7: FutureWarning: You are using `torch.load` with `weights_only=False` (the current default value), which uses the default pickle module implicitly. It is possible to construct malicious pickle data which will execute arbitrary code during unpickling (See https://github.com/pytorch/pytorch/blob/main/SECURITY.md#untrusted-models for more details). In a future release, the default value for `weights_only` will be flipped to `True`. This limits the functions that could be executed during unpickling. Arbitrary objects will no longer be allowed to be loaded via this mode unless they are explicitly allowlisted by the user via `torch.serialization.add_safe_globals`. We recommend you start setting `weights_only=True` for any use case where you don't have full control of the loaded file. Please open an issue on GitHub for any issues related to this experimental feature.\n",
      "  model.load_state_dict(torch.load(model_path, map_location=device))\n"
     ]
    },
    {
     "name": "stdout",
     "output_type": "stream",
     "text": [
      "Loaded model: custom_roberta_model_1000_3epoch.pth\n"
     ]
    }
   ],
   "source": [
    "model_folder = \"../model\"\n",
    "model_file = \"custom_roberta_model_1000_3epoch.pth\"  # 사용할 모델 파일 이름\n",
    "model_path = os.path.join(model_folder, model_file)\n",
    "\n",
    "# 모델 로드\n",
    "model = CustomRobertaForMultiLabelClassification()\n",
    "model.load_state_dict(torch.load(model_path, map_location=device))\n",
    "model.to(device)\n",
    "model.eval()\n",
    "print(f\"Loaded model: {model_file}\")"
   ]
  },
  {
   "cell_type": "markdown",
   "metadata": {},
   "source": [
    "## 토크나이저 로드"
   ]
  },
  {
   "cell_type": "code",
   "execution_count": 5,
   "metadata": {},
   "outputs": [],
   "source": [
    "tokenizer = RobertaTokenizer.from_pretrained(\"roberta-base\")"
   ]
  },
  {
   "cell_type": "markdown",
   "metadata": {},
   "source": [
    "# predict 함수"
   ]
  },
  {
   "cell_type": "code",
   "execution_count": 6,
   "metadata": {},
   "outputs": [],
   "source": [
    "def predict(model, sentence, tokenizer, device):\n",
    "    model.eval()\n",
    "    \n",
    "    inputs = tokenizer(\n",
    "        sentence,\n",
    "        padding='max_length',\n",
    "        truncation=True,\n",
    "        max_length=128,\n",
    "        return_tensors=\"pt\"\n",
    "    )\n",
    "    \n",
    "    input_ids = inputs['input_ids'].to(device)\n",
    "    attention_mask = inputs['attention_mask'].to(device)\n",
    "    \n",
    "    with torch.no_grad():\n",
    "        outputs = model(input_ids=input_ids, attention_mask=attention_mask)\n",
    "        logits = outputs['logits']\n",
    "        predictions = torch.argmax(logits, dim=-1).cpu().numpy().squeeze() - 1\n",
    "    \n",
    "    labels = ['Product_Quality', 'Delivery', 'Price', 'Repurchase_Intention', 'etc']\n",
    "    prediction_dict = {label: pred for label, pred in zip(labels, predictions)}\n",
    "    \n",
    "    return prediction_dict"
   ]
  },
  {
   "cell_type": "markdown",
   "metadata": {},
   "source": [
    "# Data Load"
   ]
  },
  {
   "cell_type": "code",
   "execution_count": 43,
   "metadata": {},
   "outputs": [],
   "source": [
    "df = pd.read_csv(\"../data/comment_translation_labeling.csv\")"
   ]
  },
  {
   "cell_type": "code",
   "execution_count": 44,
   "metadata": {},
   "outputs": [],
   "source": [
    "texts = df.loc[1200:, 'review_comment_message_en'].tolist()"
   ]
  },
  {
   "cell_type": "code",
   "execution_count": 7,
   "metadata": {},
   "outputs": [],
   "source": [
    "df = pd.read_csv(\"../data/comment_translation.csv\")"
   ]
  },
  {
   "cell_type": "code",
   "execution_count": 9,
   "metadata": {},
   "outputs": [
    {
     "data": {
      "text/html": [
       "<div>\n",
       "<style scoped>\n",
       "    .dataframe tbody tr th:only-of-type {\n",
       "        vertical-align: middle;\n",
       "    }\n",
       "\n",
       "    .dataframe tbody tr th {\n",
       "        vertical-align: top;\n",
       "    }\n",
       "\n",
       "    .dataframe thead th {\n",
       "        text-align: right;\n",
       "    }\n",
       "</style>\n",
       "<table border=\"1\" class=\"dataframe\">\n",
       "  <thead>\n",
       "    <tr style=\"text-align: right;\">\n",
       "      <th></th>\n",
       "      <th>review_comment_message</th>\n",
       "      <th>review_comment_message_en</th>\n",
       "    </tr>\n",
       "  </thead>\n",
       "  <tbody>\n",
       "    <tr>\n",
       "      <th>0</th>\n",
       "      <td>Produto preto, reembalado na caixa de um branc...</td>\n",
       "      <td>Black product, repacked in a white box, lots o...</td>\n",
       "    </tr>\n",
       "    <tr>\n",
       "      <th>1</th>\n",
       "      <td>FICAMOS ESPERANDO UMA ENCOMENDA PAGA QUE NUNCA...</td>\n",
       "      <td>WE'RE STILL EXPERIENCED WITH A RECOMMENDATION ...</td>\n",
       "    </tr>\n",
       "    <tr>\n",
       "      <th>2</th>\n",
       "      <td>Otimo muito bom</td>\n",
       "      <td>Very good.</td>\n",
       "    </tr>\n",
       "    <tr>\n",
       "      <th>3</th>\n",
       "      <td>Entrega antes do prazo. Produto muito bom e bo...</td>\n",
       "      <td>It arrives by the deadline. Very good product,...</td>\n",
       "    </tr>\n",
       "    <tr>\n",
       "      <th>4</th>\n",
       "      <td>excelente.</td>\n",
       "      <td>excellent.</td>\n",
       "    </tr>\n",
       "    <tr>\n",
       "      <th>...</th>\n",
       "      <td>...</td>\n",
       "      <td>...</td>\n",
       "    </tr>\n",
       "    <tr>\n",
       "      <th>35170</th>\n",
       "      <td>Muito obrigada , uma atenção nota 10, profissi...</td>\n",
       "      <td>Thank you very much, a note 10 for your attent...</td>\n",
       "    </tr>\n",
       "    <tr>\n",
       "      <th>35171</th>\n",
       "      <td>Produto entregue dentro do prazo . Gostei muito.</td>\n",
       "      <td>I got it delivered on time. I appreciate it.</td>\n",
       "    </tr>\n",
       "    <tr>\n",
       "      <th>35172</th>\n",
       "      <td>Essa capa não encaixa direito. Não consigo tro...</td>\n",
       "      <td>That layer doesn't fit right. I can't change it.</td>\n",
       "    </tr>\n",
       "    <tr>\n",
       "      <th>35173</th>\n",
       "      <td>Mim deixou esperar muito tempo, para depois vi...</td>\n",
       "      <td>So he waited a long time for me to let him kno...</td>\n",
       "    </tr>\n",
       "    <tr>\n",
       "      <th>35174</th>\n",
       "      <td>Td corrreto</td>\n",
       "      <td>Right.</td>\n",
       "    </tr>\n",
       "  </tbody>\n",
       "</table>\n",
       "<p>35175 rows × 2 columns</p>\n",
       "</div>"
      ],
      "text/plain": [
       "                                  review_comment_message  \\\n",
       "0      Produto preto, reembalado na caixa de um branc...   \n",
       "1      FICAMOS ESPERANDO UMA ENCOMENDA PAGA QUE NUNCA...   \n",
       "2                                        Otimo muito bom   \n",
       "3      Entrega antes do prazo. Produto muito bom e bo...   \n",
       "4                                             excelente.   \n",
       "...                                                  ...   \n",
       "35170  Muito obrigada , uma atenção nota 10, profissi...   \n",
       "35171   Produto entregue dentro do prazo . Gostei muito.   \n",
       "35172  Essa capa não encaixa direito. Não consigo tro...   \n",
       "35173  Mim deixou esperar muito tempo, para depois vi...   \n",
       "35174                                        Td corrreto   \n",
       "\n",
       "                               review_comment_message_en  \n",
       "0      Black product, repacked in a white box, lots o...  \n",
       "1      WE'RE STILL EXPERIENCED WITH A RECOMMENDATION ...  \n",
       "2                                             Very good.  \n",
       "3      It arrives by the deadline. Very good product,...  \n",
       "4                                             excellent.  \n",
       "...                                                  ...  \n",
       "35170  Thank you very much, a note 10 for your attent...  \n",
       "35171       I got it delivered on time. I appreciate it.  \n",
       "35172   That layer doesn't fit right. I can't change it.  \n",
       "35173  So he waited a long time for me to let him kno...  \n",
       "35174                                             Right.  \n",
       "\n",
       "[35175 rows x 2 columns]"
      ]
     },
     "execution_count": 9,
     "metadata": {},
     "output_type": "execute_result"
    }
   ],
   "source": [
    "df"
   ]
  },
  {
   "cell_type": "code",
   "execution_count": 10,
   "metadata": {},
   "outputs": [],
   "source": [
    "texts = df.loc[:,'review_comment_message_en'].tolist()"
   ]
  },
  {
   "cell_type": "markdown",
   "metadata": {},
   "source": [
    "# Labeling"
   ]
  },
  {
   "cell_type": "markdown",
   "metadata": {},
   "source": [
    "## 오류 발생으로 오류 해결\n",
    "- 오류 사유 null 값 존재"
   ]
  },
  {
   "cell_type": "code",
   "execution_count": 11,
   "metadata": {},
   "outputs": [
    {
     "data": {
      "text/plain": [
       "0"
      ]
     },
     "execution_count": 11,
     "metadata": {},
     "output_type": "execute_result"
    }
   ],
   "source": [
    "df.loc[1200:, 'review_comment_message_en'].isnull().sum()"
   ]
  },
  {
   "cell_type": "code",
   "execution_count": 46,
   "metadata": {},
   "outputs": [],
   "source": [
    "t = pd.DataFrame(df.loc[1200:, 'review_comment_message_en'])"
   ]
  },
  {
   "cell_type": "code",
   "execution_count": 47,
   "metadata": {},
   "outputs": [
    {
     "name": "stdout",
     "output_type": "stream",
     "text": [
      "Rows with null values:\n",
      "       review_comment_message_en\n",
      "21811                       NaN\n",
      "28507                       NaN\n"
     ]
    }
   ],
   "source": [
    "# null 값이 포함된 행 찾기\n",
    "rows_with_null = t[t.isnull().any(axis=1)]\n",
    "\n",
    "# null 값이 포함된 행 출력\n",
    "print(\"Rows with null values:\\n\", rows_with_null)"
   ]
  },
  {
   "cell_type": "code",
   "execution_count": 48,
   "metadata": {},
   "outputs": [
    {
     "data": {
      "text/plain": [
       "review_comment_message       Nenhuma\n",
       "review_comment_message_en        NaN\n",
       "Product_Quality                  NaN\n",
       "Delivery                         NaN\n",
       "Price                            NaN\n",
       "Repurchase_Intention             NaN\n",
       "etc                              NaN\n",
       "Name: 21811, dtype: object"
      ]
     },
     "execution_count": 48,
     "metadata": {},
     "output_type": "execute_result"
    }
   ],
   "source": [
    "df.iloc[21811]"
   ]
  },
  {
   "cell_type": "code",
   "execution_count": 49,
   "metadata": {},
   "outputs": [
    {
     "data": {
      "text/plain": [
       "review_comment_message       N/D\n",
       "review_comment_message_en    NaN\n",
       "Product_Quality              NaN\n",
       "Delivery                     NaN\n",
       "Price                        NaN\n",
       "Repurchase_Intention         NaN\n",
       "etc                          NaN\n",
       "Name: 28507, dtype: object"
      ]
     },
     "execution_count": 49,
     "metadata": {},
     "output_type": "execute_result"
    }
   ],
   "source": [
    "df.iloc[28507]"
   ]
  },
  {
   "cell_type": "code",
   "execution_count": 50,
   "metadata": {},
   "outputs": [],
   "source": [
    "df.iloc[21811,1] = 'None'\n",
    "df.iloc[28507,1] = 'N/A'"
   ]
  },
  {
   "cell_type": "code",
   "execution_count": 52,
   "metadata": {},
   "outputs": [
    {
     "data": {
      "text/plain": [
       "review_comment_message       Nenhuma\n",
       "review_comment_message_en       None\n",
       "Product_Quality                  NaN\n",
       "Delivery                         NaN\n",
       "Price                            NaN\n",
       "Repurchase_Intention             NaN\n",
       "etc                              NaN\n",
       "Name: 21811, dtype: object"
      ]
     },
     "execution_count": 52,
     "metadata": {},
     "output_type": "execute_result"
    }
   ],
   "source": [
    "df.iloc[21811]"
   ]
  },
  {
   "cell_type": "code",
   "execution_count": 51,
   "metadata": {},
   "outputs": [
    {
     "data": {
      "text/plain": [
       "review_comment_message       N/D\n",
       "review_comment_message_en    N/A\n",
       "Product_Quality              NaN\n",
       "Delivery                     NaN\n",
       "Price                        NaN\n",
       "Repurchase_Intention         NaN\n",
       "etc                          NaN\n",
       "Name: 28507, dtype: object"
      ]
     },
     "execution_count": 51,
     "metadata": {},
     "output_type": "execute_result"
    }
   ],
   "source": [
    "df.iloc[28507]"
   ]
  },
  {
   "cell_type": "code",
   "execution_count": 53,
   "metadata": {},
   "outputs": [],
   "source": [
    "texts = df.loc[1200:, 'review_comment_message_en'].tolist()"
   ]
  },
  {
   "cell_type": "markdown",
   "metadata": {},
   "source": [
    "## predict label"
   ]
  },
  {
   "cell_type": "code",
   "execution_count": 12,
   "metadata": {},
   "outputs": [],
   "source": [
    "predicted_labels = []\n",
    "i = -1\n",
    "for sentence in texts:\n",
    "    i += 1\n",
    "    try:\n",
    "        prediction = predict(model, sentence, tokenizer, device)\n",
    "        predicted_labels.append([\n",
    "            prediction['Product_Quality'],\n",
    "            prediction['Delivery'],\n",
    "            prediction['Price'],\n",
    "            prediction['Repurchase_Intention'],\n",
    "            prediction['etc']\n",
    "        ])\n",
    "    except:\n",
    "        print(i)\n",
    "        print(sentence)"
   ]
  },
  {
   "cell_type": "code",
   "execution_count": 56,
   "metadata": {},
   "outputs": [],
   "source": [
    "# 예측 결과를 기존 DataFrame에 직접 추가\n",
    "df.loc[1200:, 'Product_Quality'] = [label[0] for label in predicted_labels]\n",
    "df.loc[1200:, 'Delivery'] = [label[1] for label in predicted_labels]\n",
    "df.loc[1200:, 'Price'] = [label[2] for label in predicted_labels]\n",
    "df.loc[1200:, 'Repurchase_Intention'] = [label[3] for label in predicted_labels]\n",
    "df.loc[1200:, 'etc'] = [label[4] for label in predicted_labels]\n"
   ]
  },
  {
   "cell_type": "code",
   "execution_count": 15,
   "metadata": {},
   "outputs": [],
   "source": [
    "# 예측 결과를 기존 DataFrame에 직접 추가\n",
    "df.loc[:, 'Product_Quality'] = [label[0] for label in predicted_labels]\n",
    "df.loc[:, 'Delivery'] = [label[1] for label in predicted_labels]\n",
    "df.loc[:, 'Price'] = [label[2] for label in predicted_labels]\n",
    "df.loc[:, 'Repurchase_Intention'] = [label[3] for label in predicted_labels]\n",
    "df.loc[:, 'etc'] = [label[4] for label in predicted_labels]\n"
   ]
  },
  {
   "cell_type": "code",
   "execution_count": 57,
   "metadata": {},
   "outputs": [
    {
     "name": "stdout",
     "output_type": "stream",
     "text": [
      "                              review_comment_message_en  Product_Quality  \\\n",
      "1200  The entire note was not delivered, I bought tw...              0.0   \n",
      "1201  I purchased two vases, but only received one v...              0.0   \n",
      "1202  I received the product different from what was...             -1.0   \n",
      "1203  I bought a scale but it was damaged, I changed...             -1.0   \n",
      "1204                         I will return the product.             -1.0   \n",
      "\n",
      "      Delivery  Price  Repurchase_Intention  etc  \n",
      "1200       0.0    0.0                   0.0 -1.0  \n",
      "1201       0.0    0.0                   0.0 -1.0  \n",
      "1202       0.0    0.0                   0.0  0.0  \n",
      "1203       0.0    0.0                   0.0  0.0  \n",
      "1204       0.0    0.0                   0.0  0.0  \n"
     ]
    }
   ],
   "source": [
    "\n",
    "print(df.loc[1200:, ['review_comment_message_en', 'Product_Quality', 'Delivery', 'Price', 'Repurchase_Intention', 'etc']].head())"
   ]
  },
  {
   "cell_type": "markdown",
   "metadata": {},
   "source": [
    "# csv 저장"
   ]
  },
  {
   "cell_type": "code",
   "execution_count": 17,
   "metadata": {},
   "outputs": [],
   "source": [
    "df.to_csv(\"../data/comment_translation_predict_label.csv\", index=False)"
   ]
  },
  {
   "cell_type": "code",
   "execution_count": 16,
   "metadata": {},
   "outputs": [
    {
     "data": {
      "text/html": [
       "<div>\n",
       "<style scoped>\n",
       "    .dataframe tbody tr th:only-of-type {\n",
       "        vertical-align: middle;\n",
       "    }\n",
       "\n",
       "    .dataframe tbody tr th {\n",
       "        vertical-align: top;\n",
       "    }\n",
       "\n",
       "    .dataframe thead th {\n",
       "        text-align: right;\n",
       "    }\n",
       "</style>\n",
       "<table border=\"1\" class=\"dataframe\">\n",
       "  <thead>\n",
       "    <tr style=\"text-align: right;\">\n",
       "      <th></th>\n",
       "      <th>review_comment_message</th>\n",
       "      <th>review_comment_message_en</th>\n",
       "      <th>Product_Quality</th>\n",
       "      <th>Delivery</th>\n",
       "      <th>Price</th>\n",
       "      <th>Repurchase_Intention</th>\n",
       "      <th>etc</th>\n",
       "    </tr>\n",
       "  </thead>\n",
       "  <tbody>\n",
       "    <tr>\n",
       "      <th>0</th>\n",
       "      <td>Produto preto, reembalado na caixa de um branc...</td>\n",
       "      <td>Black product, repacked in a white box, lots o...</td>\n",
       "      <td>-1</td>\n",
       "      <td>0</td>\n",
       "      <td>0</td>\n",
       "      <td>0</td>\n",
       "      <td>0</td>\n",
       "    </tr>\n",
       "    <tr>\n",
       "      <th>1</th>\n",
       "      <td>FICAMOS ESPERANDO UMA ENCOMENDA PAGA QUE NUNCA...</td>\n",
       "      <td>WE'RE STILL EXPERIENCED WITH A RECOMMENDATION ...</td>\n",
       "      <td>0</td>\n",
       "      <td>0</td>\n",
       "      <td>0</td>\n",
       "      <td>0</td>\n",
       "      <td>-1</td>\n",
       "    </tr>\n",
       "    <tr>\n",
       "      <th>2</th>\n",
       "      <td>Otimo muito bom</td>\n",
       "      <td>Very good.</td>\n",
       "      <td>0</td>\n",
       "      <td>0</td>\n",
       "      <td>0</td>\n",
       "      <td>0</td>\n",
       "      <td>1</td>\n",
       "    </tr>\n",
       "    <tr>\n",
       "      <th>3</th>\n",
       "      <td>Entrega antes do prazo. Produto muito bom e bo...</td>\n",
       "      <td>It arrives by the deadline. Very good product,...</td>\n",
       "      <td>1</td>\n",
       "      <td>1</td>\n",
       "      <td>0</td>\n",
       "      <td>0</td>\n",
       "      <td>0</td>\n",
       "    </tr>\n",
       "    <tr>\n",
       "      <th>4</th>\n",
       "      <td>excelente.</td>\n",
       "      <td>excellent.</td>\n",
       "      <td>0</td>\n",
       "      <td>0</td>\n",
       "      <td>0</td>\n",
       "      <td>0</td>\n",
       "      <td>1</td>\n",
       "    </tr>\n",
       "  </tbody>\n",
       "</table>\n",
       "</div>"
      ],
      "text/plain": [
       "                              review_comment_message  \\\n",
       "0  Produto preto, reembalado na caixa de um branc...   \n",
       "1  FICAMOS ESPERANDO UMA ENCOMENDA PAGA QUE NUNCA...   \n",
       "2                                    Otimo muito bom   \n",
       "3  Entrega antes do prazo. Produto muito bom e bo...   \n",
       "4                                         excelente.   \n",
       "\n",
       "                           review_comment_message_en  Product_Quality  \\\n",
       "0  Black product, repacked in a white box, lots o...               -1   \n",
       "1  WE'RE STILL EXPERIENCED WITH A RECOMMENDATION ...                0   \n",
       "2                                         Very good.                0   \n",
       "3  It arrives by the deadline. Very good product,...                1   \n",
       "4                                         excellent.                0   \n",
       "\n",
       "   Delivery  Price  Repurchase_Intention  etc  \n",
       "0         0      0                     0    0  \n",
       "1         0      0                     0   -1  \n",
       "2         0      0                     0    1  \n",
       "3         1      0                     0    0  \n",
       "4         0      0                     0    1  "
      ]
     },
     "execution_count": 16,
     "metadata": {},
     "output_type": "execute_result"
    }
   ],
   "source": [
    "df.head()"
   ]
  }
 ],
 "metadata": {
  "kernelspec": {
   "display_name": "Python 3",
   "language": "python",
   "name": "python3"
  },
  "language_info": {
   "codemirror_mode": {
    "name": "ipython",
    "version": 3
   },
   "file_extension": ".py",
   "mimetype": "text/x-python",
   "name": "python",
   "nbconvert_exporter": "python",
   "pygments_lexer": "ipython3",
   "version": "3.10.8"
  }
 },
 "nbformat": 4,
 "nbformat_minor": 2
}
