{
 "cells": [
  {
   "cell_type": "markdown",
   "metadata": {},
   "source": [
    "# Import Library"
   ]
  },
  {
   "cell_type": "code",
   "execution_count": 1,
   "metadata": {},
   "outputs": [],
   "source": [
    "import pandas as pd\n",
    "import matplotlib.pyplot as plt\n",
    "import seaborn as sns\n",
    "import numpy as np"
   ]
  },
  {
   "cell_type": "markdown",
   "metadata": {},
   "source": [
    "# Data 준비"
   ]
  },
  {
   "cell_type": "markdown",
   "metadata": {},
   "source": [
    "## Data Load"
   ]
  },
  {
   "cell_type": "code",
   "execution_count": 2,
   "metadata": {},
   "outputs": [],
   "source": [
    "\n",
    "# 데이터 불러오기\n",
    "data = pd.read_csv(\"../data/comment_translation_predict_label.csv\")  # 중복 제거된 데이터 (ex: df.iloc[1200:, :])\n",
    "train_df = pd.read_csv(\"../data/train.csv\")  # 원본 데이터\n",
    "\n"
   ]
  },
  {
   "cell_type": "code",
   "execution_count": 3,
   "metadata": {},
   "outputs": [
    {
     "data": {
      "text/html": [
       "<div>\n",
       "<style scoped>\n",
       "    .dataframe tbody tr th:only-of-type {\n",
       "        vertical-align: middle;\n",
       "    }\n",
       "\n",
       "    .dataframe tbody tr th {\n",
       "        vertical-align: top;\n",
       "    }\n",
       "\n",
       "    .dataframe thead th {\n",
       "        text-align: right;\n",
       "    }\n",
       "</style>\n",
       "<table border=\"1\" class=\"dataframe\">\n",
       "  <thead>\n",
       "    <tr style=\"text-align: right;\">\n",
       "      <th></th>\n",
       "      <th>review_comment_message</th>\n",
       "      <th>review_comment_message_en</th>\n",
       "      <th>Product_Quality</th>\n",
       "      <th>Delivery</th>\n",
       "      <th>Price</th>\n",
       "      <th>Repurchase_Intention</th>\n",
       "      <th>etc</th>\n",
       "    </tr>\n",
       "  </thead>\n",
       "  <tbody>\n",
       "    <tr>\n",
       "      <th>0</th>\n",
       "      <td>Produto preto, reembalado na caixa de um branc...</td>\n",
       "      <td>Black product, repacked in a white box, lots o...</td>\n",
       "      <td>-1</td>\n",
       "      <td>0</td>\n",
       "      <td>0</td>\n",
       "      <td>0</td>\n",
       "      <td>0</td>\n",
       "    </tr>\n",
       "    <tr>\n",
       "      <th>1</th>\n",
       "      <td>FICAMOS ESPERANDO UMA ENCOMENDA PAGA QUE NUNCA...</td>\n",
       "      <td>WE'RE STILL EXPERIENCED WITH A RECOMMENDATION ...</td>\n",
       "      <td>0</td>\n",
       "      <td>0</td>\n",
       "      <td>0</td>\n",
       "      <td>0</td>\n",
       "      <td>-1</td>\n",
       "    </tr>\n",
       "    <tr>\n",
       "      <th>2</th>\n",
       "      <td>Otimo muito bom</td>\n",
       "      <td>Very good.</td>\n",
       "      <td>0</td>\n",
       "      <td>0</td>\n",
       "      <td>0</td>\n",
       "      <td>0</td>\n",
       "      <td>1</td>\n",
       "    </tr>\n",
       "    <tr>\n",
       "      <th>3</th>\n",
       "      <td>Entrega antes do prazo. Produto muito bom e bo...</td>\n",
       "      <td>It arrives by the deadline. Very good product,...</td>\n",
       "      <td>1</td>\n",
       "      <td>1</td>\n",
       "      <td>0</td>\n",
       "      <td>0</td>\n",
       "      <td>0</td>\n",
       "    </tr>\n",
       "    <tr>\n",
       "      <th>4</th>\n",
       "      <td>excelente.</td>\n",
       "      <td>excellent.</td>\n",
       "      <td>0</td>\n",
       "      <td>0</td>\n",
       "      <td>0</td>\n",
       "      <td>0</td>\n",
       "      <td>1</td>\n",
       "    </tr>\n",
       "    <tr>\n",
       "      <th>...</th>\n",
       "      <td>...</td>\n",
       "      <td>...</td>\n",
       "      <td>...</td>\n",
       "      <td>...</td>\n",
       "      <td>...</td>\n",
       "      <td>...</td>\n",
       "      <td>...</td>\n",
       "    </tr>\n",
       "    <tr>\n",
       "      <th>35170</th>\n",
       "      <td>Muito obrigada , uma atenção nota 10, profissi...</td>\n",
       "      <td>Thank you very much, a note 10 for your attent...</td>\n",
       "      <td>1</td>\n",
       "      <td>0</td>\n",
       "      <td>0</td>\n",
       "      <td>1</td>\n",
       "      <td>0</td>\n",
       "    </tr>\n",
       "    <tr>\n",
       "      <th>35171</th>\n",
       "      <td>Produto entregue dentro do prazo . Gostei muito.</td>\n",
       "      <td>I got it delivered on time. I appreciate it.</td>\n",
       "      <td>0</td>\n",
       "      <td>1</td>\n",
       "      <td>0</td>\n",
       "      <td>0</td>\n",
       "      <td>0</td>\n",
       "    </tr>\n",
       "    <tr>\n",
       "      <th>35172</th>\n",
       "      <td>Essa capa não encaixa direito. Não consigo tro...</td>\n",
       "      <td>That layer doesn't fit right. I can't change it.</td>\n",
       "      <td>-1</td>\n",
       "      <td>0</td>\n",
       "      <td>0</td>\n",
       "      <td>0</td>\n",
       "      <td>0</td>\n",
       "    </tr>\n",
       "    <tr>\n",
       "      <th>35173</th>\n",
       "      <td>Mim deixou esperar muito tempo, para depois vi...</td>\n",
       "      <td>So he waited a long time for me to let him kno...</td>\n",
       "      <td>0</td>\n",
       "      <td>-1</td>\n",
       "      <td>0</td>\n",
       "      <td>0</td>\n",
       "      <td>0</td>\n",
       "    </tr>\n",
       "    <tr>\n",
       "      <th>35174</th>\n",
       "      <td>Td corrreto</td>\n",
       "      <td>Right.</td>\n",
       "      <td>0</td>\n",
       "      <td>0</td>\n",
       "      <td>0</td>\n",
       "      <td>0</td>\n",
       "      <td>1</td>\n",
       "    </tr>\n",
       "  </tbody>\n",
       "</table>\n",
       "<p>35175 rows × 7 columns</p>\n",
       "</div>"
      ],
      "text/plain": [
       "                                  review_comment_message  \\\n",
       "0      Produto preto, reembalado na caixa de um branc...   \n",
       "1      FICAMOS ESPERANDO UMA ENCOMENDA PAGA QUE NUNCA...   \n",
       "2                                        Otimo muito bom   \n",
       "3      Entrega antes do prazo. Produto muito bom e bo...   \n",
       "4                                             excelente.   \n",
       "...                                                  ...   \n",
       "35170  Muito obrigada , uma atenção nota 10, profissi...   \n",
       "35171   Produto entregue dentro do prazo . Gostei muito.   \n",
       "35172  Essa capa não encaixa direito. Não consigo tro...   \n",
       "35173  Mim deixou esperar muito tempo, para depois vi...   \n",
       "35174                                        Td corrreto   \n",
       "\n",
       "                               review_comment_message_en  Product_Quality  \\\n",
       "0      Black product, repacked in a white box, lots o...               -1   \n",
       "1      WE'RE STILL EXPERIENCED WITH A RECOMMENDATION ...                0   \n",
       "2                                             Very good.                0   \n",
       "3      It arrives by the deadline. Very good product,...                1   \n",
       "4                                             excellent.                0   \n",
       "...                                                  ...              ...   \n",
       "35170  Thank you very much, a note 10 for your attent...                1   \n",
       "35171       I got it delivered on time. I appreciate it.                0   \n",
       "35172   That layer doesn't fit right. I can't change it.               -1   \n",
       "35173  So he waited a long time for me to let him kno...                0   \n",
       "35174                                             Right.                0   \n",
       "\n",
       "       Delivery  Price  Repurchase_Intention  etc  \n",
       "0             0      0                     0    0  \n",
       "1             0      0                     0   -1  \n",
       "2             0      0                     0    1  \n",
       "3             1      0                     0    0  \n",
       "4             0      0                     0    1  \n",
       "...         ...    ...                   ...  ...  \n",
       "35170         0      0                     1    0  \n",
       "35171         1      0                     0    0  \n",
       "35172         0      0                     0    0  \n",
       "35173        -1      0                     0    0  \n",
       "35174         0      0                     0    1  \n",
       "\n",
       "[35175 rows x 7 columns]"
      ]
     },
     "execution_count": 3,
     "metadata": {},
     "output_type": "execute_result"
    }
   ],
   "source": [
    "data"
   ]
  },
  {
   "cell_type": "code",
   "execution_count": 4,
   "metadata": {},
   "outputs": [
    {
     "name": "stdout",
     "output_type": "stream",
     "text": [
      "                           order_id                       customer_id  \\\n",
      "0  d455a8cb295653b55abda06d434ab492  944b72539d7e1f7f7fc6e46639ef1fe3   \n",
      "1  7f39ba4c9052be115350065d07583cac  d7fc82cbeafea77bd0a8fbbf6296e387   \n",
      "2  9dc8d1a6f16f1b89874c29c9d8d30447  d9442164acf4b03109425633efaa0cfc   \n",
      "3  0f548bd29148ebc519d6495e37a284e1  015faf9ec36eccd957c0f2782aab09a4   \n",
      "4  0f548bd29148ebc519d6495e37a284e1  015faf9ec36eccd957c0f2782aab09a4   \n",
      "\n",
      "  order_status order_purchase_timestamp    order_approved_at  \\\n",
      "0    delivered      2017-09-26 22:17:05  2017-09-27 22:24:16   \n",
      "1    delivered      2017-10-18 08:16:34  2017-10-18 23:56:20   \n",
      "2    delivered      2017-10-12 13:33:22  2017-10-12 13:49:22   \n",
      "3    delivered      2017-09-03 08:06:30  2017-09-03 08:25:50   \n",
      "4    delivered      2017-09-03 08:06:30  2017-09-03 08:25:50   \n",
      "\n",
      "  order_delivered_carrier_date order_delivered_customer_date  \\\n",
      "0          2017-09-29 15:53:03           2017-10-07 16:12:47   \n",
      "1          2017-10-20 14:29:01           2017-10-27 16:46:05   \n",
      "2          2017-10-17 15:42:42           2017-10-24 20:17:44   \n",
      "3          2017-09-04 22:03:06           2017-09-08 16:26:55   \n",
      "4          2017-09-04 22:03:06           2017-09-08 16:26:55   \n",
      "\n",
      "  order_estimated_delivery_date  order_item_id  \\\n",
      "0           2017-10-30 00:00:00            1.0   \n",
      "1           2017-11-09 00:00:00            1.0   \n",
      "2           2017-11-06 00:00:00            1.0   \n",
      "3           2017-09-27 00:00:00            1.0   \n",
      "4           2017-09-27 00:00:00            2.0   \n",
      "\n",
      "                         product_id  ...     date             datetime  \\\n",
      "0  a2ff5a97bf95719e38ea2e3b4105bce8  ...  2017-09  2017-09-26 22:17:05   \n",
      "1  a2ff5a97bf95719e38ea2e3b4105bce8  ...  2017-10  2017-10-18 08:16:34   \n",
      "2  a2ff5a97bf95719e38ea2e3b4105bce8  ...  2017-10  2017-10-12 13:33:22   \n",
      "3  08574b074924071f4e201e151b152b4e  ...  2017-09  2017-09-03 08:06:30   \n",
      "4  08574b074924071f4e201e151b152b4e  ...  2017-09  2017-09-03 08:06:30   \n",
      "\n",
      "   day_month_year_delivered  delivery_time  \\\n",
      "0                2017-10-07           10.0   \n",
      "1                2017-10-27            9.0   \n",
      "2                2017-10-24           12.0   \n",
      "3                2017-09-08            5.0   \n",
      "4                2017-09-08            5.0   \n",
      "\n",
      "                           review_comment_message_en Product_Quality  \\\n",
      "0                                                NaN             NaN   \n",
      "1  Black product, repacked in a white box, lots o...            -1.0   \n",
      "2                                                NaN             NaN   \n",
      "3                                                NaN             NaN   \n",
      "4                                                NaN             NaN   \n",
      "\n",
      "   Delivery  Price Repurchase_Intention  etc  \n",
      "0       NaN    NaN                  NaN  NaN  \n",
      "1       0.0    0.0                  0.0  0.0  \n",
      "2       NaN    NaN                  NaN  NaN  \n",
      "3       NaN    NaN                  NaN  NaN  \n",
      "4       NaN    NaN                  NaN  NaN  \n",
      "\n",
      "[5 rows x 56 columns]\n"
     ]
    }
   ],
   "source": [
    "# 'review_comment_message'를 기준으로 데이터 병합\n",
    "df = pd.merge(train_df, data, on='review_comment_message', how='left')\n",
    "# # 불필요한 'review_comment_message' 컬럼 삭제\n",
    "# df = df.drop(columns=['review_comment_message'])\n",
    "\n",
    "# 결과 확인\n",
    "print(df.head())"
   ]
  },
  {
   "cell_type": "code",
   "execution_count": 5,
   "metadata": {},
   "outputs": [],
   "source": [
    "pt = list(pd.DataFrame(df['review_comment_message']).dropna().index)"
   ]
  },
  {
   "cell_type": "code",
   "execution_count": 6,
   "metadata": {},
   "outputs": [
    {
     "data": {
      "text/plain": [
       "48905"
      ]
     },
     "execution_count": 6,
     "metadata": {},
     "output_type": "execute_result"
    }
   ],
   "source": [
    "len(pt)"
   ]
  },
  {
   "cell_type": "code",
   "execution_count": 7,
   "metadata": {},
   "outputs": [],
   "source": [
    "en = list(pd.DataFrame(df['review_comment_message_en']).dropna().index)"
   ]
  },
  {
   "cell_type": "code",
   "execution_count": 8,
   "metadata": {},
   "outputs": [
    {
     "data": {
      "text/plain": [
       "48905"
      ]
     },
     "execution_count": 8,
     "metadata": {},
     "output_type": "execute_result"
    }
   ],
   "source": [
    "len(en)"
   ]
  },
  {
   "cell_type": "code",
   "execution_count": 9,
   "metadata": {},
   "outputs": [
    {
     "name": "stdout",
     "output_type": "stream",
     "text": [
      "pt 리스트에 포함되지 않은 en의 원소: []\n",
      "en 리스트에 포함되지 않은 pt의 원소: []\n"
     ]
    }
   ],
   "source": [
    "pt_not_in_en = list(set(pt) - set(en))\n",
    "\n",
    "en_not_in_pt = list(set(en) - set(pt))\n",
    "\n",
    "print(\"pt 리스트에 포함되지 않은 en의 원소:\", pt_not_in_en)\n",
    "print(\"en 리스트에 포함되지 않은 pt의 원소:\", en_not_in_pt)"
   ]
  },
  {
   "cell_type": "markdown",
   "metadata": {},
   "source": [
    "# 0. 리뷰 평균 길이"
   ]
  },
  {
   "cell_type": "code",
   "execution_count": 19,
   "metadata": {},
   "outputs": [
    {
     "name": "stdout",
     "output_type": "stream",
     "text": [
      "리뷰의 평균 길이: 73.84\n"
     ]
    }
   ],
   "source": [
    "review_avg_length = df[df['review_length'] != 0]['review_length'].mean()\n",
    "\n",
    "# 결과 출력\n",
    "print(f\"리뷰의 평균 길이: {review_avg_length:.2f}\")\n"
   ]
  },
  {
   "cell_type": "code",
   "execution_count": 18,
   "metadata": {},
   "outputs": [
    {
     "name": "stdout",
     "output_type": "stream",
     "text": [
      "리뷰의 중앙값 길이: 56.00\n"
     ]
    }
   ],
   "source": [
    "median_review_length = df[df['review_length'] != 0]['review_length'].median()\n",
    "\n",
    "# 결과 출력\n",
    "print(f\"리뷰의 중앙값 길이: {median_review_length:.2f}\")"
   ]
  },
  {
   "cell_type": "markdown",
   "metadata": {},
   "source": [
    "# 1. 상위 리뷰 길이 기준"
   ]
  },
  {
   "cell_type": "code",
   "execution_count": 12,
   "metadata": {},
   "outputs": [
    {
     "name": "stdout",
     "output_type": "stream",
     "text": [
      "상위 리뷰 길이 기준에 따른 평균 리뷰 길이:\n",
      "Top 10% 평균 리뷰 길이: 160.97\n",
      "Top 20% 평균 리뷰 길이: 119.97\n",
      "Top 30% 평균 리뷰 길이: 94.86\n",
      "Top 40% 평균 리뷰 길이: 76.73\n",
      "Top 50% 평균 리뷰 길이: 30.98\n"
     ]
    }
   ],
   "source": [
    "# 상위 10%부터 50%까지 리뷰 길이 기준으로 구간을 설정하고 각 구간별 평균 계산\n",
    "percentiles = [90, 80, 70, 60, 50]  # 상위 10%부터 50%까지\n",
    "length_percentile_averages = {}\n",
    "df['review_length'] = df['review_comment_message_en'].apply(lambda x: len(x) if pd.notnull(x) and x != \"\" else 0)\n",
    "\n",
    "for p in percentiles:\n",
    "    threshold = df['review_length'].quantile(p / 100)  # 특정 백분위수에 해당하는 길이\n",
    "    avg_length = df[df['review_length'] >= threshold]['review_length'].mean()\n",
    "    length_percentile_averages[f\"Top {100 - p}%\"] = avg_length\n",
    "\n",
    "# 결과 출력\n",
    "print(\"상위 리뷰 길이 기준에 따른 평균 리뷰 길이:\")\n",
    "for percentile, avg_length in length_percentile_averages.items():\n",
    "    print(f\"{percentile} 평균 리뷰 길이: {avg_length:.2f}\")\n"
   ]
  },
  {
   "cell_type": "code",
   "execution_count": 21,
   "metadata": {},
   "outputs": [
    {
     "name": "stdout",
     "output_type": "stream",
     "text": [
      "상위 리뷰 길이 기준에 따른 평균 리뷰 길이:\n",
      "Top 10% 평균 리뷰 길이: 201.26\n",
      "Top 20% 평균 리뷰 길이: 171.15\n",
      "Top 30% 평균 리뷰 길이: 148.00\n",
      "Top 40% 평균 리뷰 길이: 129.91\n",
      "Top 50% 평균 리뷰 길이: 116.98\n"
     ]
    }
   ],
   "source": [
    "# 상위 10%부터 50%까지 리뷰 길이 기준으로 구간을 설정하고 각 구간별 평균 계산\n",
    "percentiles = [90, 80, 70, 60, 50]  # 상위 10%부터 50%까지\n",
    "length_percentile_averages = {}\n",
    "df['review_length'] = df['review_comment_message_en'].apply(lambda x: len(x) if pd.notnull(x) and x != \"\" else 0)\n",
    "\n",
    "for p in percentiles:\n",
    "    threshold = df[df['review_length'] != 0]['review_length'].quantile(p / 100)  # 특정 백분위수에 해당하는 길이\n",
    "    avg_length = df[df['review_length'] >= threshold]['review_length'].mean()\n",
    "    length_percentile_averages[f\"Top {100 - p}%\"] = avg_length\n",
    "\n",
    "# 결과 출력\n",
    "print(\"상위 리뷰 길이 기준에 따른 평균 리뷰 길이:\")\n",
    "for percentile, avg_length in length_percentile_averages.items():\n",
    "    print(f\"{percentile} 평균 리뷰 길이: {avg_length:.2f}\")\n"
   ]
  },
  {
   "cell_type": "markdown",
   "metadata": {},
   "source": [
    "# 2. 별점군 기준"
   ]
  },
  {
   "cell_type": "code",
   "execution_count": 13,
   "metadata": {},
   "outputs": [
    {
     "name": "stdout",
     "output_type": "stream",
     "text": [
      "별점 1, 5 리뷰의 평균 길이: 30.79\n",
      "별점 1, 2, 4, 5 리뷰의 평균 길이: 30.38\n"
     ]
    }
   ],
   "source": [
    "# 별점 1, 5인 리뷰의 평균 길이 계산\n",
    "star_group1 = [1, 5]\n",
    "group1_avg_length = df[df['review_score'].isin(star_group1)]['review_length'].mean()\n",
    "\n",
    "# 별점 1, 2, 4, 5인 리뷰의 평균 길이 계산\n",
    "star_group2 = [1, 2, 4, 5]\n",
    "group2_avg_length = df[df['review_score'].isin(star_group2)]['review_length'].mean()\n",
    "\n",
    "# 결과 출력\n",
    "print(f\"별점 1, 5 리뷰의 평균 길이: {group1_avg_length:.2f}\")\n",
    "print(f\"별점 1, 2, 4, 5 리뷰의 평균 길이: {group2_avg_length:.2f}\")\n"
   ]
  },
  {
   "cell_type": "markdown",
   "metadata": {},
   "source": [
    "# 3. 부정 리뷰 길이 기준"
   ]
  },
  {
   "cell_type": "code",
   "execution_count": 14,
   "metadata": {},
   "outputs": [
    {
     "name": "stdout",
     "output_type": "stream",
     "text": [
      "별점 1 부정 리뷰의 평균 길이: 82.08\n"
     ]
    }
   ],
   "source": [
    "# 별점 1에 해당하는 부정적 리뷰의 평균 길이 계산\n",
    "negative_review_avg_length = df[df['review_score'] == 1]['review_length'].mean()\n",
    "\n",
    "# 결과 출력\n",
    "print(f\"별점 1 부정 리뷰의 평균 길이: {negative_review_avg_length:.2f}\")\n"
   ]
  },
  {
   "cell_type": "markdown",
   "metadata": {},
   "source": []
  },
  {
   "cell_type": "code",
   "execution_count": 25,
   "metadata": {},
   "outputs": [
    {
     "name": "stdout",
     "output_type": "stream",
     "text": [
      "정액 리워드 결과:\n",
      "10$ Fixed: 평균 리뷰 길이 130.06, 평균 리뷰 빈도 1.72\n",
      "15$ Fixed: 평균 리뷰 길이 129.89, 평균 리뷰 빈도 1.70\n",
      "\n",
      "정율 리워드 결과:\n",
      "5% Rate: 평균 리뷰 길이 125.01, 평균 리뷰 빈도 1.84\n",
      "10% Rate: 평균 리뷰 길이 129.90, 평균 리뷰 빈도 1.84\n",
      "\n",
      "지급 시점에 따른 결과:\n",
      "1_week: 평균 리뷰 길이 134.92, 평균 리뷰 빈도 2.03\n",
      "2_weeks: 평균 리뷰 길이 132.16, 평균 리뷰 빈도 1.92\n",
      "1_month: 평균 리뷰 길이 130.19, 평균 리뷰 빈도 1.85\n"
     ]
    }
   ],
   "source": [
    "import pandas as pd\n",
    "import numpy as np\n",
    "from scipy.stats import ttest_ind\n",
    "\n",
    "# 예시 데이터프레임 생성\n",
    "np.random.seed(42)\n",
    "data = {\n",
    "    'customer_id': np.arange(1, 1001),\n",
    "    'review_length': np.random.normal(120, 30, 1000).astype(int),\n",
    "    'review_count': np.random.poisson(1.5, 1000),\n",
    "    'review_score': np.random.choice([1, 2, 3, 4, 5], 1000)\n",
    "}\n",
    "df = pd.DataFrame(data)\n",
    "\n",
    "### Step 1: 정액/정율 리워드에 대한 시뮬레이션 ###\n",
    "\n",
    "# 정액 리워드 10$, 15$ 제공 그룹\n",
    "fixed_rewards = [10, 15]\n",
    "fixed_results = {}\n",
    "\n",
    "for reward in fixed_rewards:\n",
    "    # 정액 리워드에 따른 평균 리뷰 길이 및 빈도 분석\n",
    "    reward_length = df['review_length'] + np.random.normal(10, 5, df.shape[0])\n",
    "    reward_count = df['review_count'] + np.random.poisson(0.2, df.shape[0])\n",
    "    \n",
    "    fixed_results[f\"{reward}$ Fixed\"] = {\n",
    "        'avg_review_length': reward_length.mean(),\n",
    "        'avg_review_count': reward_count.mean()\n",
    "    }\n",
    "\n",
    "# 정율 리워드 5%, 10% 제공 그룹\n",
    "rate_rewards = [0.05, 0.1]\n",
    "rate_results = {}\n",
    "\n",
    "for rate in rate_rewards:\n",
    "    # 정율 리워드에 따른 평균 리뷰 길이 및 빈도 분석\n",
    "    reward_length = df['review_length'] + np.random.normal(10 * rate * 10, 5, df.shape[0])\n",
    "    reward_count = df['review_count'] + np.random.poisson(0.3, df.shape[0])\n",
    "    \n",
    "    rate_results[f\"{int(rate*100)}% Rate\"] = {\n",
    "        'avg_review_length': reward_length.mean(),\n",
    "        'avg_review_count': reward_count.mean()\n",
    "    }\n",
    "\n",
    "# Step 1 시뮬레이션 결과 출력\n",
    "print(\"정액 리워드 결과:\")\n",
    "for reward, metrics in fixed_results.items():\n",
    "    print(f\"{reward}: 평균 리뷰 길이 {metrics['avg_review_length']:.2f}, 평균 리뷰 빈도 {metrics['avg_review_count']:.2f}\")\n",
    "\n",
    "print(\"\\n정율 리워드 결과:\")\n",
    "for rate, metrics in rate_results.items():\n",
    "    print(f\"{rate}: 평균 리뷰 길이 {metrics['avg_review_length']:.2f}, 평균 리뷰 빈도 {metrics['avg_review_count']:.2f}\")\n",
    "\n",
    "### Step 2: 리워드 지급 시기에 대한 시뮬레이션 ###\n",
    "\n",
    "# Step 1에서 나온 최적의 리워드 방식에 대해 1주일, 2주일, 1개월 지급 시점 비교\n",
    "# 예시: 15$ Fixed 리워드를 선택하여 지급 시점 비교\n",
    "\n",
    "timing_results = {}\n",
    "timeframes = ['1_week', '2_weeks', '1_month']\n",
    "\n",
    "for timeframe in timeframes:\n",
    "    if timeframe == '1_week':\n",
    "        reward_length = df['review_length'] + np.random.normal(15, 5, df.shape[0])\n",
    "        reward_count = df['review_count'] + np.random.poisson(0.5, df.shape[0])\n",
    "    elif timeframe == '2_weeks':\n",
    "        reward_length = df['review_length'] + np.random.normal(12, 5, df.shape[0])\n",
    "        reward_count = df['review_count'] + np.random.poisson(0.4, df.shape[0])\n",
    "    elif timeframe == '1_month':\n",
    "        reward_length = df['review_length'] + np.random.normal(10, 5, df.shape[0])\n",
    "        reward_count = df['review_count'] + np.random.poisson(0.3, df.shape[0])\n",
    "\n",
    "    timing_results[timeframe] = {\n",
    "        'avg_review_length': reward_length.mean(),\n",
    "        'avg_review_count': reward_count.mean()\n",
    "    }\n",
    "\n",
    "# Step 2 시뮬레이션 결과 출력\n",
    "print(\"\\n지급 시점에 따른 결과:\")\n",
    "for timeframe, metrics in timing_results.items():\n",
    "    print(f\"{timeframe}: 평균 리뷰 길이 {metrics['avg_review_length']:.2f}, 평균 리뷰 빈도 {metrics['avg_review_count']:.2f}\")\n"
   ]
  }
 ],
 "metadata": {
  "kernelspec": {
   "display_name": "Python 3",
   "language": "python",
   "name": "python3"
  },
  "language_info": {
   "codemirror_mode": {
    "name": "ipython",
    "version": 3
   },
   "file_extension": ".py",
   "mimetype": "text/x-python",
   "name": "python",
   "nbconvert_exporter": "python",
   "pygments_lexer": "ipython3",
   "version": "3.10.8"
  }
 },
 "nbformat": 4,
 "nbformat_minor": 2
}
