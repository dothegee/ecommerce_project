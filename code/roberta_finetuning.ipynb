{
 "cells": [
  {
   "cell_type": "markdown",
   "metadata": {},
   "source": [
    "# import library"
   ]
  },
  {
   "cell_type": "code",
   "execution_count": 26,
   "metadata": {},
   "outputs": [],
   "source": [
    "import torch\n",
    "import torch.nn as nn\n",
    "from transformers import RobertaTokenizer, RobertaForSequenceClassification, Trainer, TrainingArguments\n",
    "from transformers import RobertaTokenizer, RobertaForSequenceClassification, AdamW\n",
    "from torch.utils.data import Dataset, DataLoader\n",
    "from tqdm import tqdm\n",
    "from sklearn.metrics import f1_score, classification_report\n",
    "import numpy as np\n",
    "import pandas as pd\n",
    "import os"
   ]
  },
  {
   "cell_type": "markdown",
   "metadata": {},
   "source": [
    "# 모델 정의"
   ]
  },
  {
   "cell_type": "code",
   "execution_count": 27,
   "metadata": {},
   "outputs": [],
   "source": [
    "# Dataset class\n",
    "class MultiLabelDataset(Dataset):\n",
    "    def __init__(self, texts, labels, tokenizer, max_length=128):\n",
    "        self.texts = texts\n",
    "        self.labels = labels\n",
    "        self.tokenizer = tokenizer\n",
    "        self.max_length = max_length\n",
    "\n",
    "    def __len__(self):\n",
    "        return len(self.texts)\n",
    "\n",
    "    def __getitem__(self, idx):\n",
    "        text = self.texts[idx]\n",
    "        labels = self.labels[idx]\n",
    "        \n",
    "        encoding = self.tokenizer(\n",
    "            text,\n",
    "            padding='max_length',\n",
    "            truncation=True,\n",
    "            max_length=self.max_length,\n",
    "            return_tensors=\"pt\"\n",
    "        )\n",
    "        \n",
    "        labels = [label + 1 for label in labels]\n",
    "        encoding['labels'] = torch.tensor(labels, dtype=torch.long)\n",
    "        return encoding\n",
    "\n",
    "# Model class\n",
    "class CustomRobertaForMultiLabelClassification(nn.Module):\n",
    "    def __init__(self, num_labels_per_category=3, num_categories=5):\n",
    "        super(CustomRobertaForMultiLabelClassification, self).__init__()\n",
    "        self.roberta = RobertaForSequenceClassification.from_pretrained(\"roberta-base\", num_labels=num_labels_per_category)\n",
    "        self.num_categories = num_categories\n",
    "        self.classifiers = nn.ModuleList([nn.Linear(self.roberta.config.hidden_size, num_labels_per_category) for _ in range(num_categories)])\n",
    "\n",
    "    def forward(self, input_ids, attention_mask, labels=None):\n",
    "        outputs = self.roberta.roberta(input_ids=input_ids, attention_mask=attention_mask)\n",
    "        logits = torch.stack([classifier(outputs.last_hidden_state[:, 0, :]) for classifier in self.classifiers], dim=1)\n",
    "        \n",
    "        loss = None\n",
    "        if labels is not None:\n",
    "            loss_fct = nn.CrossEntropyLoss()\n",
    "            losses = [loss_fct(logits[:, i, :], labels[:, i]) for i in range(self.num_categories)]\n",
    "            loss = sum(losses) / self.num_categories\n",
    "        \n",
    "        return {\"loss\": loss, \"logits\": logits}\n"
   ]
  },
  {
   "cell_type": "markdown",
   "metadata": {},
   "source": [
    "# 함수 정의"
   ]
  },
  {
   "cell_type": "markdown",
   "metadata": {},
   "source": [
    "## def train"
   ]
  },
  {
   "cell_type": "code",
   "execution_count": 28,
   "metadata": {},
   "outputs": [],
   "source": [
    "# Training function\n",
    "def train(model, dataloader, optimizer, device):\n",
    "    model.train()\n",
    "    total_loss = 0\n",
    "    \n",
    "    progress_bar = tqdm(dataloader, desc=\"Training\", leave=False)\n",
    "    for batch in progress_bar:\n",
    "        optimizer.zero_grad()\n",
    "        \n",
    "        input_ids = batch['input_ids'].squeeze(1).to(device)\n",
    "        attention_mask = batch['attention_mask'].squeeze(1).to(device)\n",
    "        labels = batch['labels'].to(device)\n",
    "        \n",
    "        outputs = model(input_ids=input_ids, attention_mask=attention_mask, labels=labels)\n",
    "        loss = outputs['loss']\n",
    "        loss.backward()\n",
    "        optimizer.step()\n",
    "        \n",
    "        total_loss += loss.item()\n",
    "        progress_bar.set_postfix(loss=loss.item())\n",
    "    \n",
    "    avg_loss = total_loss / len(dataloader)\n",
    "    return avg_loss\n",
    "\n"
   ]
  },
  {
   "cell_type": "markdown",
   "metadata": {},
   "source": [
    "## def prediction"
   ]
  },
  {
   "cell_type": "code",
   "execution_count": 30,
   "metadata": {},
   "outputs": [],
   "source": [
    "# Prediction function\n",
    "def predict(model, sentence, tokenizer, device):\n",
    "    model.eval()\n",
    "    \n",
    "    inputs = tokenizer(\n",
    "        sentence,\n",
    "        padding='max_length',\n",
    "        truncation=True,\n",
    "        max_length=128,\n",
    "        return_tensors=\"pt\"\n",
    "    )\n",
    "    \n",
    "    input_ids = inputs['input_ids'].to(device)\n",
    "    attention_mask = inputs['attention_mask'].to(device)\n",
    "    \n",
    "    with torch.no_grad():\n",
    "        outputs = model(input_ids=input_ids, attention_mask=attention_mask)\n",
    "        logits = outputs['logits']\n",
    "        predictions = torch.argmax(logits, dim=-1).cpu().numpy().squeeze() - 1\n",
    "    \n",
    "    labels = ['Product_Quality', 'Delivery', 'Price', 'Repurchase_Intention', 'etc']\n",
    "    prediction_dict = {label: pred for label, pred in zip(labels, predictions)}\n",
    "    \n",
    "\n",
    "    return prediction_dict"
   ]
  },
  {
   "cell_type": "markdown",
   "metadata": {},
   "source": [
    "# Data Load"
   ]
  },
  {
   "cell_type": "code",
   "execution_count": 31,
   "metadata": {},
   "outputs": [
    {
     "data": {
      "text/html": [
       "<div>\n",
       "<style scoped>\n",
       "    .dataframe tbody tr th:only-of-type {\n",
       "        vertical-align: middle;\n",
       "    }\n",
       "\n",
       "    .dataframe tbody tr th {\n",
       "        vertical-align: top;\n",
       "    }\n",
       "\n",
       "    .dataframe thead th {\n",
       "        text-align: right;\n",
       "    }\n",
       "</style>\n",
       "<table border=\"1\" class=\"dataframe\">\n",
       "  <thead>\n",
       "    <tr style=\"text-align: right;\">\n",
       "      <th></th>\n",
       "      <th>review_comment_message</th>\n",
       "      <th>review_comment_message_en</th>\n",
       "      <th>Product_Quality</th>\n",
       "      <th>Delivery</th>\n",
       "      <th>Price</th>\n",
       "      <th>Repurchase_Intention</th>\n",
       "      <th>etc</th>\n",
       "    </tr>\n",
       "  </thead>\n",
       "  <tbody>\n",
       "    <tr>\n",
       "      <th>0</th>\n",
       "      <td>Produto preto, reembalado na caixa de um branc...</td>\n",
       "      <td>Black product, repackaged in a white box. Very...</td>\n",
       "      <td>0.0</td>\n",
       "      <td>-1.0</td>\n",
       "      <td>0.0</td>\n",
       "      <td>0.0</td>\n",
       "      <td>0.0</td>\n",
       "    </tr>\n",
       "    <tr>\n",
       "      <th>1</th>\n",
       "      <td>FICAMOS ESPERANDO UMA ENCOMENDA PAGA QUE NUNCA...</td>\n",
       "      <td>WE ARE WAITING FOR A PAID ORDER THAT NEVER ARR...</td>\n",
       "      <td>0.0</td>\n",
       "      <td>-1.0</td>\n",
       "      <td>0.0</td>\n",
       "      <td>0.0</td>\n",
       "      <td>-1.0</td>\n",
       "    </tr>\n",
       "    <tr>\n",
       "      <th>2</th>\n",
       "      <td>Otimo muito bom</td>\n",
       "      <td>Excellent very good</td>\n",
       "      <td>0.0</td>\n",
       "      <td>0.0</td>\n",
       "      <td>0.0</td>\n",
       "      <td>0.0</td>\n",
       "      <td>1.0</td>\n",
       "    </tr>\n",
       "    <tr>\n",
       "      <th>3</th>\n",
       "      <td>Entrega antes do prazo. Produto muito bom e bo...</td>\n",
       "      <td>Delivery ahead of schedule. Very good and beau...</td>\n",
       "      <td>1.0</td>\n",
       "      <td>1.0</td>\n",
       "      <td>0.0</td>\n",
       "      <td>0.0</td>\n",
       "      <td>0.0</td>\n",
       "    </tr>\n",
       "    <tr>\n",
       "      <th>4</th>\n",
       "      <td>excelente.</td>\n",
       "      <td>excellent.</td>\n",
       "      <td>0.0</td>\n",
       "      <td>0.0</td>\n",
       "      <td>0.0</td>\n",
       "      <td>0.0</td>\n",
       "      <td>1.0</td>\n",
       "    </tr>\n",
       "  </tbody>\n",
       "</table>\n",
       "</div>"
      ],
      "text/plain": [
       "                              review_comment_message  \\\n",
       "0  Produto preto, reembalado na caixa de um branc...   \n",
       "1  FICAMOS ESPERANDO UMA ENCOMENDA PAGA QUE NUNCA...   \n",
       "2                                    Otimo muito bom   \n",
       "3  Entrega antes do prazo. Produto muito bom e bo...   \n",
       "4                                         excelente.   \n",
       "\n",
       "                           review_comment_message_en  Product_Quality  \\\n",
       "0  Black product, repackaged in a white box. Very...              0.0   \n",
       "1  WE ARE WAITING FOR A PAID ORDER THAT NEVER ARR...              0.0   \n",
       "2                                Excellent very good              0.0   \n",
       "3  Delivery ahead of schedule. Very good and beau...              1.0   \n",
       "4                                         excellent.              0.0   \n",
       "\n",
       "   Delivery  Price  Repurchase_Intention  etc  \n",
       "0      -1.0    0.0                   0.0  0.0  \n",
       "1      -1.0    0.0                   0.0 -1.0  \n",
       "2       0.0    0.0                   0.0  1.0  \n",
       "3       1.0    0.0                   0.0  0.0  \n",
       "4       0.0    0.0                   0.0  1.0  "
      ]
     },
     "execution_count": 31,
     "metadata": {},
     "output_type": "execute_result"
    }
   ],
   "source": [
    "data = pd.read_csv('../data/comment_translation_labeling.csv')\n",
    "data.head()"
   ]
  },
  {
   "cell_type": "markdown",
   "metadata": {},
   "source": [
    "## 라벨링 되어 있는 data 추출"
   ]
  },
  {
   "cell_type": "code",
   "execution_count": 45,
   "metadata": {},
   "outputs": [
    {
     "data": {
      "text/html": [
       "<div>\n",
       "<style scoped>\n",
       "    .dataframe tbody tr th:only-of-type {\n",
       "        vertical-align: middle;\n",
       "    }\n",
       "\n",
       "    .dataframe tbody tr th {\n",
       "        vertical-align: top;\n",
       "    }\n",
       "\n",
       "    .dataframe thead th {\n",
       "        text-align: right;\n",
       "    }\n",
       "</style>\n",
       "<table border=\"1\" class=\"dataframe\">\n",
       "  <thead>\n",
       "    <tr style=\"text-align: right;\">\n",
       "      <th></th>\n",
       "      <th>review_comment_message</th>\n",
       "      <th>review_comment_message_en</th>\n",
       "      <th>Product_Quality</th>\n",
       "      <th>Delivery</th>\n",
       "      <th>Price</th>\n",
       "      <th>Repurchase_Intention</th>\n",
       "      <th>etc</th>\n",
       "    </tr>\n",
       "  </thead>\n",
       "  <tbody>\n",
       "    <tr>\n",
       "      <th>1095</th>\n",
       "      <td>muito bom!</td>\n",
       "      <td>very good!</td>\n",
       "      <td>0.0</td>\n",
       "      <td>0.0</td>\n",
       "      <td>0.0</td>\n",
       "      <td>0.0</td>\n",
       "      <td>1.0</td>\n",
       "    </tr>\n",
       "    <tr>\n",
       "      <th>1096</th>\n",
       "      <td>Produto comprado foi Moringa em cápsulas, a qu...</td>\n",
       "      <td>The product purchased was Moringa in capsules,...</td>\n",
       "      <td>-1.0</td>\n",
       "      <td>0.0</td>\n",
       "      <td>0.0</td>\n",
       "      <td>0.0</td>\n",
       "      <td>0.0</td>\n",
       "    </tr>\n",
       "    <tr>\n",
       "      <th>1097</th>\n",
       "      <td>Loja nota 10</td>\n",
       "      <td>Store note 10</td>\n",
       "      <td>0.0</td>\n",
       "      <td>0.0</td>\n",
       "      <td>0.0</td>\n",
       "      <td>0.0</td>\n",
       "      <td>1.0</td>\n",
       "    </tr>\n",
       "    <tr>\n",
       "      <th>1098</th>\n",
       "      <td>M/ referência se dará só qto a compra e entreg...</td>\n",
       "      <td>The reference will only be given when the prod...</td>\n",
       "      <td>0.0</td>\n",
       "      <td>1.0</td>\n",
       "      <td>0.0</td>\n",
       "      <td>0.0</td>\n",
       "      <td>0.0</td>\n",
       "    </tr>\n",
       "    <tr>\n",
       "      <th>1099</th>\n",
       "      <td>Muito bom chegou antes do previsto</td>\n",
       "      <td>Very good arrived earlier than expected</td>\n",
       "      <td>0.0</td>\n",
       "      <td>1.0</td>\n",
       "      <td>0.0</td>\n",
       "      <td>0.0</td>\n",
       "      <td>1.0</td>\n",
       "    </tr>\n",
       "  </tbody>\n",
       "</table>\n",
       "</div>"
      ],
      "text/plain": [
       "                                 review_comment_message  \\\n",
       "1095                                         muito bom!   \n",
       "1096  Produto comprado foi Moringa em cápsulas, a qu...   \n",
       "1097                                       Loja nota 10   \n",
       "1098  M/ referência se dará só qto a compra e entreg...   \n",
       "1099                 Muito bom chegou antes do previsto   \n",
       "\n",
       "                              review_comment_message_en  Product_Quality  \\\n",
       "1095                                         very good!              0.0   \n",
       "1096  The product purchased was Moringa in capsules,...             -1.0   \n",
       "1097                                      Store note 10              0.0   \n",
       "1098  The reference will only be given when the prod...              0.0   \n",
       "1099            Very good arrived earlier than expected              0.0   \n",
       "\n",
       "      Delivery  Price  Repurchase_Intention  etc  \n",
       "1095       0.0    0.0                   0.0  1.0  \n",
       "1096       0.0    0.0                   0.0  0.0  \n",
       "1097       0.0    0.0                   0.0  1.0  \n",
       "1098       1.0    0.0                   0.0  0.0  \n",
       "1099       1.0    0.0                   0.0  1.0  "
      ]
     },
     "execution_count": 45,
     "metadata": {},
     "output_type": "execute_result"
    }
   ],
   "source": [
    "df = data.iloc[:1100,:]\n",
    "df.tail()"
   ]
  },
  {
   "cell_type": "markdown",
   "metadata": {},
   "source": [
    "## text와 label 리스트 추출"
   ]
  },
  {
   "cell_type": "code",
   "execution_count": 46,
   "metadata": {},
   "outputs": [
    {
     "name": "stdout",
     "output_type": "stream",
     "text": [
      "Texts: [\"Black product, repackaged in a white box. Very dented at the bottom in a way that no one would notice, it doesn't stabilize. Box in perfect condition, was crushed before being delivered to the post office.\", 'WE ARE WAITING FOR A PAID ORDER THAT NEVER ARRIVED AND THE PURCHASE VALUE HAS STILL NOT BEEN REFUNDED', 'Excellent very good', 'Delivery ahead of schedule. Very good and beautiful product.', 'excellent.', 'Delivery came in half', \"I ordered two tubs and only received one. I'm waiting for an answer on how I can resolve this, but the delivery was on time and the one I received is of good quality.\", 'Product delivered in perfect condition and well before the stipulated delivery date', 'Great product', \"Good evening, I received the goods partially because a tub is broken, what should I do? I'm at a loss or who is going to replace this broken situation?\", 'Ameiiii!!! excellent product...excellent quality, delivered very well ahead of schedule, thank you', 'In economic shipping, the deadline could be faster, especially in us.', 'Well, the tub arrived on time and is a beautiful tub with a modern design.', 'Very correct and trustworthy!', \"I don't recommend it because so far I haven't received my product, nor have I had any information from the company responsible.\", 'It arrived perfect, I highly recommend it', 'I always feel fulfilled with you.', 'Beautiful product, arrived much earlier than expected... SATISFIED with the purchase and the store', 'I need to cancel this purchase as nothing has been delivered so far.', 'Everything correct! Thanks', 'The deadline was 17 days and it arrived in a week, product exactly as shown in the photo! A charm in the bathroom 😘', \"An impressively beautiful Cuba, in stores here they cost around 220.00, it's really worth it!!!\", 'Excellent', 'To date, I have not received the last tank.', 'Very beautiful toilet and just like the description, it came with a very small stain, but nothing that would be a problem, I recommend it.', \"I bought it almost 1 month ago and I still haven't received the product.\", 'Yesterday, April 4th, I received only 01 tub of the 04 units purchased. There are still 3 more to receive. I hope it was a mistake not to have received the order in full in a single delivery.', 'It arrived right and before delivery', \"I'm trying to contact the website and I can't.\", \"The product came with a small defect, but I don't have time to exchange it, I will have to keep this one.\", 'The product is beautiful, of good quality, and delivery was super fast.', 'Waiting for return from the store', 'It arrived broken.', 'Product arrived well ahead of schedule. All very well.', 'The tub arrived broken. How do I perform baroque?', 'I liked the professionalism', 'It arrived in 5 days... super fast!', \"I didn't imagine there would be several faults and I wasn't happy with the product.\", 'The delivery of the product was correct and delivered 15 days ahead of schedule.', 'All my purchases arrived ahead of schedule', 'We pay for the product and shipping. Stark reported that the product was stopped at the post office, but the post office did not inform us that the product was there. We paid the shipping to our house.', 'It arrived earlier than expected, well packaged in perfect condition, I already know America and I trust it. And I highly recommend the Cuba website. I loved', 'Great purchase.. Excellent quality and even better value.. I recommend', 'In addition to being beautiful, it arrived a week later, well before the stipulated delivery date. ', 'I liked', 'my delivery was 13 days late 0% support', 'Congratulations on the service, products delivered well ahead of schedule, and giving us the option to track the order, very good', \"It was delivered within the correct period to the secure site, but it arrived broken. I hope the store exchanges it or refunds the money, I'm waiting for a refund. \", 'The store was quick to prepare the product for posting. However, the post office did not deliver the product, and it has been over a month.', 'Great product super fast delivery', \"The sink arrived ahead of schedule, the quality of the sink is not that good, it came with some chips on the base of the sink. But for the price and appearance, it's worth it! \", 'Delivered well ahead of schedule, excellent quality product, I highly recommend it.', '100% satisfied', 'Best price. Best deadline.', 'very good', 'I received the product broken and am awaiting a response from Lannister', \"All the products came wrong, different color, broken furniture and I can't get after-sales, neither in store, nor email, nor telephone.\", \"They didn't pack it well, as it came from far away I think that's why it came with scratches, as it's black it shows well\", 'Excellent', 'Quality and delivery ahead of schedule.\\nI recommend ', 'Good deadline. Exactly as you see in the photo.', \"I still put it in place, because it's for my future house, but it's very pretty, I just found it a little shallow, but I really liked it, it arrived super on time, like everything from Stark, right!\", 'Great product. However, a small piece was broken at the end. I believe there is a charge on delivery.', 'I received it well before the deadline and the product arrived perfect! I recommend.', 'I bought the advertised product and they gave me another one. Awaiting correction from the store.', 'I love buying from Lannister, to date I have made many purchases and have always been successful, I recommend it without a doubt. This product arrived in perfect condition, on time and of excellent quality.', 'Quality product and delivery on time', 'great product and arrived in perfect condition. note 10.', \"For now I'm waiting for the product to be exchanged.\", 'Buy without error, very good\\n', 'very satisfied', 'I canceled the product more than 25 days ago and Lannister continued to treat my order as delivery after several complaints, finally I was attended to by someone who really knows how to work... Alexandre rating 10', 'Very good product, delivered ahead of schedule.', 'Good', 'I asked to cancel the purchase due to the delivery time, as soon as it was made. I received the product and is here to return it. How to return?', 'product as advertised.', 'This product has been at the post office in Jacarepaguá since the 24/04 and has not been delivered.. I was there on the 28/04 and no employee knew how to explain it.. Zero rating for the service', 'good product and delivery ahead of schedule.', 'I received everything ok, but the tub was cracked and I need it replaced urgently.', \"Very beautiful and sophisticated, I haven't installed it yet, but I like it.\", 'The shipping cost was almost half the price of the product. I think you need to evaluate this value.', 'I liked the product, I liked how it arrived, as it was fragile, it was very packaged', \"Hello, good morning, I already sent two images to inform you that when I opened the box I saw that my product was broken and I didn't even remove it from the box or the packaging because I would like a solution\", 'Delivery was very fast.', 'Best city to buy wonderful online', 'The product arrived with a small defect, which may have been caused during transportation, but due to the urgency in installing it, I chose to keep it anyway.', 'Perfect', 'Product delivered ahead of schedule and very good quality, I recommend it', 'I loved! It arrived before the deadline.', 'Dennis\\n', 'Delivered ahead of schedule and in perfect condition.', 'I believe it could be better packaged, the product arrived with scratches, due to the lack of bubble wrap surrounding the tub. I chose not to return it. Transport and deadline ok.', \" Cuba arrived here completely broken, in a thin cardboard box with no protection. It was not delivered by transport but by the postman who didn't even know it was something fragile, terrible. Don't buy, low quality\", \"Second time I bought the same product and I didn't receive it Ridiculous website doesn't deliver what it sells Anyone who wants to buy buys it knowing they are deceivers\", 'I bought a painting last month, they said it would arrive at the beginning of the month but so far nothing', 'I want my product', '1 item left to be delivered.', \"The image quality of the painting is good, however it comes off the MDF board very easily and easily creates the famous donkey's ear, and this was a little unpleasant because I barely received it and it is already damaged\", 'The photo of the sign with the image around it shows that it was large', 'Just a little small, as the description shows! Other than that it is really very faithful to the image.', 'It arrived well ahead of schedule and in great condition!', 'Arrived 10 days early', 'The Post Office delivers when it sees fit. They only know how to strike.', 'The product on sale was a clear and beautiful image, when it arrived it was completely black and you could barely see the image.', 'correct', 'I loved the product, it arrived on time and the product was super great. ', 'Product not delivered and website does not provide a 0800 number to call for a refund', 'Very good.', 'I expected better quality printing but overall the product is very good.', 'The details of the paintings are beautiful, super well made and finished, I loved it!', 'Product is as expected and was delivered ahead of schedule.', 'Thanks', 'Congratulations on the delivery, delivery ahead of schedule.', 'Good product, fast delivery.', 'Good!', 'THE COURIER ONLY DELIVERED ME ONE CURTAIN WHILE THE INVOICE STATED TWO AND I ASKED FOR TWO.', 'Very good, delivered quickly and competently.', \"The post office made an attempt as I wasn't at home, it was a public holiday on 12/10. It came back to the agency and I had to pick it up at the agency.\", 'Everyone goes out to work on daily tasks, a difference would be if the delivery company notified the exact day and, if possible, the delivery shift so that someone could stay to receive it. You have our phone number and email.', \"I didn't receive it, because I requested a refund and so far nothing has been resolved.\", 'The cover is very beautiful, I liked the color and the model', \"The store did, but the website left me wanting because I made this purchase with a voucher and they didn't send me an item claiming that payment was not authorized if it was confirmed on the day of purchase \\n\", \"There is no way to evaluate the product if I haven't received it yet\", 'I highly recommend it, everything was perfect! ', 'Product did not arrive 2 days late', \"Don't add it yet but if it's to my liking I'll eat more\", \"I don't recommend this store... because I bought two identical curtains and they only sent me one and the note came with a quantity of two... I've already called Americana and asked, I'm waiting for a position\", 'CONGRATULATIONS! IT ARRIVED WELL BEFORE THE EXPECTED DEADLINE AND THE PRODUCT IS VERY GOOD!', 'Beautiful !', 'Product was not delivered and I have already contacted Lannister who has yet to respond.', 'very good, beautiful', 'Good quality product.', 'Arrived well', 'Good.\\n', 'I recommend!! Great price!!', 'I loved everything so beautiful...', 'Service fulfilled.', \"The goods haven't arrived yet\", 'Beautiful comforter', \"I always buy at baratheon. I think it's excellent.\", 'I really liked the product. Very beautiful and made my sofa elegant.\\n', 'product arrived well ahead of schedule', 'I received the product perfectly and even before the expected deadline, I recommend it.', 'Delivered ahead of schedule. The curtain is very beautiful.', \"It was too small for my sofa, but I believe it was me who didn't know how to measure.😔 I don't know if it was delivered on time.\", 'Wonderful product.\\nLannister stores note 10.', 'great business', 'A little smaller than I imagined.', 'Great delivery time, especially because it was early. However, as I chose other products besides the two that arrived - I cannot be satisfied as a customer.', 'Nothing to declare.', 'Excellent product! Beautiful double sheet set! Product delivered within the expected deadline! Very satisfied!', 'I received it before the expected date. Everything arrived in order', 'In addition to taking a long time, I received the wrong product.', 'OK', 'I received it in 5 days and I thought the curtain was very beautiful. I recommend.', 'The cover slides off the sofa.', \"I received it and I'm going to return it, it's very heavy and difficult to put on and it doesn't look the same as the photo on the website!\", 'Product arrived as specified.', 'beautiful curtain', 'I received the product in the wrong color. The ad said that the curtain was lilac with straw and came in lilac with white.', 'good product, but not as well finished as in the photo', \"I didn't receive it at home, I had to look for it at the post office and it came in a different color than what I ordered.\", \"It's beautiful, but the material is very fragile. I don't recommend it.\", 'Good', \"I didn't receive my product and I would like to know why!?\", 'Very good super fast delivery', 'Very satisfied, I recommend it..', \"I did the test as soon as I received it and I loved it, the liquid didn't leak from the cover and it was delivered on time, the product is of great quality and very beautiful, I already bought another product from the store, I'm waiting for it to arrive, I highly recommend it.\", 'Quality product and as advertised. Great delivery time. I highly recommend it.', 'I paid for 2 kits and only received 1. What happened?', 'I liked the products', 'If delivery or the product is impossible, I think feedback is at least necessary.', 'The mattress protector was missing', \"How am I going to evaluate the store if I haven't even received the product? ???????????????????????????????????????????????? ?\", 'It arrived much earlier, everything was fine.', \"I don't know\", 'good', 'Delivered promptly and ahead of schedule', 'Although it came in separate packages, leading us to believe that part of the delivery was lost at first, it happened extremely quickly.', 'Great quality product and delivered on time.', 'I received the wrong size! I have already sent 2 emails complaining and you have not responded. The phone does not recognize either my order or my CPF (despite me typing it correctly several times). Terrible', 'Fast delivery!\\nExcellent material!', 'Wonderful, everything I wanted and delivery was the day after confirmation of purchase, excellent store, good service, arrived in perfect condition, I loved it, thank you very much. I will always recommend it.', 'Product as advertised. It arrived before the deadline.', 'I am waiting for the delivery of this product', 'My product was not delivered.\\n', 'I only received half of what I purchased', 'I bought two products and only one was delivered.', 'VERY GOOD', \"Delivery was carried out much earlier than expected. \\nGood product...I'm satisfied\", 'I bought 2 pillows and only 1 was delivered. I had to contact the company to receive the second item in my order.', 'I bought it on Saturday and received it on Thursday, well before the deadline! Wonderful product makes the bed much more comfortable. ', 'Super fast delivery, product came without any problems', 'I did not receive the Duoflex Natural Latex Pillow LN1102 50x70x16 cm aqua.', 'Very good', 'Excellent service. I recommend', \"I received the correct product, but the inner packaging was half opened and the pillow cover was dirty.\\nAs for the shipping packaging, ok, but not excellent. But, I'm satisfied.\", 'The mattress is super good. \\nIt exceeded expectations. \\nSuper fast delivery. ', \"more than 1 month since purchase and nothing from the product. I can't contact Lannister or the store that sold it. Terrible service! \\n\", 'Congratulations! delivery was fast. It always remains like this, Lannister.', 'I thought the pillow was higher.', '👍👍👍', 'Intermediate quality', 'They delivered a different product. I want to receive back the money or the product according to my request.', 'Congratulations lannister store, delivered the product ahead of schedule, I recommend the lannister store!!!', 'Perfect, I will buy again', \"Only 1 pillow came and I bought 2. The note said it was 2 products, but I didn't receive it. I called the company and they told me that I will still receive the other one and so far I haven't received it. I am waiting. \", \"Very sad for you\\nThe Lannister had never done this,\\nI'm going after my rights\", 'I HAVE NOT RECEIVED MY ORDER YET, THE DEADLINE WAS UNTIL 03/20/18. ', 'It arrived the next day!!!\\n', \"The pillow comes with a screen sewn into it and I can't see it properly, but you can see that it really is the product on offer! The gel only provides relief in the heat if you don't put the pillowcase on :(\", 'I loved the product.', 'The product arrived correctly, and before the expected deadline!', ' Delivery on time. I recommend!!!\\n', 'Everything arrived ok and a quality product \\nI hope it will always be like this', 'excellent product', 'I recommend it, but shipping is expensive.', 'Great store, fast delivery and great quality product. I recommend!!', 'Very good service! Onrigada', 'It arrived a day later than expected, but in perfect condition.', \"The mattress is very good. For those looking for a considerable mattress height, it is tall. It's not a mattress. And it worked perfectly in my collapsible crib.\", 'Above average...', 'The product has not yet been delivered.', 'quality product, fast delivery.', 'The product arrived correctly, and on time. I recommend!', '1 product was missing.', 'Delivery was fast and the product was correct and within the expiration date.', \"I bought 2 cartridges from the same seller and only received one. I know it can be delivered separately. But I can't track the other product that didn't arrive, as it appears that the entire purchase was delivered.\", \"It's not worth the complaint, but I ordered a black and a colored cartridge and received two black ones\", \"I received the product on time. I haven't used it yet because I'm waiting for the cartridge in the printer to run out of ink.\", 'Delivery within the expected deadline. Satisfied.', '\\n.', \"I didn't receive 1 cartridge and I didn't hear back from the seller or Baratheon. I will have to cancel the purchase if I do not receive contact. but the lack of respect in not receiving feedback worries me\", 'THEY HAVE NOT YET DELIVERED THE ENTIRE ORDER, IN ADDITION TO SENDING THE INVOICE WITH THE TOTAL OF THE ITEMS, THEY SENT SEPARATE PACKAGES FOR 05 UNITS TO THE PHYSICIAN. 03 ARRIVED ON ONE DAY, 01 ON ANOTHER DAY AND 01 UNI IS MISSING.', 'Good quality product! It arrived on time.', \"I didn't receive the product\", 'I recommend this supplier who met expectations, delivering the product before the estimated deadline. Super attractive price!', 'I found delivery a little slow.', 'Color cartridge was not delivered due, according to them, to a stock error. ', 'Everything within normality', 'The product is original, arrived on time and very well packaged! I recommend!!! ', 'delay due to the courier. store honored commitment I recommend', 'Very fast delivery, before the stipulated deadline', \"I received the product, but almost a month later. Maybe it's due to the postal delay.\", 'My product did not arrive. What is the solution?', 'Delivery on time. \\n', 'Delivered before the deadline. Product conforms to specifications.', 'I bought two similar items (ink cartridges) and the confirmation was that I would receive both by Targaryen. Well, one came from Maringá-PR from USE Toner and the other, from São José dos Campos-SP from Tonerbrás', 'Waiting to receive the product. It was partially delivered with some items remaining.', \"On the website it says delivered but I didn't receive the color cartridge, only the two black ones as ordered.\", 'You did not deliver the quantity of products ordered, I want you to send the missing product. If not, I will take legal action', 'Offer promotions with free shipping', 'The \"original HP\" 60XL cartridge is not recognized by the printer and therefore did not work. In addition to arriving more than 15 days later than expected. I need it changed. ', \"The purchases I made in the same cart were processed separately, increasing shipping costs, one of the purchases took too long to be shipped and I still haven't received the product.\", \"I didn't receive the product\", 'Delivery time is very long.', 'Product delivered correctly', 'All original', 'There was a small delivery problem, but I THINK THE PROBLEM WAS WITH THE POST OFFICE WHICH IS ON PARTIAL STRIKE', 'On the website it says 22XL of 17ml and I received 22XL of 11ml', \"I hated the store, they only gave me one cartridge, I called to complain and they said they sent the other one separately and they didn't send me the tracking code I only found out because I called to complain.\", 'I bought two XL black ink cartridges on 02/09, because I needed them and I only received them on 03/10 and only one cartridge. And the invoice came with 02 invoiced cartridges.\\nI just want to see what happens next', 'EVERYTHING RIGHT AS ALWAYS FROM lannister.COM', 'The only issue was a communication I received saying that I would not receive the product and even a link to \"cancel\" the purchase.', \"I'm waiting for delivery for about 2 months, they still send me an email asking for receipt, if we don't respond, it will be considered delivered.\", 'Super reliable store, great quality products, perfect delivery...', 'The product was delivered on time and is of excellent quality.', 'I would buy again', 'The targaryene is saying that she delivered the five stools but I only received two. Can I solve it without going to PROCON?', 'Excellent, arrived before the deadline, and as ordered', 'I loved!! It arrived well before the stated deadline. They are beautiful and smell delicious. I highly recommend it!!!!!', 'It arrived before the deadline. Good quality.', 'I chose the product, and it arrived on time and we are satisfied.', \"Best after sales in history. They called me to say they didn't have the color I requested and offered solutions. They were super kind and the product even arrived ahead of schedule. Very good.\", 'I love shopping at Lannister. Very serious store', 'Delivery ahead of schedule. Super satisfied.', 'product as advertised!', 'Goods received without any abnormalities or delays.', 'Full satisfaction.', 'My product had a broken cover on the back', \"I haven't used it yet but I'm sure it's good, thank you\\n\", \"As I already requested, I need to make a return. It was not delivered within the timeframe I needed. I've already requested it here and I've already contacted the seller. I'm waiting to make the return.\", \"I can't recommend it because I didn't receive the product\", 'I still accept delivery', 'Good afternoon! I only received one unit of the product purchased, please check what happened. I wait. ', 'The product is great, but unfortunately there was no user manual in Portuguese.', 'The Case cover was missing with the film, they only delivered the memory card.', 'I ordered everything from the same store to only pay shipping. Only one product of 3 came.', 'I recommend, super fast delivery ', 'I recommend it, very good product, I received it before the deadline', 'Very good, I received it before the deadline😍', 'I loved my product, everything was in order and on time', 'I always recommend it.', 'Still waiting. They promised to deliver this week. \\nI actually bought it on March 7th, not April.', 'I simply loved it!!!', 'merchandise super late and not even satisfied', 'I BOUGHT TWO, ONLY 1 WAS DELIVERED', 'Arrangeable deadline', 'Great product, I recommend', \"Wow, I loved it, it arrived well before the delivery date, I'm very satisfied\", 'The product is a very good size, beautiful color, but the quality of the stitching needs to be improved, I had a problem when I put the sheets on and went to adjust the mattress, part of the stitching frayed by about 10cm ', 'I bought three bed covers and so far I have only received one.', 'good. recommend', 'I loved the product and it arrived earlier than expected, very beautiful, I highly recommend I love Lannister stores\\nrespect for the consumer', \"Very satisfied super fast delivery.. Show..congratulations.. I hesitated and bought a cell phone at Casas Bahia almost a month ago and they didn't deliver it..\", 'He surpassed himself in product quality and delivery.', 'He really pulls the hair, but his soul comes out with it, it hurts a lot. Delivery was on time. It came well packaged. ;)', \"I received the product well before the expected date. I haven't tried it yet, but I'm satisfied.\", 'Product delivered before the maximum deadline. Well packaged.', 'Product well packaged, and perfect store service', 'The packaging of the products is a disgrace... The Lannisters must urgently let go of their partner. It appears to be a backyard company.', 'Great product... arrived ahead of schedule', 'I received it on time, correctly and easy to purchase and pay', 'Delivery ahead of schedule and product well packaged.', 'Great purchase', 'THE PRODUCT CAN ONLY BE DISPLAYED FOR SALE WHEN IT IS IN STOCK, AND NOT SELL ONE AND DELIVER ANOTHER.\\nI BOUGHT A 220V PRODUCT AND IT CAME A 127V PRODUCT, THIS IS MISLEADING ADVERTISING.\\nI WANT MY MONEY BACK', 'It arrived ahead of schedule and in perfect condition.', 'Good quality pan, the only thing missing was a handle on the pan where the pudding goes', 'Product arrived with dents and is also not working properly.', 'Product arrived well before the stipulated deadline, but I had to go and collect the product, as it was not delivered by the carrier.', 'I recommend the Lannister store, from service to delivery. Thank you.', 'excellent', 'It arrived before the stipulated deadline.', 'excellent', \"I DIDN'T RECEIVE THE ORDER ON TIME AND I DIDN'T EVEN RECEIVE THE PRODUCT ONE DAY AFTER THE DEADLINE.\", \"It arrived very quickly, it's a shame it didn't come with what I needed.\", 'However, my order arrived damaged', 'Product is of great quality!', 'It arrived on time and the product was the same as the website.', \"My product came with a broken bulb, I'm waiting for the baratheon to return\", 'The best store👏👏👏👏😍', 'It was not delivered, the first time this has happened.', \"The merchandise was not received and they did not call you to notify you of delivery. They don't include a delivery forecast on their app. Which is very confusing.\", 'I would like to know if this merchandise is in the mail or if I will still receive it, as it has already been paid for and the delivery deadline has passed.\\nWhat do I have to do to get the product?\\n', 'OK, the product is exactly as I expected. Delivery time was shorter than expected. However, I found the shipping cost to be a little high.', 'I received the product before the delivery date, product delivered safely, well packaged and in perfect condition. ', 'It should be cheaper!', 'Everything ok', \" Unfortunately, the packaging of my deck was torn. It will be a gift. I'm going to have to give it to the birthday boy torn up because I don't have time to change it anymore. \\n But it arrived on time. \", 'Great product and delivery time.', 'I placed an order with two items and only 1 of them was delivered. I made some complaints and so far no one has contacted me to deliver the other product or to refund the money.', \"I'm still waiting for delivery of the product\", 'For now I have only received one of the products, the socket. The double diamond wired pendant did not arrive and is listed as delivered.', 'I spent a lot\\n\\n', 'Product as described, very good and fast delivery.', \"The product is an opener that simply does not open! Amazing! I put it on the wall and then we tried to open a bottle and the bottle cap simply didn't fit in the product gap!!! Absurd!\", 'I loved the product....it arrived ahead of schedule.\\nI recommend', 'Highly recommended, great product and very fast and efficient delivery.', \"Received on time! I haven't had time to use the product yet, but I believe everything is fine!\", 'I received the product before the expected deadline, and everything was in order, however, after 5 minutes. of use, the massager stopped working... I have already requested to cancel the purchase and am waiting for it to be picked up.', 'I loved it, quality product and arrived ahead of schedule!!!! I recommend it to anyone, it exceeded expectations! ', 'It is very good', 'Perfect product and service!!', 'great service', 'Fast delivery, good product\\nI recommend', 'very good', \"I asked them to change the product due to the voltage and I still haven't received a response.\", \"I just couldn't figure out if it has infrared\", \"I just didn't like it because it doesn't come with an instruction manual. It should have explained which areas of the body to use, thank you\", 'I recommend.', 'I received my product but with some delay.', 'It arrived earlier than expected and everything was perfect.', 'Excellent product and delivered on time.', \"I haven't received it yet\", 'I really liked it, delivery before the stipulated deadline. Correct product, no damage. I will definitely recommend.', 'I should have been notified at the time of purchase that I would not receive the product at my home', 'Delivery ahead of schedule, great product, I recommend it!', 'Excellent purchase', 'The maximum delivery time would be April 27th, and to date I have not received the product.', 'I liked the product, as advertised', \"I'm waiting for a response on when they're going to deliver my massager which hasn't arrived yet and no one answers me and I don't have a number I can speak to an attendant, only electronic service, please\\n\", 'All very well', 'Two parts of the massager device were missing', 'The product arrived ahead of schedule and in perfect condition.', \"Everything arrived ok, I just expected the massager to be more powerful. I saw a video where it looked like a super massage and the skin turned red but it wasn't that much.\", 'They delivered very quickly, I loved it!\\nThe right product just the way I wanted it.', \"I bought 2 products in the store and only received 1 and am waiting for the other product. I confess I didn't understand\", 'As soon as I made the purchase and made the payment, they immediately authorized the purchase and issued the invoice, within a few days my merchandise was being delivered. It arrived without defects and in perfect aesthetics.', 'It was delivered ahead of schedule \\nEverything ok, excellent!!', \"It's almost 1 month old\", \"Correct, serious store. Delivery man didn't respect the deadline because of the strike, but not only that...I had to complain to speed up the delivery. Store = ok, product = ok, delivery...👎👎👎👎\", \"The product arrived on time and is working normally, however, one of the product's rubber feet was missing.\", 'Quick, Practical.', \"Very noisy product and its speed fluctuates a lot and also stops\\nI don't recommend it or mine came defective \", 'Product received ahead of schedule and as described in the advertisement.', 'Very good product', 'In my opinion, the staff is very efficient, so much so that I received my product before the stated deadline. Excellent ', \"The product had a problem with the power cord, it turned on and off several times during use, we weren't even able to test it, in fact, we chose to return it, unfortunately!\", 'The product arrived with a damaged box... As if something had been placed on top of it. However, no breakdowns, but negligence with the product.', 'Great product!', 'I bought a 220v one and when it arrived it was 110v', 'very good, does what it promises.', 'Excellent', 'Exactly as in the photo and of excellent quality... arrived ahead of schedule... I recommend...', 'I have only received the paintings so far. The chandeliers are missing, but delivery is still within the deadline.', \"The paintings are beautiful!!! I loved! And it arrived ahead of schedule!\\nThe only reason I didn't give it 5 stars was because one of them came with a defect in the frame underneath. \", 'beautiful', 'The paintings are beautiful!', 'Product arrived in perfect condition, I really liked it ', 'Quality product delivered ahead of schedule, as well as being beautiful!!!', 'The printing of the painting is terrible. I hated it and am trying to return the product.', \"I really liked the product, it came as it was on the website, fast delivery, I'm loving my purchase!\", 'Quality product and super fast delivery.', 'I loved!\\nThey are beautiful and of great quality!', \"The painting is very beautiful, well made, I would buy up to three. I really liked it, I recommend it to everyone who wants to buy it. It's not a big hip, but the size is worth its beauty and resistance.\", 'It arrived ahead of schedule, and in perfect condition. Very well packaged.', 'First-class service.', 'The painting is beautiful, of good quality. It arrived very well packaged, in perfect condition. Congratulations to lannister.com and the partner store (targaryen).', \"I received the incomplete product!! I purchased 2 picture frames and however only 1 picture frame came in the package. I'm trying to contact Lannister. com and I can't solve it.\", 'The product was delivered before the stipulated deadline.', 'Very beautiful and of high quality.', \"Good morning, it appears on the Lannister website that I received the two products I purchased, but the lion painting is still missing.\\nI tracked it and it also said it was delivered but it wasn't.\\nI want my painting!\", 'Beautiful product', 'Very beautiful I loved it', 'Among the seven paintings that were in the order, one of them did not arrive. I would like resolution and receive the product. I await your return.', 'great, delivered before the expected date.', 'I highly recommend buying here', 'ARRIVED BEFORE DEADLINE, great purchase!', 'It has good quality and finishing', 'Product with great finish, exceeded my expectations. I recommend it!', 'Beautiful!!!', \"I only received one of the products...\\nSo far I have not received the Fé Amor Família Decorative Frames Set with A4 Glass...\\nI can't wait\", \"The only annoying thing is that they charge shipping and don't deliver, I had to collect it from the post office.\", 'Product as described.', 'Delivery ahead of schedule, very well packaged!', 'Beautiful and good quality pictures.', 'Product arrived quickly and correctly, thank you very much', 'The paintings are beautiful! They were well packaged and arrived well ahead of schedule', 'I really enjoyed purchasing the paintings! Delivery was quick, and the paintings were exactly as they were in the picture!', 'Only the Safe Frame for my Next Trip 33x24x5cm was delivered.', 'Thank you loved it \\nI arrive before the deadline \\n', \"The paintings came with a small defect, so I wasn't completely satisfied!!!!\", 'The paintings are beautiful and of excellent quality. I was surprised with the purchase! very satisfied!', 'Excellent product, arrived earlier than expected. Satisfied with the product! ', 'I would like to open a protocol regarding non-receipt of this product', 'The paintings are beautiful, they were very well packaged and arrived super quickly. ', 'Perfect delivery, arrived ahead of schedule and super packaged as it contains glass parts. I loved it', 'I received it ahead of schedule and loved the product.', 'Delivery was made ahead of schedule, at my request. I loved it, because I had a trip planned and wanted to take the gift. It worked out.', 'Product delivered on time and identical to the photo', 'The product arrived ahead of time! The paintings are beautiful, just the way they appear! I am really happy! ', 'So far, I have only received one of the products. The other one remains to be delivered.', \"The paint on the black edge keeps coming off in our hands, so it doesn't come off.\", \"I have not received any response to date regarding the delivery of my order. They are not complying with what was proposed. I don't recommend it.\", 'I liked the product, I should offer it in white.', 'Frame kit came with wrong measurements\\nI bought it with measurements 52x33\\nCame with mefidas: 32x24', \"I haven't received the product yet, and considering the truck drivers' strike, it should have been delivered. \", '1 product arrived and the other did not! \\nI want to know why they are both from the same seller and same order... please ', 'I loved my purchase...it arrived ahead of schedule. Perfect finishing of the frames.\\nCongratulations Lannister stores and partners..', \"I need to return the product, I didn't even open the box, I bought it for my daughter, looking at the website she doesn't want it because she wants plates and not a frame. How do I return it? \", 'Excellent', \"It's a shame that it said beige and the product came in brown, but other than that, everything was fine.\", 'beautiful, product as advertised ', 'Product as expected...on time', 'It arrived quickly and they are beautiful!', 'Without glass\\nVery good product \\nArrived before deadline', \"I didn't receive a product, the key ring, just the paintings. \", 'Excellent paintings with great finish.. satisfied', 'The frames are of low quality.\\nThe resolution of the images leaves a lot to be desired.', 'Good and high quality product, arrived ahead of schedule! ', \"I only received 1 frame kit. I'm waiting for the other kit.\", 'I bought 3 paintings and only one arrived, the guitar one. Poor quality frame, very low resolution printing.', 'The paintings are beautiful... It arrived on time...', 'THE PRODUCT WAS NOT IN ACCORDANCE WITH THE ILLUSTRATIVE PHOTO.\\nI WAS DISAPPOINTED.', 'sent it by post and still nothing', 'Great quality product...I received it 10 days ahead of schedule.', 'OK', 'I DID NOT RECEIVE THE PRODUCT AND IT SHOWS IN THE SYSTEM THAT I RECEIVED IT IN ADDITION TO PAYING EXPENSIVE SHIPPING', 'I loved the paintings, they are beautiful!\\nThey came very well packaged and delivery was very fast.\\nI recommend.', 'The paintings are beautiful, well finished. I loved!', 'I recommend the store', 'Delivery on time, product matched the description. I loved', 'It arrived well before the deadline, it is impeccable, well made packaging, as it contains glass. No dents or scratches!! \\nThank you so much, Lannister!!', 'They will deliver before the deadline, ameniiiiii', 'very good and well made product. I received it very well packaged. I highly recommend it.', 'BEAUTIFUL!!! I RECEIVED IT BEFORE THE DEADLINE.\\nI LOVED.', 'Every time I buy more I am satisfied, congratulations on your honesty with your customers 👏👏👏👏?', 'The only thing missing is green tea', 'Product arrived on time, great price. I recommend', 'How can they send the wrong product? Are there no conferences? Store fails', 'Product arrived quickly and as described in the advertisement. Great seller.', 'I like shopping at this store and I would recommend it, I always get good service.', 'I bought two products, only one arrived, the shipping says that 2 were posted, only 1 arrived, I want my product or my money back', 'We received the products and they are now in operation.\\nThanks!!!', 'Very good quality product!', \"I didn't receive the product\", 'I recommend purchasing from this store.', 'Everything was fine and arrived early! Thanks!', 'met the needs', 'Product arrived ahead of schedule. Very good!', 'Excellent work, on time and you can monitor it from the beginning of the purchase until the product arrives at your home. Very good, I recommend everyone to buy from lannister.com!', 'Very comfortable, resistant, well-made sneakers, I recommend them to everyone. ', 'I BOUGHT SEVERAL LUSTRES AND HAD A PROBLEM WITH THIS ONE I HAD TO COLLECT FROM THE MAIL BECAUSE THE BOX WAS DAMAGED NO NOTE OR MANUAL CAME LIKE THE OTHERS DID IT LEFT A LOT AND IT TOOK THE WORK OF GOING TO IT', \"I just found it complicated because it came disassembled and it didn't say that in the advertisement. And it took a lot of work to assemble!!\", \"I only received 1 of the 3 products purchased and it appears on the website that delivery is complete. I haven't been able to contact the store yet.\", 'They only delivered 1 chandelier and the other was missing', 'delay in delivery (has not yet arrived after the deadline)', 'The deadline has already passed', 'Product arrived opened and with a wrinkle.\\nFragile packaging for the product.', 'Delivery on time. Product purchased. Perfect condition. Very good!', 'We have not yet received the product.', 'The goods have not been delivered yet..', 'Very good seller', 'Great product!\\nPerfect!\\nExactly as described.\\nI recommend!', 'I recommend this site👍L', 'Fast delivery arrived ahead of schedule. Beautiful lampshade. I recommend.', 'Very beautiful! I loved', 'Excellent... excellent delivery time!', 'Excellent product and early delivery.', 'Delivered ahead of schedule and I was satisfied with the product', 'Delivery ahead of schedule!', 'Delivery was expected on 08/14 and was delivered much earlier on 08/04. \\nIt was amazing!!!!', 'Product arrived on time and well packaged. The only complaint to make is the shipping price, which was so high it almost made me give up on the purchase.\\nHowever, I recommend the store.', 'It exceeded my expectations as it had a long delivery time and arrived much earlier than expected.', \"I didn't like shopping at this store\", 'Delivery was fast before the stipulated deadline.\\nVery satisfied. ', 'I always buy and recommend baratheon', 'Super satisfied', 'I loved!!', 'Excellent product\\nDelivery ahead of schedule', 'Excellent service provision.', 'Good!!!', 'Product delivered on time and as chosen.', 'Because every time I try to track my product it is not possible', 'I recommend.\\nGod blesses.', 'I received the product in record time and as requested.', 'Excellent.', 'It was delivered wrong because I entered the wrong number \\nSo I looked for the number I sent ', 'I liked the shape and quality, I hope it lasts too, apparently very good material, I recommend it', \"I didn't like the product, because it's too big, but it's of great quality, it's just not what I was looking for...\", \"I bought it but it didn't arrive, I still wanted to know where the product is.\", 'Very good. Fast delivery.', 'Very fast delivery...Congratulations', \"Good morning,\\n\\nI received my order on time but the pushing ball arrived dry and peeling. How should I proceed to receive one in good condition? \\n\\nI can't wait,\\n\\nVanessa\", 'very expensive, and even if you buy more items, it gets more expensive...', 'I received the product, but I will return it due to voltage. In my region it is 220v\\n', 'Yes, I received it, but the electric grinder arrived with a broken lid. ', \"I haven't received my purchase, and it's been a long time.\", 'The cocozinho pillow was missing, the product was stated in the note, but the product was NOT delivered', 'Simple but effective product for its purpose. Very good delivery. Well before the deadline.', 'The product was delivered within the stipulated time and is exactly what the advertisement says it is. I am completely satisfied with the store and the product. I recommend it to everyone.', \"It's a great purchase option, but the last things I bought haven't arrived yet, these points need to be improved, but not all of them were like this \", 'The store delivered the product before the deadline, everything was fine, thank you', 'Very fast store. Product exactly as advertised.', 'I recommend it to everyone!', 'I received the product before the arrest.', 'Exactly as in the ad.\\nFast delivery.\\nVery satisfied', 'Order has stalled at the Cajamar dos Correios unit. I have other orders for other siyes that have been sitting in Cajamar for a long time.', 'I need my product urgently!!!\\nWaiting for a response??', \"Good morning! How do I cancel this purchase? I'm tired of waiting for the money from the card, I've already paid. I need you to help me. Thanks!!\", 'Excellent!', 'My opinion is that I can recommend it without fear of making mistakes, thank you for delivering before the deadline, a week in advance\\n', 'Great service', \"I haven't received the product yet.\", 'PRODUCT BEYOND EXPECTATIONS', 'Good morning.\\n\\nThe product was not delivered due to the postal service.', \"I bought a stethoscope and the store only sent the invoice. The product did not arrive. The post office confirmed that only a 10 gram envelope was posted. And not the stethoscope\\nIf it doesn't arrive, I will process it.\", 'Delivery to São Paulo took place well before the estimated deadline.', \"I received another product instead of the one I purchased. The invoice in someone else's name. Now I have to check how I will make the change.\", 'It takes time to deliver the product => I purchased it on 03/06/2018 => I received it on 04/09/2018. The store was correct in delivering the product, but it took a long time. ', \"Product arrived correctly, in the box with manual, came in the right color and arrived before the expected deadline, I highly recommend littman, it's great ^^\", 'I received the invoice without my product, the delivery status says it has already been delivered. But they only gave me the invoice.', 'Very fast\\nI liked', 'goodmmmmmmmmmmmmmmmmmmmmmmmmmmmmmmmmmmmmmmmmmmmmmmmmmmmmmmmmmmmmmmmmmmmmmmmmmmmmmmmmmmmmmmmmmmmmmmmmmmmmmmmmmmmmmmmmmmmmmmmmmmmmmmmmmmmmmmmmmmmmmmmmmmmmmmmmmmmmmmmmmm', 'Very good, arrived earlier than expected, exceeded my expectations. Thank you very much .', 'Good afternoon\\nThe product I purchased did not arrive! Only the invoice arrived in the mail. Absurd!!!\\nMy niece received an envelope from the post office addressed to me, when I opened it there was only the invoice.', \"I didn't receive the invoice. I need you to send me the invoice for the product\", 'My assessment is this because here it appears that I received the product and it has not yet arrived home. Please, I would like to know what is happening???\\nYours sincerely, \\nJuliana', 'My product did not come with an invoice and the return is impossible. This is a disregard for the consumer', 'product delivered before expected deadline', 'Thanks', 'Do you have doubts about the product if it is original?\\n', \"The invoice arrived and the product did not arrive, I called the post office and they said that only the envelope arrived, I want to know about the product, and the authenticity code does not match, it says in someone else's name.\", 'the product has not yet arrived, just the invoice', 'I received the wrong color littman', 'Great purchase', 'came the wrong color', 'Only the invoice arrived', 'My product arrived before the promised deadline, thank you very much, I recommend it', 'The product did not come', \"The product was not delivered, only the invoices. I'm waiting for a response.\", 'Product delivered ahead of schedule. Show👏🏻👏🏻👏🏻👏🏻Stark always competent', 'Product arrived perfect, ahead of schedule!', 'Did not deliver the product, invoice issued in the name of another person with another product. You canceled the delivery of the product at your own expense', 'I highly recommend', \"I went to Lannister stores to buy on the Lannister website thinking it was safe, just a mistake, they sent me packaging with a note I don't know if it's real, the product didn't arrive and I paid in cash.\", 'Satisfied with the product. Delivered ahead of schedule, and the product matched what was in the advertisement. However, tracking was not available and it was not possible to access the location of the product ', 'Delivery was even earlier than expected...I really liked it', 'It was delivered within the established deadline, but this deadline is very long.', 'I did not receive the product, the Lannister website states that the product was delivered, I sent an email and did not receive a response. My order constitutes two \"Funko pops\" and I only received one.', 'There were only problems with the post office who made 5 attempts to deliver the goods, but other than that, everything else was good!!!', 'Being a ceramic product, it is fragile. When unpacking, it already showed signs of damage and cracks. I requested a return and am awaiting contact. In addition to bubble wrap, foam is required in the packaging.', 'As always, fast delivery, quality product, well packaged and in perfect condition.', 'GREAT SELLER\\nSUPER RELIABLE, FAST DELIVERY, EVERYTHING RIGHT!!!', 'I want an answer about my order....', 'I bought it in the morning and it arrived the same day, very efficient. It deserves 10 stars.', 'Thank you for your commitment', 'Excellent product, all the details of the character, very beautiful, excellent seller, delivered everything correctly', 'The product arrived ahead of schedule, well packaged and without problems, I recommend the seller', 'Delivered ahead of schedule.', 'The product was delivered almost 2 weeks before the deadline, but the box was ugly with some dents... but the product itself is in excellent condition.', 'I recommend the product arrived as stated. My son loved it!', 'It was delivered within the mentioned period. Came packaged and safe. And the right product arrived.', \"Stark's partner sent the item in perfect condition and excellent delivery time! I really liked the product and the store! Stark is to be congratulated as always!\", 'I paid the shipping cost to receive the product at my home, but in my city the entire area is considered restricted, due to the incompetence of the postal administration, which does not have enough employees.', 'Like everything from FUNKO, it was super worth it ', 'Excellent product for collector. I recommend!', 'I paid and waited around 30 days for shipping (it\\'s already absurd to wait so long). On the deadline for receipt, it appeared on the website as \"product unavailable\". They used my money and now I\\'m waiting for a refund. SHAME', 'The product arrived faster than expected and in excellent condition, as stated.', 'Great seller! I recommend it to everyone!', 'Congratulations....', 'Product arrived very quickly and without any problems', 'The product was broken and without sufficient packaging protection for delivery.', \"The product box arrived all crumpled (it's not the box that was packed for the post office, it's the product box itself) the sword he holds in his hand is crooked, because he was pressed, sad.\", 'I received all the information via email, delivery was made ahead of schedule and the product was of excellent quality.', 'Trustworthy store!! Note 10', \"It arrived much sooner than I expected It's worth it \\n\\n\", 'Fast delivery and high quality product. I loved.', 'It arrived in great condition.', \"I would really like them to send me the product again because it was stolen, I didn't want to be without it!\", 'Lannister the best!', 'Everything as agreed.', 'Lack between stores and customers', 'Very fast, recommended.', 'I recommend the store, my order arrived in a timely manner and in accordance with my expectations.\\n', 'PRODUCT ARRIVED ON TIME', 'one of the best shopping sites', 'I received the wrong product, I bought one model and another one came', 'Congratulations, great product arrived ahead of schedule', 'I recommend this store because it has high-quality people who are committed to customers and quality products.', 'I arrive well before the deadline. Product very well packaged and of great quality', 'Product arrived well before the expected deadline, I recommend it.', 'arrived before the scheduled date.', 'excellent product, I recommend it.', 'Excellent product, delivered on time ', 'Congratulations to the online store. I bought what I was looking for. I received the product before the date. With quality product. I recommend.', \"I didn't receive my order and I have no satisfaction whatsoever as to why, I'm still waiting, if I don't receive it I will take action!\", 'The product was delivered well ahead of schedule, I recommend it, everything was fine, the product was great quality \\n', 'lack of respect for the consumer, they do not provide information about the delay and Lannister stores do not have a call center where we can speak to an attendant.\\nWE DESERVE RESPECT\\nLannister TRA CUSTOMER', \"Just a little narrow in the nose, but overall it's very good\", \"A store that only thinks about taking the customer's money, but doesn't deliver merchandise.\", 'Delivery as agreed and ahead of schedule, excellent! ', 'My product arrived on time and in the right order, thank you for everything\\n', 'Very. Good', 'Very good Arrived well ahead of schedule, ', 'I was very pleased with the purchase, which arrived before the deadline given.', 'Speaker 10 Inches Medium Bass - 8ohms 400w Rms - QVS - 10MGS400-8\\nYOU ONLY RECEIVE 2 UNITS TWO ARE MISSING', 'There was a problem with delivery and so far nothing.', 'It arrived earlier than expected. Very good.', 'I had a little difficulty because the residence number was incorrect. Everything worked out for us.', 'I would like to know when my product arrives?', \"I didn't receive the product,\\nI'm waiting for the amount to be refunded to my credit card!\", 'Very satisfied, they delivered well ahead of schedule and everything was fine with the product. Congratulations to lannister.com and the seller. If all purchases were like this... it would be great!', 'Delivery was made ahead of schedule. The product was delivered in great condition! I recommend!', 'It arrived well and ahead of schedule... I really liked it, I highly recommend it... and I congratulate the Américanas because it follows everything until the end of delivery... congratulations...', 'Everything wonderful', 'Good seller', 'The dish is of good quality but is quite small. I recommend it only for babies.', \"Hello, I bought the product precisely because it is thermal and to my surprise it is not.\\n\\nI added very cold water and it didn't last an hour... I recommend the store but not the product!\", \"I haven't had the chance to test it yet\", 'Keep water fresh for a long time', 'To date, the product has not been delivered', 'Everything OK. Product delivered on time.', 'removing the burrs with sandpaper, great product', 'I ordered a kitchen utensil kit with 6 pieces, and I received a silicone baby dish. I want my product that was ordered, I want to know how we can make this exchange. ', 'I received it in 3 days very quickly, everything was perfect, congratulations', \"Didn't meet the delivery deadline!\", 'QUALITY SOURCE.', 'The order arrived in a timely manner, I liked the efficiency of the delivery, it arrived within the delivery time.', 'Well, my product, which in this case was a computer font, was not delivered. However, they have excellent service.', \"I still haven't received my delivery, I bought a TV a long time ago through Stark and this product, which will be a month ago, hasn't arrived yet...\", 'Very pretty and delivery time better than expected', 'The product met my expectations and surprised me with gifts, as I received several Flamengo keychains.', 'The product meets the need, but the conservation leaves something to be desired.', 'I liked it, it was delivered on time, this is very good.', 'I was very satisfied with the product, exactly what I wanted and with very fast delivery.', 'Sooooo long, even though it was delivered on time!', 'I really loved my product! Exactly as seen on the website and arrived within the estimated time frame at the time of purchase.', 'The delivery time is very long. There are stores that deliver within 8 days', 'I would recommend the store for its speed and concern for the customer.', 'I have already received the product in perfect condition. I recommend the store. Thank you MARILEIDE.', 'Everything was perfect, delivery time, merchandise, just the shipping, which I think is very expensive.', \"So far I haven't received what I bought. And this bag is for my son to take to college with his lunch box. Total hassle. The lunch box arrived and the bag didn't.\", 'If you need to carry something heavier, like cans or fuller containers, this is bad. The cooler has a strap sewn into the velcro flap, if the food/drink was heavier (500g) the strap pulls the flap and opens it.', 'Very good service and meets delivery time', 'Great store delivery is excellent', 'Excellent product, super fast delivery. I recommend the seller ', 'Very good website', 'GREAT PRODUCT', 'Product purchased delivered on time and without any setbacks.', 'Good product. My wife loved it. Super fast delivery. Congratulations baratheon.', 'UNFORTUNATELY, ONE OF THEM CAME CRACKED, BUT THE HEADACHE THAT I WILL HAVE TO REPLACE, WILL BE VERY BIG, BUT EVERYTHING IS IN ORDER', 'It was quick and the mascots are wonderful', 'Excellent delivery...it should be like this in all stores', 'One of the plush feet came with a dark stain of dirt. Other than that, the product is in good condition.', 'Product is in accordance with what was advertised.', 'Congratulations, my product arrived exactly as described and arrived very quickly. I was even surprised. ', 'I received the product extremely quickly. The mug is very beautiful and met my expectations.', 'Product arrived ahead of schedule. I want to congratulate the entire store team. I recommend it.', \"Wonderful towel from Brazil's greatest champion\", 'I bought other products and had no problems, I believe it was due to the product being out of stock.', 'The products arrived correctly and delivered well ahead of schedule, everything arrived well packaged and without any scratches ', 'I am very FRUSTRATED and worried about the \"Targaryen partner\" who has not yet delivered my order. And so far I haven\\'t received a message if I want an explanation. ', \"Pay more attention to your customers' order requests, so there are no inconveniences! \", 'I ordered it as 4 liters, but the real capacity is 3.5 liters.', 'excellent service', \"Very good cutter, the only bad part is that the spatulas only fit, they don't fix it, so when pouring the product you have to hold it with another support.\", 'very good product', 'My product arrived completely broken, I have not received a response so far. \\nI await a response\\nAtt.\\nArchimedes', 'The product came without an invoice, I had to request it over the phone.', 'Everything was well explained, I was able to track the order and received it before the deadline. I really liked.', 'My product arrived, but it was loose inside the box and there was a dent in the lid of the juicer. ', 'PRODUCT NOT DELIVERED, I BOUGHT TWO AND ONLY ONE CAME. ', \"It's a shame... I've always been a customer but from now on I won't buy ANYMORE\", 'It arrived, but not within the deadline stipulated when placing the order.', 'Product delivered on time, very good quality, well packaged and packaged.', 'I really liked', 'Very cool', \"So far, they haven't told me anything. This is terrible for Americans. Treats customers terribly badly.\", 'very beautiful!', 'product delivered in perfect condition', 'Very fast delivery time', 'Super fast delivery, I bought it on Monday, I received it on Wednesday of the same week.\\nBeautiful and charming watch!!!\\nI loved it😍', 'It arrived much earlier than expected!', 'I can only review it after I receive my product!!! At the moment all answers are negative', 'Wonderful product', 'I received it in three days, it was better than I expected. Beautiful watch', 'I recommend it, it was delivered very well packaged and arrived much earlier than expected.', 'Delivered ahead of schedule, loved the product!', \"They haven't delivered both, there's still one left.\", 'Very good. good\\n', 'There is great difficulty in contacting the supplier to resolve any problem.', 'best store I loved the watch so much.', 'I would like a position because my product did not arrive', 'Guys, I received my watch in 2 days, very quickly, the product was perfect, I am very satisfied. I recommend it!', 'Very satisfied', 'Everything ok, fast delivery!! The beautiful watch!!', 'I recommend, delivery on time and good product.', \"Congratulations, I'm very happy. Correct product, delivery before expected date. I want to buy again. I highly recommend it. Thanks \", 'great delivery process. I highly recommend', 'Great perfect I liked the product great quality', \"I haven't received my product yet, I'm not going to evaluate it because I haven't even received it yet.\", \"Shit store didn't deliver my order\", 'Very good service. It arrived very quickly. I recommend!', 'I only received one grant, and there were 2', 'The product purchased does not have the same quality as other perfumes from the same brand that I purchased previously.', 'The product nizzio Amore Advanced Hydration 245g Lacqua Di Fiori was delivered on 06/01/2018 but the Inizzio Amore Golden Classics 100ml Lacqua Di Fiori was not delivered!! I wait for a response', \"I can't believe I bought a Christmas present in November and my wife will be left without a Christmas present due to your incompetence in logistics \\n\\nAfter they started selling like this through partners \", 'I received it before the deadline and the product was well packaged, I just have to thank you', 'I was pleased with the service and the merchandise arrived before the agreed deadline.', 'The first time I bought it, it arrived correctly... the second perfume has not arrived yet and my invoice has already arrived. The amount purchased', \"It says it was delivered but I didn't receive it\", 'I have already made several purchases online and Lannister is very reliable.', 'I recommend', 'Fast', \"It's great to buy through this website, the goods arrive before the deadline.\", 'I recommend it because it was simple to buy and receive my favorite perfume at my home and even better at a good price.', \"The product was supposed to arrive on 05/04 but I haven't received it yet. I want my product!\", 'I received the product well ahead of schedule, well packaged and tracking was perfect! Excellent!!', 'I received everything correctly.', 'very good, I recommend it.', \"The only thing missing was the home theater.\\n Deadline expired.\\nIt's for a school, it was urgent.\", 'Product delivered before date.', 'I love Lannister', 'I bought a product and received another and inferior one.\\nI would like to receive a response to the complaint I made previously.\\nAtt.\\nSuzana Costa', 'great store I recommend it to everyone', 'Product matches the advertisement', 'It was scheduled to be delivered in 21 working days, but it was delivered in just 2 days.', 'Congratulations! Product received before expected date, cheaper and of good quality!', 'It served perfectly on the SUZUKI YES EN 125. 2007', 'I buy and recommend!', 'Always up to date with your sales and delivery commitment\\n', 'PRODUCT EXACTLY AS EXPECTED AND AS ADVERTISED.', 'fast delivery, good product', 'It arrived ahead of schedule! It cost !!;', 'fast delivery product as promised \\n', 'Fast Delivery', 'Product is not original but is well made and works just like the factory.', 'The product must come with screws to attach it to the motorcycle. To be complete when it comes to purchasing without going to physical stores.', 'Regarding the order I purchased, two fairings, one on the left and one on the right, I can only reach the one on the left, the one on the right is missing, I wanted to know when it will arrive; ', 'product, yes side covers, very good and the store never had any problems. ', 'The store is to be congratulated by the mail, very good product', \"Too bad they don't behave with the believer \\n\", 'I bought the mudguard and headlight fairing for the Honda Tornado 250 motorcycle in red, but only the headlight fairing was delivered, without the mudguard. and the invoice states both products.', 'Delivered as agreed, good quality, I recommend it.', \"I want the product, I hope it's in the mail, I didn't receive notification of arrival\", 'I really liked it, you can buy it', \"The exhaust protector didn't come!!\", 'I recommend buying from this store. Delivery was punctual.', '2 items were ordered. Only 1 was delivered. The NF shows 2.', 'The product came differently than what appeared in the image!', 'I am satisfied, store and product.', 'Congratulations to everyone...', \"Ball show for company... they couldn't find me and called me to make the delivery. Note 10.\", 'The delivery deadline for my product was 12/19 and so far it only appears to have been sent to Brasilia.', \"I can't contact anyone to find out about my product. There is also no real information about the reason for the non-delivery of the product, but I cannot make a complaint.\", \"The seat arrived wrong and until now they haven't contacted me and given me a solution to my problem. The product is for a gift until Saturday 11/25 and no one can give me a solution!\", 'Fast delivery and wonderful product! !', 'The product arrived well ahead of schedule! And the product came completely sealed. Congratulations to the store!', \"Delivery was delayed without any contact or justification. I sent a message and still haven't received a response.\", 'I purchased on 11/24 and delivery date was 12/15. The deadline passed two days ago and the product is in the Belo Horizonte Post Office - MG, meaning it will still take several days to be delivered. Zero rating', 'Super late shipping and delivery.', 'Great chair. My daughter loved it.', 'Everything perfect.', 'I received the product before the deadline. Good price and quality. I recommend.', 'great product', '.', 'Product delivered perfectly and before the stated deadline!!!', 'I received it before the deadline and it was very accurate and taken care of.', 'recommend', 'The product arrived well packaged and ahead of schedule!! I recommend!!!', \"It's more worth it than buying disposable pads.\", 'I loved it, very good and beautiful product', \"It took a while to inform that the order had been cancelled. I missed the deadline to buy a new gift for my nephew. I didn't like the attitude and I haven't received a refund yet.\", 'Product arrived well ahead of schedule. I recommend!', \"I'm still waiting for my product today. I paid the required shipping cost.\", 'I bought a seat riser with padding on the seat and \"arms\". You delivered without the lining.', 'I bought the product in the red color in the ad and it came in black. I will not request an exchange because of the work it will take and because, regardless of the color, the function in black is the same.', 'It arrived ahead of schedule and in perfect condition!', 'I received it earlier than expected', 'Impeccable', 'Delivery was fast!!', \"The product is as expected, but anyone who doesn't have great practical sense or has the help of a technician, don't buy it, as it comes completely disassembled with around 300 pieces and has difficult details to assemble. \", 'Product delivered ahead of schedule and in perfect condition!!! I highly recommend', 'very good, on time! I recommend.', 'Product well packaged, new, the model I ordered.', 'It arrived on schedule. Well packaged.', 'Honest company.. arrived earlier than expected.. excellent quality product. . I recommend', \"I haven't received it yet\", \"I'm going to file a complaint with Reclameaqui because, despite informing that they sent me the product for the wrong voltage (I asked for 110V and they sent 220V) I filed a complaint and they didn't give me any satisfaction.\", 'The button turns the device on but does not turn it off. You have to unplug it to turn it off. In other words, it arrived defective.', 'Testing the product! Everything in order for now! I recommend! Thank you very much, Lannister', 'Very fast delivery, well below the specified deadline, pleasantly surprised, congratulations!', 'I received the product in 10 days and the product is working', \"I'm satisfied.\", 'The instruction manual came in a foreign language.', 'efficient device. On the website the brand of the device is printed as 3disinfector and when it arrives it has a different name...update with the correct brand as it is the same device', 'We received the product at the agreed time, and in perfect condition.', 'Good product and delivered on time. Congratulations Lannister and outsourced company. Beautiful partnership.', 'You should inform at the time of purchase that you are not delivering to the location', \"I really like Baratheon, I'm already a customer, thank you\", 'Good product. Just one caveat.... the Post Office was already more efficient', 'I STILL HAVE NOT RECEIVED THE ORDER', 'very good', \"I bought a device for voltage 220 (sta Catarina), they sent 110. In contact with Diluka Power they said they would send a transformer which was received, but the pins don't match, I would have to buy a T\", 'Good afternoon, I bought a product for 110V, but it came with 220V. I would like to exchange the same. ', 'Good product.', \"I haven't received it yet, and I wasn't even told it would be delayed.\", 'Excellent I recommend', 'I received the product, but it came with a broken armrest.\\nI suggest the store packs its products better, as it came packaged in ordinary thin paper.', 'Good quality product, does not come with a wire, I recommend the shielded wire, to avoid interference and does not come with an anti-vandalism protector.', \"The product does not heat up. I left it on for an hour and putting your hand over the wires you can even feel it warm, with a sheet over it, you can't feel anything.\\nI've already notified Lannister.\\n\", 'Congratulations on your respect for the consumer, always communicating the path of the product, delivery time and the product delivered correctly. ', 'I loved the product and it arrived super quickly.', 'I received the product within the stipulated time...\\nHowever, it arrived cracked. ', 'I just wish the company that sent me the product would take more care with the packaging, as I received the scent in a shoe box with images of pink slippers and tiger print slippers.', \"I made the purchase and only the filter arrived, as for the diffuser, I'm waiting until now to see when it will arrive.\", 'I bought 03, paid for 3 and only received 01.', 'The product did not arrive and I already paid for part of the product. The invoice was not even issued and the expected arrival date has expired. I want a refund of the amount paid. Absurd', \"I realized that I had ordered the wrong voltage as soon as I sent the order. I tried calling, making contact via the website, in short, all the possibilities! And I couldn't make contact. I'm asking for a refund \", 'Excellent quality product, super fast delivery, I loved it.', \"I received the correct product, but the NF arrived in someone else's name.\", 'I think the company could put the temperature in the product specification, something like: reaches X temperature in so long, Or at least, the maximum temperature reached, as well as the consumption in KW/h', 'Serious store with its commitments, fast delivery.\\nExcellent store to buy from.', 'Dear\\n\\nThe sheet voltage was wrong, correct 110v. How to proceed now?\\n\\natt\\n', \"I bought 127v and received 220v and now it's a hassle to change!\", 'Very fast delivery', 'excellent...', 'The merchandise was not delivered. He contacted us on 5/22 and advised that the merchandise would be returned to the city of Paraná. I requested a refund of the merchandise.', 'Delivery was carried out very quickly.\\nWell before the given deadline.\\nVery good.', 'Delivery ahead of schedule. Very practical and easy to use product.', 'The product is shipped very well packaged.', 'Gentlemen, I purchased 2 products, they only delivered the Sorcerer Sweeper Mod. Compact Plus, the partner being Targaryen, and the worst thing is that it appears on the Lannister website that the 2 products were delivered', 'Low quality product.\\nIf it were up to me, this product would be removed from the offer list.', 'I recommend the store.', 'Wonderful', \"I didn't receive the merchandise...DELIVERY IS VERY DELAYED...\", 'I have always received good service when shopping online at Lannister stores', ' Great product for everyday life.\\n', 'IT WORKS WELL IF ONLY ONE BRUSH', 'To date I have not received my product.', 'I highly recommend', 'Great quality of purchase and delivery', 'Delivery on time, product as ordered, excellent', 'I bought 4 slicers and only received 2. Now what??? How should I proceed???', 'The product was delivered the day after purchase, BEFORE THE EXPECTED DATE. I liked !!', 'good', 'I loved the product, I recommend it!', 'Great seller. The product arrived on time and lovingly packaged! S', 'xx', \"I haven't received it yet\\n\", 'It has already been used and works perfectly.', 'I received a product! And as described in the note I paid for 2 products', 'Good service', \"The bike is good, but it could be better. The instruction manual is in English and the straps that hold the foot are short. The difficulty selector doesn't work very well either.\", \"It's been a month since I made this purchase, the invoice for which was incorrect, with the amount well below what I paid, they promised a correction and so far there hasn't even been any contact from Targaryen.\", \"Only the cushions were delivered, I didn't receive the miniature Beetle. And I can't talk to\\nNobody in Stark \", 'OK\\n', \"I ordered red balls, I received orange balls, I didn't return them because of the urgency for the product.\", 'The set of billiard balls that I purchased is completely different from the one that was delivered, with the color, material and diameter of the ball being different. As for getting your money back? How should I proceed?', 'OK \\n', 'I was quite satisfied.', 'GOOD PRODUCT. GOOD SELLER. DELIVERY WITHIN THE ARRANGEMENT TIME.', \"I bought 2 mini bikes and only received one, I'm waiting for a return.\", 'I have not received my product yet, however, I have been informed of all the details as to why.', 'The delivery deadline has passed and no one even gives me any satisfaction. Disappointed.', 'SO FAR I HAVE NOTHING TO COMPLAIN', 'I bought it in blue and it came in pink.', 'I really liked the product!', 'The product arrived earlier than expected and in perfect condition.', \"the casserole came, but the balls didn't.\", 'I RECOMMEND', 'Product well packaged and of good quality.', 'delivered ahead of schedule', \"The wrong product was delivered, I contacted them and they will send the correct one. I'm waiting. \", 'For those who are not extremely demanding, I recommend it. The product arrived with small scratches but no damage. Everything ok.', 'Everything as agreed.', 'Great product, I recommend it!!!', 'It arrived quickly and in perfect condition. I recommend\\n', 'I received the product within the established deadline. Reliable store.', 'Product broken into 2 parts, I have already activated the warranty from this Stark \"partner\" but they do not contact me back! Bad business.', 'The company delivers within what it promises, on the last day of the deadline, takes too long, does not delight the customer, as it only fulfills the basic obligation.', 'The only product that arrived in this order was the \"Medicine Slam Ball Para Crossfit 10 Kg Liveup Ls3004-10\".\\nHow will the issue of other matters be resolved?\\t', 'The rackets came loosening the Madeira rubber. I had to glue it on with instant glue. Product grade 3.', 'I received satisfactory service', 'Product delivered ahead of schedule.', 'I recommend it, I liked the towel, and the delivery was made ahead of schedule.', 'The product is good, but the bag it comes with is very weak and came with a torn zipper.', 'Good afternoon!\\nI received the product on time, however I did not receive the correct product. How should I proceed? I want to return it because it was not what I ordered and paid for.', 'Product delivered in perfect condition and ahead of schedule.', 'Very good! I recommend.', \"I just think the delivery time is too long, they could improve, I won't buy anymore due to the delivery time. \", 'A very different flashlight for general use.', 'I would like to clarify that the delivery was incomplete, missing 1 raincoat. I request action.', 'Product arrived on time, in perfect condition and was incredibly packaged. Very well packaged... It arrived without any scratches! ', \"It's taking too long\", 'The naltika shoulder bag did not come', 'Arrived before deadline', 'Goods delivered ahead of schedule\\n', 'Product with expensive shipping and I did not receive the product.', 'Provides good service.', \"Regarding the delivery time, everything was fine. Regarding the product, I don't know, because I'm still going to consume it.\", 'FAILURE TO COMPLY WITH THE PROMISED DEADLINE WHICH EXPIRED A WEEK AGO. PRODUCT NOT DELIVERED.', 'We find it unfavorable to pay for shipping and have the discomfort of picking it up at the Post Office.', 'Submit within the specified deadline', 'I liked the ease!', 'Very good to negotiate with this partner. We received the right product, on the agreed date.', 'I kindly ask you to speed up the delivery of this product.', 'I request a refund of the payment via credit card, due to non-delivery of the product.', \"I can't evaluate it for now, the product was posted and a strike occurred in the country. Thanks.\", 'I received a message from Lannister asking me to pick up my order at the Post Office. I went and everything was OK. I already have another order with the same product.', 'excellent punctuality', \"I didn't receive any notifications from the post office or any phone calls, I didn't know I would have to keep checking my email, as the delivery fee was included\", 'Good buy.', 'No comments....', 'Received on time', 'NF WITH A VALUE EXTREMELY LOWER THAN THE AMOUNT PAID', 'I have already made several purchases at Lannister stores without any problems, but this one is long overdue.', 'Great product and super fast delivery', 'For the second time I did not receive the product purchased from the lannister.com store.\\n\\n1st - A book \"Brazilian Birds.\\n2nd Remedy \"Moringa Aleifera.\\n\\nI request action, otherwise I will take appropriate measures', 'I bought Fenugreek, they gave me Ginkgo Biloba and I STRONGLY ask you to exchange it at my home.\\nThanks!', \"I still don't know the promised result, but as for the sale, everything is as expected.\", \"I can't give an evaluation yet because I've just started, it hasn't had any effect.\", 'fast delivery, and correct, I really liked it', 'I would like to know why I received the note worth 14.20 if in reality it was not the price I paid?', 'I recommend the website', 'So far everything is perfect, very good', \"The product was delivered exchanged, I bought St. John's wort and received another medicine called Moringa Oleifeira\\nI tried to contact the seller by phone, number that was on the invoice, no answer\", 'Delivered on time, very good', 'Very good!', 'Excellent product and delivery', 'Deadline met and product received without problems.', 'I LIKED', 'Very good I recommend', 'Product arrived on time, well packaged and in perfect condition. Excellent. ', 'appropriate packaging, delivered on time', 'Dear all, I need the supplier to contact the post office as the product stopped inside the post office.', 'I recommend the store, they delivered on time and the product arrived in perfect condition!!', \"I didn't receive it. Looking forward to receiving.\", 'As I already reported, I received two shipments of the product and I hope that only one was sent to the card. \\nI would like to request the removal of the extra product.', 'TODAY I STILL HAVE NOT RECEIVED MY MERCHANDISE, I AM WAITING FOR IT.', 'Good Seller, the product arrived on time and very well stored.', 'Everything ok, delivery on time, great.', 'My opinion is that the saddest of all is the lack of commitment to a stark client who also did nothing. Lost my family as a general customer.', 'I recommend it because it meets the deadline and delivers quickly.', 'I received the product as requested, but the deadline is ridiculous, if I were to pick it up by bike it would arrive sooner!', \"I still haven't received the product\", 'As it was my first purchase, I have nothing to complain about, it was a good compromise.', 'Nothing arrived for my product.', 'This is my first purchase. I hope I have better luck next time', 'fast delivery', 'Shipping could be free.', 'I recommend the company for its speed, packaging and excellent service. I wish you success and good business.', 'I JUST THOUGHT IT TOOK TOO LONG TO DELIVER', 'Congratulations, it arrived before the deadline.', 'Likeeeeeeeeeeeeeeeeeeeeeeeeeeeeeeeeeeeeeeeeeeeeeeeeeeeeeeeeeeeee', 'Good service. Good product', 'Still evaluating the usefulness...', 'I started using it now', 'Easy, fast and reliable online shopping. Delivery before the expected deadline. Now we just need to start taking the strawberry capsules and wait for the announced benefits.', 'It arrived before the deadline.', 'The product was delivered on time.', 'I recommend the store, as it fulfilled what was agreed.', 'I loved buying from you and receiving it well before the deadline', 'very satisfied with the service provided', 'very good................................', 'This is. Third purchase made on this website, hence we become partners again.\\n', 'I always buy from Stark and deliveries are always on the scheduled date, sometimes they even arrive earlier', \"I received the product before the scheduled date, I'm waiting for results as I only started taking the medicine two days ago.\", \"THE STORE IS GREAT. IT'S A Pity YOU USE THE POST OFFICE FOR DELIVERY.\", \"Product arrived on time. I'll test it to see if it really works.\", 'All products were sent to me correctly. I recommend As Lannister for the speed of packaging and excellent service. Successful business and sales. Soila Leão', 'The product arrived well before the scheduled date. I thought it was great!', 'just needed to deliver faster', 'Super smooth purchase, good price and delivery ahead of schedule.', 'The product I purchased was not delivered, I have already complained and have not yet received a response.\\n', \"We don't have efficient tracking and we don't know why it didn't deliver, other stores I bought from always had it delivered early, so I didn't like it and I buy from you Diogo.\", \"I took 40 capsules and I'm still alive, so it's a good product.\", 'Please check with the company and carrier, as my order has not yet been delivered.\\nCounting on your support.\\n', 'So, the product arrived correctly, but the invoice came with a value that was very different from what was paid.\\nI paid a total of 95 reais and the note came with a value of 8.00.\\n', 'S', \"Admirable service and speed of delivery. Now let's use the product. I have already started treatment.\\nThanks.\", \"As for excellent delivery, I still can't speak about the product, I received it yesterday \", 'I received the products on time and without any bureaucracy!', 'The product arrived before the expected deadline!', 'I enjoyed shopping with you, thank you for the good service.', 'I partially received it.', 'I highly recommend this store, it is correct and delivery is fast.', 'I RECOMMEND THIS STORE, BECAUSE TO THIS DAY EVERYTHING I HAVE PURCHASED, I RECEIVED IN PERFECT CONDITION AND ON TIME', 'great and reliable sellers.\\nWhen I need to buy, I will always be looking for this safe and peaceful way.. ', \"I still haven't received my product, it's totally out of date, I feel aggrieved.\", \"I still haven't received the order yet!\", 'Fast delivery and correct product.', 'I just thought the deadline given was too long. Good thing it came much earlier.', 'Product delivered as ordered. Very good purchase.', \"I'm waiting for the product\", 'I will probably avoid purchasing again, as delivery takes a long time.', 'It was a little annoying due to the delay. Approximately 20 days. But it was worth it.', 'The product was delivered within the expected deadline... I highly recommend it.', 'Product delivered wrong, I bought a product and received a completely different one.', 'I received it on time.', 'I liked the purchase... Unfortunately, our post office is a joke!!!! I always have to pick up my orders!!!', 'The product is excellent and the store delivered on time', 'excellent\\n\\n', \"Delivery ahead of schedule, product ok... but I can't evaluate it before consuming it for a certain period of time.\", 'product delivered on time and as expected', \"I didn't get any response about the stark card\", 'I really liked the deadline, it was delivered ahead of schedule.', 'Delivery on time. Product delivered according to order.', 'Excellent logistics', 'My order arrived well ahead of schedule, thank you', 'The product arrived before the specified deadline', 'Negotiation within the framework.', \"I don't usually shop on the website, I've already shopped at Lannister stores because it's a reputable store, it worked out really well and I'm happy with it.\", 'I bought two products and one product was missing, I sent a complaint and am waiting for a response.', 'The requested product was delivered with some delay but in perfect condition, Thank you very much.', 'Product delivered as stated and delivered before the deadline given. Congratulations!', 'Total confidence in my purchases.', 'I recommend this store. I never had any problems', 'The product was delivered as ordered, this is very important when making a new purchase.', 'All good. 100%', 'I liked', \"The right packaging didn't come\", \"I can't wait\", 'Two disturbing things: the invoice only states 1 bottle, it should have been 6; the info. Nutritional gives 100% V/D per capsule and the way of use recommends the daily consumption of 2 capsules.', \"Expected deadline was 12 days. It's been 30 and so far we've run out of merchandise.\", 'Satisfied with the purchase', 'Product not delivered and no explanation given.', 'product as advertised, wait for results', 'Trustworthy company.', \"I received the wrong product, I've been trying to resolve it for three days and I can't. I want to return what I received and I don't know how to do it. I want to receive the amount back, as I had to buy my product in another store.\", 'very satisfied with my purchase!!!!!', \"I haven't received my product and I can't contact the store either. Absurd!!!\", 'I always buy from Lannister stores and they are always very well served with my products delivered on time', 'The order was partially delivered. Horse chestnut came, but Moringa was missing.', 'They delivered correctly on time!', 'Super fast delivery and great quality product.', \"The product was not delivered. And I can't stay at home all the time waiting. I have to work.\", 'Although it was delivered on time (one day later), it would have been nice if the delivery was faster and that it included a sheet with a list of what the product is for. Thanks', 'No opinion', 'Until this date I have not received the product (07.08.18)', \"I've bought from this store several times and I recommend it!\", 'The magnesium chloride kit is more worthwhile than buying individually in pharmacies and drugstores.', 'I cannot evaluate a product that I did not receive.', 'Excellent quality product; Great price; Great sales service; Good seller I recommend! rating 10 10 10', 'The store should pay more attention to the order items before sending them to the customer.', \"I'll see if the product is what they promise\", 'Always fast and accurate delivery.', 'Hello good evening, product was not delivered?', 'fast and efficient delivery', 'Satisfaction guaranteed', 'Since I started working with partners, delivery has become ridiculous', \"I recommend this store because I know it, but I'm waiting for merchandise.\", 'Good morning,\\n\\nStill waiting for the order today. How can I evaluate? Bad?', 'No comments.', 'very good!', 'The product purchased was Moringa in capsules, which, however, was already used at a local compounding pharmacy. The one I bought now has no effect whatsoever.', 'Store note 10', 'The reference will only be given when the product is purchased and delivered, which is within the agreed deadline. But I will only recommend the store after using the medicine and getting the results. Greetings to you\\nLAm', 'Very good arrived earlier than expected']\n",
      "Labels: [[0.0, -1.0, 0.0, 0.0, 0.0], [0.0, -1.0, 0.0, 0.0, -1.0], [0.0, 0.0, 0.0, 0.0, 1.0], [1.0, 1.0, 0.0, 0.0, 0.0], [0.0, 0.0, 0.0, 0.0, 1.0], [0.0, 0.0, 0.0, 0.0, -1.0], [1.0, 1.0, 0.0, 0.0, -1.0], [0.0, 1.0, 0.0, 0.0, 0.0], [1.0, 0.0, 0.0, 0.0, 0.0], [-1.0, 0.0, 0.0, 0.0, 0.0], [1.0, 1.0, 0.0, 0.0, 0.0], [0.0, -1.0, 0.0, 0.0, 0.0], [1.0, 1.0, 0.0, 0.0, 0.0], [0.0, 1.0, 0.0, 0.0, 0.0], [0.0, -1.0, 0.0, -1.0, 0.0], [0.0, 1.0, 0.0, 1.0, 0.0], [0.0, 0.0, 0.0, 0.0, 1.0], [1.0, 1.0, 0.0, 1.0, 0.0], [0.0, -1.0, 0.0, 0.0, 0.0], [0.0, 0.0, 0.0, 0.0, 1.0], [1.0, 1.0, 0.0, 0.0, 0.0], [1.0, 0.0, 1.0, 0.0, 0.0], [0.0, 0.0, 0.0, 0.0, 1.0], [0.0, -1.0, 0.0, 0.0, 0.0], [-1.0, 0.0, 0.0, 1.0, 0.0], [0.0, -1.0, 0.0, 0.0, 0.0], [0.0, 0.0, 0.0, 0.0, -1.0], [0.0, 1.0, 0.0, 0.0, 0.0], [0.0, 0.0, 0.0, 0.0, -1.0], [-1.0, 0.0, 0.0, 0.0, 0.0], [1.0, 1.0, 0.0, 0.0, 0.0], [0.0, 0.0, 0.0, 0.0, -1.0], [-1.0, 0.0, 0.0, 0.0, 0.0], [0.0, 1.0, 0.0, 0.0, 0.0], [-1.0, 0.0, 0.0, 0.0, 0.0], [1.0, 0.0, 0.0, 0.0, 0.0], [0.0, 1.0, 0.0, 0.0, 0.0], [-1.0, 0.0, 0.0, 0.0, 0.0], [0.0, 1.0, 0.0, 0.0, 0.0], [0.0, 1.0, 0.0, 0.0, 0.0], [0.0, -1.0, 0.0, 0.0, 0.0], [0.0, 1.0, 0.0, 1.0, 0.0], [1.0, 0.0, 0.0, 1.0, 0.0], [0.0, 1.0, 0.0, 0.0, 0.0], [0.0, 0.0, 0.0, 0.0, 1.0], [0.0, -1.0, 0.0, 0.0, 0.0], [0.0, 1.0, 0.0, 0.0, 1.0], [-1.0, 0.0, 0.0, 0.0, 0.0], [0.0, -1.0, 0.0, 0.0, 0.0], [1.0, 1.0, 0.0, 0.0, 0.0], [-1.0, 1.0, 1.0, 0.0, 0.0], [1.0, 1.0, 0.0, 1.0, 0.0], [0.0, 0.0, 0.0, 0.0, 1.0], [0.0, 1.0, 1.0, 0.0, 0.0], [0.0, 0.0, 0.0, 0.0, 1.0], [-1.0, 0.0, 0.0, 0.0, 0.0], [-1.0, 0.0, 0.0, 0.0, -1.0], [-1.0, 0.0, 0.0, 0.0, 0.0], [0.0, 0.0, 0.0, 0.0, 1.0], [1.0, 1.0, 0.0, 1.0, 0.0], [1.0, 1.0, 0.0, 0.0, 0.0], [1.0, 1.0, 0.0, 0.0, 0.0], [-1.0, 0.0, 0.0, 0.0, 0.0], [1.0, 1.0, 0.0, 1.0, 0.0], [-1.0, 0.0, 0.0, 0.0, 0.0], [1.0, 1.0, 0.0, 1.0, 0.0], [1.0, 1.0, 0.0, 0.0, 0.0], [1.0, 0.0, 0.0, 1.0, 0.0], [-1.0, 0.0, 0.0, 0.0, 0.0], [0.0, 0.0, 0.0, 0.0, 1.0], [0.0, 0.0, 0.0, 0.0, 1.0], [0.0, 0.0, 0.0, 0.0, -1.0], [1.0, 1.0, 0.0, 0.0, 0.0], [0.0, 0.0, 0.0, 0.0, 1.0], [0.0, -1.0, 0.0, 0.0, -1.0], [1.0, 0.0, 0.0, 0.0, 0.0], [0.0, -1.0, 0.0, 0.0, -1.0], [1.0, 1.0, 0.0, 0.0, 0.0], [-1.0, 0.0, 0.0, 0.0, 0.0], [1.0, 0.0, 0.0, 0.0, 0.0], [0.0, 0.0, -1.0, 0.0, 0.0], [1.0, 0.0, 0.0, 0.0, 1.0], [-1.0, 0.0, 0.0, 0.0, 0.0], [0.0, 1.0, 0.0, 0.0, 0.0], [0.0, 0.0, 0.0, 0.0, 1.0], [-1.0, 0.0, 0.0, 0.0, 0.0], [0.0, 0.0, 0.0, 0.0, 1.0], [1.0, 1.0, 0.0, 1.0, 0.0], [0.0, 1.0, 0.0, 0.0, 0.0], [0.0, 0.0, 0.0, 0.0, 0.0], [0.0, 1.0, 0.0, 0.0, 0.0], [-1.0, 1.0, 0.0, 0.0, 0.0], [-1.0, 0.0, 0.0, -1.0, 0.0], [0.0, -1.0, 0.0, -1.0, -1.0], [0.0, -1.0, 0.0, 0.0, 0.0], [-1.0, 0.0, 0.0, 0.0, 0.0], [0.0, -1.0, 0.0, 0.0, 0.0], [-1.0, 0.0, 0.0, 0.0, 0.0], [-1.0, 0.0, 0.0, 0.0, 0.0], [1.0, 0.0, 0.0, 0.0, 0.0], [1.0, 1.0, 0.0, 0.0, 0.0], [0.0, 1.0, 0.0, 0.0, 0.0], [0.0, -1.0, 0.0, 0.0, 0.0], [-1.0, 0.0, 0.0, 0.0, 0.0], [0.0, 0.0, 0.0, 0.0, 1.0], [1.0, 1.0, 0.0, 0.0, 0.0], [0.0, -1.0, 0.0, 0.0, -1.0], [0.0, 0.0, 0.0, 0.0, 1.0], [1.0, 0.0, 0.0, 0.0, 0.0], [1.0, 0.0, 0.0, 0.0, 0.0], [1.0, 1.0, 0.0, 0.0, 0.0], [0.0, 0.0, 0.0, 0.0, 1.0], [0.0, 1.0, 0.0, 0.0, 0.0], [1.0, 1.0, 0.0, 0.0, 0.0], [0.0, 0.0, 0.0, 0.0, 1.0], [0.0, 0.0, 0.0, 0.0, -1.0], [1.0, 1.0, 0.0, 0.0, 0.0], [0.0, 0.0, 0.0, 0.0, -1.0], [0.0, 0.0, 0.0, 0.0, -1.0], [0.0, -1.0, 0.0, 0.0, -1.0], [1.0, 0.0, 0.0, 0.0, 0.0], [0.0, -1.0, 0.0, 0.0, 0.0], [0.0, -1.0, 0.0, 0.0, 0.0], [0.0, 0.0, 0.0, 1.0, 1.0], [0.0, -1.0, 0.0, 0.0, 0.0], [0.0, 0.0, 0.0, 1.0, 0.0], [0.0, 0.0, 0.0, -1.0, -1.0], [1.0, 1.0, 0.0, 0.0, 0.0], [0.0, 0.0, 0.0, 0.0, 1.0], [0.0, -1.0, 0.0, 0.0, -1.0], [0.0, 0.0, 0.0, 0.0, 1.0], [1.0, 0.0, 0.0, 0.0, 0.0], [0.0, 1.0, 0.0, 0.0, 0.0], [0.0, 0.0, 0.0, 0.0, 1.0], [0.0, 0.0, 1.0, 1.0, 0.0], [1.0, 0.0, 0.0, 0.0, 0.0], [0.0, 0.0, 0.0, 0.0, 1.0], [0.0, -1.0, 0.0, 0.0, 0.0], [1.0, 0.0, 0.0, 0.0, 0.0], [1.0, 0.0, 0.0, 1.0, 0.0], [1.0, 0.0, 0.0, 0.0, 0.0], [0.0, 1.0, 0.0, 0.0, 0.0], [1.0, 1.0, 0.0, 1.0, 0.0], [1.0, 1.0, 0.0, 0.0, 0.0], [0.0, -1.0, 0.0, 0.0, 0.0], [1.0, 0.0, 0.0, 0.0, 1.0], [0.0, 0.0, 0.0, 0.0, 1.0], [-1.0, 0.0, 0.0, 0.0, 0.0], [0.0, 1.0, 0.0, 0.0, -1.0], [0.0, 0.0, 0.0, 0.0, -1.0], [1.0, 1.0, 0.0, 0.0, 0.0], [0.0, 1.0, 0.0, 0.0, 0.0], [0.0, -1.0, 0.0, 0.0, -1.0], [0.0, 0.0, 0.0, 0.0, 1.0], [1.0, 1.0, 0.0, 1.0, 0.0], [-1.0, 0.0, 0.0, 0.0, 0.0], [-1.0, 0.0, 0.0, 0.0, 0.0], [1.0, 0.0, 0.0, 0.0, 0.0], [1.0, 0.0, 0.0, 0.0, 0.0], [-1.0, 0.0, 0.0, 0.0, 0.0], [-1.0, 0.0, 0.0, 0.0, 0.0], [-1.0, 0.0, 0.0, 0.0, -1.0], [-1.0, 0.0, 0.0, -1.0, 0.0], [0.0, 0.0, 0.0, 0.0, 1.0], [0.0, -1.0, 0.0, 0.0, 0.0], [1.0, 1.0, 0.0, 0.0, 0.0], [0.0, 0.0, 0.0, 1.0, 1.0], [1.0, 1.0, 0.0, 1.0, 0.0], [1.0, 1.0, 0.0, 1.0, 0.0], [0.0, 0.0, 0.0, 0.0, -1.0], [1.0, 0.0, 0.0, 0.0, 0.0], [0.0, 0.0, 0.0, 0.0, -1.0], [0.0, 0.0, 0.0, 0.0, -1.0], [0.0, -1.0, 0.0, 0.0, 0.0], [0.0, 1.0, 0.0, 0.0, 0.0], [0.0, 0.0, 0.0, 0.0, -1.0], [0.0, 0.0, 0.0, 0.0, 1.0], [0.0, 1.0, 0.0, 0.0, 0.0], [0.0, 1.0, 0.0, 0.0, 0.0], [1.0, 1.0, 0.0, 0.0, 0.0], [0.0, 0.0, 0.0, 0.0, -1.0], [1.0, 1.0, 0.0, 0.0, 0.0], [1.0, 1.0, 0.0, 1.0, 0.0], [0.0, 1.0, 0.0, 0.0, 0.0], [0.0, -1.0, 0.0, 0.0, 0.0], [0.0, -1.0, 0.0, 0.0, 0.0], [0.0, 0.0, 0.0, 0.0, -1.0], [0.0, 0.0, 0.0, 0.0, -1.0], [0.0, 0.0, 0.0, 0.0, 1.0], [1.0, 1.0, 0.0, 0.0, 0.0], [0.0, 0.0, 0.0, 0.0, -1.0], [1.0, 1.0, 0.0, 0.0, 0.0], [0.0, 1.0, 0.0, 0.0, 0.0], [0.0, -1.0, 0.0, 0.0, 0.0], [0.0, 0.0, 0.0, 0.0, 1.0], [0.0, 0.0, 0.0, 1.0, 1.0], [0.0, 0.0, 0.0, 0.0, -1.0], [1.0, 1.0, 0.0, 0.0, 0.0], [0.0, -1.0, 0.0, 0.0, -1.0], [0.0, 1.0, 0.0, 0.0, 0.0], [-1.0, 0.0, 0.0, 0.0, 0.0], [0.0, 0.0, 0.0, 0.0, 1.0], [1.0, 0.0, 0.0, 0.0, 0.0], [0.0, 0.0, 0.0, 0.0, -1.0], [0.0, 1.0, 0.0, 1.0, 0.0], [0.0, 0.0, 0.0, 1.0, 1.0], [0.0, 0.0, 0.0, 0.0, -1.0], [0.0, 0.0, 0.0, 0.0, -1.0], [0.0, -1.0, 0.0, 0.0, 0.0], [0.0, 1.0, 0.0, 0.0, 0.0], [-1.0, 0.0, 0.0, 0.0, 0.0], [1.0, 0.0, 0.0, 0.0, 0.0], [0.0, 1.0, 0.0, 0.0, 0.0], [0.0, 1.0, 0.0, 1.0, 0.0], [1.0, 0.0, 0.0, 0.0, 0.0], [1.0, 0.0, 0.0, 0.0, 0.0], [0.0, 0.0, -1.0, 1.0, 0.0], [1.0, 1.0, 0.0, 1.0, 0.0], [0.0, 0.0, 0.0, 0.0, 1.0], [1.0, -1.0, 0.0, 0.0, 0.0], [1.0, 0.0, 0.0, 0.0, 0.0], [0.0, 0.0, 0.0, 0.0, 1.0], [0.0, -1.0, 0.0, 0.0, 0.0], [1.0, 1.0, 0.0, 0.0, 0.0], [1.0, 1.0, 0.0, 1.0, 0.0], [0.0, 0.0, 0.0, 0.0, -1.0], [1.0, 1.0, 0.0, 0.0, 0.0], [0.0, 0.0, 0.0, 0.0, -1.0], [0.0, 0.0, 0.0, 0.0, -1.0], [0.0, 1.0, 0.0, 0.0, 0.0], [0.0, 1.0, 0.0, 0.0, 0.0], [0.0, 0.0, 0.0, 0.0, 0.0], [0.0, 0.0, 0.0, 0.0, -1.0], [0.0, 0.0, 0.0, 0.0, -1.0], [1.0, 1.0, 0.0, 0.0, 0.0], [0.0, 0.0, 0.0, 0.0, -1.0], [0.0, 1.0, 1.0, 1.0, 0.0], [0.0, -1.0, 0.0, 0.0, 0.0], [0.0, 0.0, 0.0, 0.0, -1.0], [0.0, 0.0, 0.0, 0.0, 1.0], [1.0, 0.0, 0.0, 1.0, 0.0], [0.0, -1.0, 0.0, 1.0, 0.0], [0.0, 1.0, 0.0, 0.0, 0.0], [0.0, -1.0, 0.0, 0.0, 0.0], [0.0, -1.0, 0.0, 0.0, 0.0], [0.0, 1.0, 0.0, 0.0, 0.0], [1.0, 1.0, 0.0, 0.0, 0.0], [0.0, 0.0, 0.0, 0.0, -1.0], [0.0, 0.0, 0.0, 0.0, -1.0], [0.0, 0.0, 0.0, 0.0, -1.0], [0.0, 0.0, 0.0, 0.0, -1.0], [0.0, 0.0, 0.0, 0.0, -1.0], [-1.0, -1.0, 0.0, 0.0, 0.0], [0.0, -1.0, -1.0, 0.0, 0.0], [0.0, -1.0, 0.0, 0.0, 0.0], [0.0, -1.0, 0.0, 0.0, 0.0], [1.0, 0.0, 0.0, 0.0, 0.0], [1.0, 0.0, 0.0, 0.0, 0.0], [0.0, -1.0, 0.0, 0.0, 0.0], [-1.0, 0.0, 0.0, 0.0, 0.0], [0.0, 0.0, 0.0, 0.0, -1.0], [0.0, 0.0, 0.0, 0.0, -1.0], [0.0, 0.0, 0.0, 0.0, 1.0], [0.0, 0.0, 0.0, 0.0, -1.0], [0.0, -1.0, 0.0, 0.0, -1.0], [1.0, 1.0, 0.0, 0.0, 1.0], [1.0, 1.0, 0.0, 0.0, 0.0], [0.0, 0.0, 0.0, 1.0, 0.0], [0.0, 0.0, 0.0, 0.0, 1.0], [0.0, 1.0, 0.0, 0.0, 1.0], [1.0, 1.0, 0.0, 1.0, 0.0], [1.0, 1.0, 0.0, 0.0, 0.0], [0.0, 1.0, 0.0, 0.0, 1.0], [0.0, 1.0, 0.0, 0.0, 1.0], [0.0, 0.0, 0.0, 0.0, 1.0], [0.0, 1.0, 0.0, 0.0, 1.0], [1.0, 0.0, 0.0, 0.0, 0.0], [1.0, 1.0, 0.0, 0.0, 0.0], [0.0, 0.0, 0.0, 0.0, 1.0], [-1.0, 0.0, 0.0, 0.0, 0.0], [1.0, 0.0, 0.0, 0.0, 0.0], [0.0, -1.0, 0.0, 0.0, 0.0], [0.0, -1.0, 0.0, -1.0, 0.0], [0.0, -1.0, 0.0, 0.0, 0.0], [0.0, 0.0, 0.0, 0.0, -1.0], [1.0, 0.0, 0.0, 0.0, -1.0], [0.0, 0.0, 0.0, 0.0, -1.0], [0.0, 0.0, 0.0, 0.0, -1.0], [0.0, 1.0, 0.0, 1.0, 0.0], [1.0, 1.0, 0.0, 1.0, 0.0], [0.0, 1.0, 0.0, 0.0, 1.0], [1.0, 1.0, 0.0, 0.0, 0.0], [0.0, 0.0, 0.0, 1.0, 0.0], [0.0, -1.0, 0.0, 0.0, 0.0], [0.0, 0.0, 0.0, 0.0, 1.0], [0.0, -1.0, 0.0, 0.0, -1.0], [0.0, 0.0, 0.0, 0.0, -1.0], [0.0, 0.0, 0.0, 0.0, -1.0], [1.0, 0.0, 0.0, 0.0, 1.0], [0.0, 1.0, 0.0, 0.0, 1.0], [-1.0, 0.0, 0.0, 0.0, 0.0], [0.0, 0.0, 0.0, 0.0, -1.0], [0.0, 0.0, 0.0, 1.0, 1.0], [1.0, 1.0, 0.0, 1.0, 0.0], [0.0, -1.0, 0.0, 0.0, 0.0], [1.0, 1.0, 0.0, 0.0, 0.0], [-1.0, 1.0, 0.0, 0.0, 0.0], [0.0, 1.0, 0.0, 0.0, 1.0], [0.0, 1.0, 0.0, 0.0, 0.0], [0.0, 0.0, 0.0, 0.0, 1.0], [0.0, 0.0, 0.0, 0.0, -1.0], [1.0, 1.0, 0.0, 0.0, 0.0], [0.0, 1.0, 0.0, 0.0, 1.0], [0.0, 1.0, 0.0, 0.0, 1.0], [0.0, 0.0, 0.0, 0.0, 1.0], [-1.0, 0.0, 0.0, 0.0, -1.0], [0.0, 1.0, 0.0, 0.0, 0.0], [-1.0, 0.0, 0.0, 0.0, 0.0], [-1.0, 0.0, 0.0, 0.0, 0.0], [0.0, 1.0, 0.0, 0.0, -1.0], [0.0, 0.0, 0.0, 1.0, 0.0], [0.0, 0.0, 0.0, 0.0, 1.0], [0.0, 1.0, 0.0, 0.0, 0.0], [0.0, 0.0, 0.0, 0.0, 1.0], [0.0, -1.0, 0.0, 0.0, 0.0], [-1.0, 1.0, 0.0, 0.0, 0.0], [-1.0, 0.0, 0.0, 0.0, 0.0], [1.0, 0.0, 0.0, 0.0, 0.0], [1.0, 1.0, 0.0, 0.0, 0.0], [-1.0, 0.0, 0.0, 0.0, 0.0], [0.0, 0.0, 0.0, 0.0, 1.0], [0.0, -1.0, 0.0, 0.0, 0.0], [0.0, -1.0, 0.0, 0.0, -1.0], [0.0, -1.0, 0.0, 0.0, -1.0], [0.0, 1.0, 0.0, -1.0, 0.0], [0.0, 1.0, 0.0, 0.0, 1.0], [0.0, 0.0, -1.0, 0.0, 0.0], [0.0, 0.0, 0.0, 0.0, 1.0], [0.0, 1.0, 0.0, 0.0, -1.0], [1.0, 1.0, 0.0, 0.0, 0.0], [0.0, 0.0, 0.0, 0.0, -1.0], [0.0, -1.0, 0.0, 0.0, 0.0], [0.0, -1.0, 0.0, 0.0, -1.0], [0.0, 0.0, -1.0, 0.0, 0.0], [1.0, 1.0, 0.0, 0.0, 0.0], [-1.0, 0.0, 0.0, 0.0, 0.0], [1.0, 1.0, 0.0, 1.0, 0.0], [1.0, 1.0, 0.0, 1.0, 0.0], [0.0, 1.0, 0.0, 0.0, 0.0], [-1.0, 1.0, 0.0, 0.0, 0.0], [1.0, 1.0, 0.0, 1.0, 0.0], [0.0, 0.0, 0.0, 0.0, 1.0], [1.0, 0.0, 0.0, 0.0, 1.0], [0.0, 0.0, 0.0, 0.0, 1.0], [1.0, 1.0, 0.0, 1.0, 0.0], [0.0, 0.0, 0.0, 0.0, 1.0], [-1.0, 0.0, 0.0, 0.0, -1.0], [-1.0, 0.0, 0.0, 0.0, 0.0], [-1.0, 0.0, 0.0, 0.0, 0.0], [0.0, 0.0, 0.0, 1.0, 0.0], [0.0, -1.0, 0.0, 0.0, 0.0], [0.0, 1.0, 0.0, 0.0, 1.0], [1.0, 1.0, 0.0, 0.0, 0.0], [0.0, -1.0, 0.0, 0.0, 0.0], [1.0, 1.0, 0.0, 1.0, 0.0], [0.0, -1.0, 0.0, 0.0, 0.0], [1.0, 1.0, 0.0, 1.0, 0.0], [0.0, 0.0, 0.0, 0.0, 1.0], [0.0, -1.0, 0.0, 0.0, 0.0], [1.0, 0.0, 0.0, 0.0, 0.0], [0.0, -1.0, 0.0, 0.0, -1.0], [0.0, 0.0, 0.0, 0.0, 1.0], [-1.0, 0.0, 0.0, 0.0, 0.0], [1.0, 1.0, 0.0, 0.0, 0.0], [-1.0, 0.0, 0.0, 0.0, 0.0], [1.0, 1.0, 0.0, 0.0, 0.0], [0.0, 0.0, 0.0, 0.0, -1.0], [1.0, 1.0, 0.0, 0.0, 0.0], [0.0, 1.0, 0.0, 0.0, 1.0], [0.0, -1.0, 0.0, 0.0, 0.0], [1.0, -1.0, 0.0, 0.0, 1.0], [-1.0, 1.0, 0.0, 0.0, 0.0], [0.0, 0.0, 0.0, 0.0, 1.0], [-1.0, 0.0, 0.0, -1.0, 0.0], [0.0, 1.0, 0.0, 0.0, 0.0], [1.0, 0.0, 0.0, 0.0, 0.0], [0.0, 1.0, 0.0, 0.0, 0.0], [-1.0, 0.0, 0.0, 0.0, 0.0], [1.0, 0.0, 0.0, 0.0, -1.0], [1.0, 0.0, 0.0, 0.0, 0.0], [-1.0, 0.0, 0.0, 0.0, 0.0], [1.0, 0.0, 0.0, 0.0, 0.0], [0.0, 0.0, 0.0, 0.0, 1.0], [1.0, 1.0, 0.0, 1.0, 0.0], [0.0, 0.0, 0.0, 0.0, -1.0], [-1.0, 1.0, 0.0, 0.0, 0.0], [0.0, 0.0, 0.0, 0.0, 1.0], [1.0, 0.0, 0.0, 0.0, 0.0], [1.0, 0.0, 0.0, 0.0, 0.0], [1.0, 1.0, 0.0, 0.0, 0.0], [-1.0, 0.0, 0.0, -1.0, 0.0], [1.0, 1.0, 0.0, 0.0, 0.0], [1.0, 1.0, 0.0, 0.0, 0.0], [1.0, 0.0, 0.0, 0.0, 0.0], [1.0, 0.0, 0.0, 1.0, 0.0], [1.0, 1.0, 0.0, 0.0, 1.0], [0.0, 0.0, 0.0, 0.0, 1.0], [1.0, 0.0, 0.0, 0.0, 0.0], [0.0, 0.0, 0.0, 0.0, -1.0], [0.0, 1.0, 0.0, 0.0, 0.0], [1.0, 0.0, 0.0, 0.0, 0.0], [0.0, 0.0, 0.0, 0.0, -1.0], [1.0, 0.0, 0.0, 0.0, 0.0], [0.0, 0.0, 0.0, 0.0, 1.0], [0.0, 0.0, 0.0, 0.0, -1.0], [0.0, 1.0, 0.0, 0.0, 0.0], [0.0, 0.0, 0.0, 1.0, 0.0], [0.0, 1.0, 0.0, 0.0, 0.0], [1.0, 0.0, 0.0, 0.0, 0.0], [1.0, 0.0, 0.0, 1.0, 0.0], [0.0, 0.0, 0.0, 0.0, 1.0], [0.0, 0.0, 0.0, 0.0, -1.0], [0.0, -1.0, 0.0, 0.0, 0.0], [1.0, 0.0, 0.0, 0.0, 0.0], [0.0, 1.0, 0.0, 0.0, 1.0], [1.0, 0.0, 0.0, 0.0, 0.0], [0.0, 1.0, 0.0, 0.0, 0.0], [1.0, 1.0, 0.0, 0.0, 0.0], [1.0, 1.0, 0.0, 0.0, 0.0], [0.0, 0.0, 0.0, 0.0, -1.0], [0.0, 1.0, 0.0, 0.0, 0.0], [-1.0, 0.0, 0.0, 0.0, 0.0], [1.0, 0.0, 0.0, 0.0, 1.0], [1.0, 1.0, 0.0, 0.0, 0.0], [0.0, -1.0, 0.0, 0.0, 0.0], [1.0, 1.0, 0.0, 0.0, 0.0], [1.0, 1.0, 0.0, 0.0, 0.0], [1.0, 1.0, 0.0, 0.0, 0.0], [0.0, 1.0, 0.0, 0.0, 0.0], [1.0, 1.0, 0.0, 0.0, 0.0], [1.0, 1.0, 0.0, 0.0, 0.0], [0.0, 0.0, 0.0, 0.0, 1.0], [-1.0, 0.0, 0.0, 0.0, 0.0], [0.0, -1.0, 0.0, -1.0, -1.0], [1.0, 0.0, 0.0, 0.0, 0.0], [-1.0, 0.0, 0.0, 0.0, 0.0], [0.0, -1.0, 0.0, 0.0, 0.0], [0.0, 0.0, 0.0, 0.0, -1.0], [1.0, 1.0, 0.0, 0.0, 0.0], [0.0, 0.0, 0.0, 0.0, -1.0], [0.0, 0.0, 0.0, 0.0, 1.0], [-1.0, 0.0, 0.0, 0.0, 0.0], [1.0, 0.0, 0.0, 0.0, 0.0], [0.0, 1.0, 0.0, 0.0, 0.0], [1.0, 1.0, 0.0, 0.0, 0.0], [1.0, 1.0, 0.0, 0.0, 0.0], [0.0, 0.0, 0.0, 0.0, -1.0], [1.0, 0.0, 0.0, 0.0, 0.0], [-1.0, 0.0, 0.0, 0.0, 0.0], [1.0, 1.0, 0.0, 0.0, 0.0], [0.0, 0.0, 0.0, 0.0, -1.0], [-1.0, 0.0, 0.0, 0.0, -1.0], [1.0, 1.0, 0.0, 0.0, 0.0], [-1.0, 0.0, 0.0, 0.0, 0.0], [0.0, 0.0, 0.0, 0.0, -1.0], [1.0, 1.0, 0.0, 0.0, 0.0], [0.0, 0.0, 0.0, 0.0, 1.0], [0.0, -1.0, -1.0, 0.0, -1.0], [1.0, 0.0, 0.0, 1.0, 0.0], [1.0, 0.0, 0.0, 0.0, 0.0], [0.0, 0.0, 0.0, 1.0, 0.0], [1.0, 1.0, 0.0, 0.0, 0.0], [1.0, 1.0, 0.0, 0.0, 0.0], [0.0, 1.0, 0.0, 0.0, 0.0], [1.0, 0.0, 0.0, 1.0, 0.0], [1.0, 1.0, 0.0, 0.0, 0.0], [0.0, 0.0, 0.0, 1.0, 0.0], [0.0, 0.0, 0.0, 0.0, -1.0], [0.0, 1.0, 1.0, 1.0, 0.0], [-1.0, 0.0, 0.0, 0.0, -1.0], [1.0, 1.0, 0.0, 0.0, 1.0], [0.0, 0.0, 0.0, 1.0, 1.0], [0.0, 0.0, 0.0, 0.0, -1.0], [1.0, 0.0, 0.0, 0.0, 1.0], [1.0, 0.0, 0.0, 0.0, 0.0], [0.0, -1.0, 0.0, 0.0, 0.0], [0.0, 0.0, 0.0, 1.0, 0.0], [0.0, 1.0, 0.0, 0.0, 1.0], [1.0, 0.0, 0.0, 0.0, 0.0], [0.0, 1.0, 0.0, 0.0, 0.0], [0.0, 1.0, 0.0, 1.0, 1.0], [1.0, 0.0, 0.0, 1.0, 0.0], [-1.0, 0.0, 0.0, 0.0, -1.0], [-1.0, 0.0, 0.0, 0.0, 0.0], [0.0, 0.0, 0.0, 0.0, -1.0], [0.0, 0.0, 0.0, 0.0, -1.0], [0.0, -1.0, 0.0, 0.0, 0.0], [0.0, -1.0, 0.0, 0.0, 0.0], [-1.0, 0.0, 0.0, 0.0, -1.0], [1.0, 1.0, 0.0, 0.0, 0.0], [0.0, -1.0, 0.0, 0.0, 0.0], [0.0, -1.0, 0.0, 0.0, 0.0], [0.0, 0.0, 0.0, 0.0, 1.0], [1.0, 0.0, 0.0, 1.0, 0.0], [0.0, 0.0, 0.0, 1.0, 0.0], [1.0, 1.0, 0.0, 1.0, 0.0], [1.0, 0.0, 0.0, 0.0, 0.0], [0.0, 1.0, 0.0, 0.0, 0.0], [1.0, 1.0, 0.0, 0.0, 0.0], [1.0, 1.0, 0.0, 0.0, 0.0], [0.0, 1.0, 0.0, 0.0, 0.0], [0.0, 1.0, 0.0, 0.0, 0.0], [0.0, 1.0, -1.0, 1.0, 0.0], [0.0, 1.0, 0.0, 0.0, 0.0], [0.0, 0.0, 0.0, -1.0, 0.0], [0.0, 1.0, 0.0, 0.0, 0.0], [0.0, 0.0, 0.0, 1.0, 0.0], [0.0, 0.0, 0.0, 0.0, 1.0], [0.0, 0.0, 0.0, 0.0, 1.0], [1.0, 1.0, 0.0, 0.0, 0.0], [0.0, 0.0, 0.0, 0.0, 1.0], [0.0, 0.0, 0.0, 0.0, 1.0], [0.0, 1.0, 0.0, 0.0, 0.0], [0.0, 0.0, 0.0, 0.0, -1.0], [0.0, 0.0, 0.0, 1.0, 0.0], [0.0, 1.0, 0.0, 0.0, 0.0], [0.0, 0.0, 0.0, 0.0, 1.0], [0.0, 0.0, 0.0, 0.0, -1.0], [1.0, 0.0, 0.0, 1.0, 0.0], [1.0, 0.0, 0.0, -1.0, 0.0], [0.0, -1.0, 0.0, 0.0, 0.0], [0.0, 1.0, 0.0, 0.0, 0.0], [0.0, 1.0, 0.0, 0.0, 0.0], [-1.0, 1.0, 0.0, 0.0, -1.0], [0.0, 0.0, -1.0, 0.0, 0.0], [0.0, 0.0, 0.0, 0.0, -1.0], [-1.0, 0.0, 0.0, 0.0, 0.0], [0.0, -1.0, 0.0, 0.0, 0.0], [0.0, 0.0, 0.0, 0.0, -1.0], [1.0, 1.0, 0.0, 0.0, 0.0], [1.0, 1.0, 0.0, 1.0, 0.0], [0.0, -1.0, 0.0, 0.0, 0.0], [0.0, 1.0, 0.0, 0.0, 0.0], [1.0, 1.0, 0.0, 0.0, 0.0], [0.0, 0.0, 0.0, 1.0, 0.0], [0.0, 1.0, 0.0, 0.0, 0.0], [1.0, 1.0, 0.0, 0.0, 0.0], [0.0, -1.0, 0.0, 0.0, 0.0], [0.0, 0.0, 0.0, 0.0, -1.0], [0.0, 0.0, 0.0, 0.0, -1.0], [0.0, 0.0, 0.0, 0.0, 1.0], [0.0, 1.0, 0.0, 1.0, 0.0], [0.0, 0.0, 0.0, 0.0, 1.0], [0.0, -1.0, 0.0, 0.0, 0.0], [1.0, 0.0, 0.0, 0.0, 0.0], [0.0, -1.0, 0.0, 0.0, 0.0], [0.0, -1.0, 0.0, 0.0, -1.0], [0.0, 1.0, 0.0, 0.0, 0.0], [0.0, 0.0, 0.0, 0.0, -1.0], [0.0, -1.0, 0.0, 0.0, 0.0], [1.0, 1.0, 0.0, 1.0, 0.0], [0.0, 0.0, 0.0, 0.0, -1.0], [0.0, 1.0, 0.0, 0.0, 0.0], [0.0, 0.0, 0.0, 0.0, 1.0], [0.0, 1.0, 0.0, 0.0, 0.0], [0.0, 0.0, 0.0, 0.0, -1.0], [0.0, 0.0, 0.0, 0.0, -1.0], [0.0, -1.0, 0.0, 0.0, 0.0], [0.0, 0.0, 0.0, 0.0, -1.0], [0.0, 1.0, 0.0, 0.0, 0.0], [0.0, 0.0, 0.0, 0.0, 1.0], [-1.0, 0.0, 0.0, 0.0, 0.0], [0.0, -1.0, 0.0, 0.0, -1.0], [0.0, -1.0, 0.0, 0.0, -1.0], [-1.0, 0.0, 0.0, 0.0, 0.0], [0.0, 0.0, 0.0, 0.0, 1.0], [-1.0, 0.0, 0.0, 0.0, 0.0], [0.0, 0.0, 0.0, 0.0, -1.0], [0.0, 1.0, 0.0, 1.0, 0.0], [0.0, -1.0, 0.0, 0.0, 0.0], [0.0, -1.0, 0.0, 0.0, -1.0], [0.0, 1.0, 0.0, 0.0, 1.0], [1.0, 1.0, 0.0, 0.0, 0.0], [0.0, 0.0, 0.0, 0.0, -1.0], [0.0, 0.0, 0.0, 1.0, 0.0], [0.0, -1.0, 0.0, 0.0, -1.0], [1.0, 1.0, 0.0, 0.0, -1.0], [0.0, 1.0, 0.0, 0.0, 0.0], [0.0, -1.0, 0.0, 0.0, 0.0], [0.0, -1.0, 0.0, 0.0, -1.0], [0.0, -1.0, 0.0, 0.0, 0.0], [-1.0, 0.0, 0.0, 0.0, -1.0], [1.0, 1.0, 0.0, 0.0, 0.0], [1.0, 1.0, 0.0, 0.0, 0.0], [0.0, 0.0, 0.0, 0.0, -1.0], [0.0, 1.0, 0.0, 0.0, 0.0], [0.0, 0.0, 0.0, 0.0, 1.0], [1.0, 0.0, 0.0, 0.0, 0.0], [0.0, 1.0, 0.0, 1.0, 0.0], [0.0, 1.0, 0.0, 0.0, 0.0], [1.0, 1.0, 0.0, 0.0, 0.0], [0.0, 1.0, 0.0, 1.0, 0.0], [0.0, 1.0, 0.0, 0.0, 0.0], [1.0, 1.0, 0.0, 0.0, 1.0], [0.0, -1.0, -1.0, 0.0, -1.0], [1.0, 0.0, 0.0, 0.0, 1.0], [1.0, 0.0, 0.0, 1.0, 0.0], [0.0, -1.0, 0.0, 0.0, -1.0], [1.0, 1.0, 0.0, 0.0, 0.0], [0.0, 0.0, 0.0, 1.0, 0.0], [0.0, 0.0, 0.0, 0.0, 1.0], [0.0, 1.0, 0.0, 0.0, 0.0], [-1.0, 0.0, 0.0, 0.0, -1.0], [-1.0, 0.0, 0.0, 0.0, -1.0], [1.0, 1.0, 0.0, 0.0, 0.0], [0.0, 0.0, 0.0, 0.0, 1.0], [0.0, 1.0, 0.0, 0.0, 0.0], [1.0, 1.0, 0.0, 0.0, 0.0], [1.0, 0.0, 0.0, 0.0, 0.0], [0.0, 0.0, 0.0, 0.0, -1.0], [0.0, 0.0, 0.0, 0.0, 1.0], [0.0, 0.0, 0.0, 0.0, 1.0], [0.0, 0.0, 0.0, 0.0, -1.0], [0.0, 1.0, 0.0, 1.0, 0.0], [0.0, 1.0, 0.0, 1.0, 0.0], [0.0, 1.0, 0.0, 0.0, 0.0], [0.0, 0.0, 0.0, 0.0, 1.0], [-1.0, 0.0, 0.0, 0.0, 0.0], [0.0, 1.0, 0.0, 0.0, 0.0], [0.0, 0.0, 0.0, 1.0, 0.0], [1.0, 1.0, 0.0, 0.0, 1.0], [0.0, 1.0, 0.0, 1.0, 0.0], [0.0, 1.0, 0.0, 0.0, 0.0], [1.0, 0.0, 0.0, 1.0, 0.0], [1.0, 1.0, 0.0, 0.0, 0.0], [1.0, 1.0, 0.0, 1.0, 0.0], [0.0, -1.0, 0.0, 0.0, -1.0], [1.0, 1.0, 0.0, 1.0, 0.0], [0.0, -1.0, 0.0, 0.0, -1.0], [1.0, 0.0, 0.0, 0.0, 0.0], [0.0, -1.0, 0.0, 0.0, -1.0], [0.0, 1.0, 0.0, 0.0, 0.0], [0.0, 1.0, 0.0, 0.0, 0.0], [0.0, 0.0, 0.0, 0.0, 1.0], [0.0, 1.0, 0.0, 0.0, 0.0], [0.0, 1.0, 0.0, 0.0, 0.0], [0.0, 0.0, 0.0, 0.0, -1.0], [0.0, -1.0, 0.0, 0.0, 0.0], [0.0, 1.0, 0.0, 0.0, 0.0], [0.0, 0.0, 0.0, 0.0, 1.0], [0.0, -1.0, 0.0, 0.0, 0.0], [0.0, -1.0, 0.0, 0.0, -1.0], [1.0, 1.0, 0.0, 0.0, 0.0], [1.0, 1.0, 0.0, 0.0, 0.0], [1.0, 1.0, 0.0, 1.0, 0.0], [0.0, 0.0, 0.0, 0.0, 1.0], [0.0, 0.0, 0.0, 0.0, 1.0], [-1.0, 0.0, 0.0, 0.0, 0.0], [-1.0, 0.0, 0.0, -1.0, 0.0], [0.0, -1.0, 0.0, 0.0, 0.0], [1.0, 0.0, 0.0, 0.0, 0.0], [0.0, -1.0, 0.0, 0.0, 0.0], [0.0, 1.0, 0.0, 0.0, 1.0], [1.0, 0.0, 0.0, 0.0, 0.0], [0.0, 0.0, 0.0, 0.0, -1.0], [0.0, 1.0, 0.0, 0.0, 0.0], [0.0, -1.0, 0.0, 0.0, 0.0], [0.0, 0.0, 0.0, 0.0, 1.0], [0.0, 1.0, 0.0, 0.0, 0.0], [0.0, -1.0, 0.0, 0.0, 1.0], [0.0, -1.0, 0.0, 0.0, 0.0], [1.0, 1.0, 0.0, 0.0, 0.0], [1.0, 0.0, 0.0, 0.0, 0.0], [-1.0, 0.0, 0.0, 0.0, 0.0], [1.0, 1.0, 0.0, 0.0, 0.0], [1.0, 1.0, 0.0, 0.0, 0.0], [0.0, -1.0, 0.0, 0.0, 0.0], [1.0, 1.0, 0.0, 0.0, 0.0], [0.0, -1.0, 0.0, 0.0, 0.0], [0.0, 1.0, 0.0, 1.0, 0.0], [1.0, 0.0, 0.0, 1.0, 0.0], [1.0, 1.0, -1.0, 0.0, 0.0], [0.0, 0.0, 0.0, 0.0, -1.0], [-1.0, 0.0, 0.0, 0.0, 0.0], [0.0, 1.0, 0.0, 0.0, 1.0], [0.0, 1.0, 0.0, 0.0, 1.0], [1.0, 1.0, 0.0, 1.0, 0.0], [0.0, 0.0, 0.0, 0.0, 1.0], [1.0, 0.0, 0.0, 0.0, 0.0], [0.0, 1.0, 0.0, 0.0, 0.0], [1.0, 1.0, 0.0, 0.0, 0.0], [-1.0, 0.0, 0.0, 0.0, -1.0], [0.0, 1.0, 0.0, 0.0, 0.0], [0.0, 1.0, 0.0, 0.0, 0.0], [-1.0, 0.0, 0.0, 0.0, 0.0], [1.0, 0.0, 0.0, 0.0, 0.0], [1.0, 1.0, 0.0, 0.0, 0.0], [1.0, 1.0, 0.0, 0.0, 0.0], [0.0, 1.0, 0.0, 0.0, 0.0], [1.0, 0.0, 0.0, 0.0, 0.0], [0.0, 0.0, 0.0, 0.0, -1.0], [0.0, 1.0, 0.0, 0.0, 0.0], [0.0, -1.0, 0.0, 0.0, -1.0], [0.0, 0.0, 0.0, 0.0, -1.0], [-1.0, 0.0, 0.0, 0.0, 0.0], [0.0, 0.0, 0.0, 0.0, 1.0], [-1.0, 0.0, 0.0, 0.0, 0.0], [1.0, 0.0, 0.0, 0.0, 0.0], [-1.0, 0.0, 0.0, 0.0, -1.0], [0.0, 0.0, 0.0, 0.0, -1.0], [0.0, 1.0, 0.0, 0.0, 1.0], [-1.0, 0.0, 0.0, 0.0, 0.0], [0.0, 0.0, 0.0, 0.0, -1.0], [0.0, 0.0, 0.0, -1.0, 0.0], [0.0, -1.0, 0.0, 0.0, 0.0], [1.0, 1.0, 0.0, 0.0, 0.0], [0.0, 0.0, 0.0, 0.0, 1.0], [0.0, 0.0, 0.0, 0.0, 1.0], [0.0, -1.0, 0.0, 0.0, -1.0], [0.0, 0.0, 0.0, 0.0, 1.0], [1.0, 0.0, 0.0, 0.0, 0.0], [0.0, 1.0, 0.0, 0.0, 0.0], [1.0, 1.0, 0.0, 0.0, 0.0], [0.0, 1.0, 0.0, 0.0, 0.0], [0.0, 0.0, 0.0, 0.0, -1.0], [1.0, 0.0, 0.0, 0.0, 0.0], [1.0, 1.0, 0.0, 0.0, 0.0], [0.0, 1.0, 0.0, 1.0, 0.0], [1.0, 1.0, 0.0, 0.0, 0.0], [0.0, 0.0, 0.0, 0.0, -1.0], [0.0, 0.0, 0.0, 0.0, 1.0], [0.0, 0.0, 0.0, 0.0, -1.0], [1.0, 0.0, 0.0, 0.0, 1.0], [0.0, -1.0, 0.0, 0.0, -1.0], [1.0, 1.0, 0.0, 1.0, 0.0], [0.0, 0.0, 0.0, 0.0, 1.0], [1.0, 1.0, 0.0, 0.0, 0.0], [1.0, 1.0, 0.0, 1.0, 0.0], [1.0, 1.0, 0.0, 1.0, 0.0], [0.0, 1.0, 0.0, 1.0, 0.0], [1.0, 0.0, 0.0, 0.0, 0.0], [0.0, -1.0, 0.0, 0.0, 0.0], [0.0, -1.0, 0.0, 0.0, 0.0], [0.0, 1.0, 0.0, 1.0, 1.0], [0.0, 0.0, 0.0, 0.0, -1.0], [-1.0, 0.0, 0.0, 0.0, 0.0], [0.0, -1.0, 0.0, 0.0, 0.0], [0.0, -1.0, 0.0, 0.0, -1.0], [0.0, 1.0, 0.0, 0.0, 0.0], [0.0, 1.0, 0.0, 0.0, 1.0], [0.0, 0.0, 0.0, 0.0, -1.0], [0.0, -1.0, 0.0, 0.0, 0.0], [0.0, 0.0, 0.0, 1.0, 1.0], [0.0, 0.0, 0.0, 1.0, 0.0], [0.0, 0.0, 0.0, 0.0, 1.0], [0.0, 1.0, 0.0, 0.0, 0.0], [1.0, 0.0, 1.0, 1.0, 0.0], [0.0, -1.0, 0.0, 0.0, 0.0], [0.0, 1.0, 0.0, 0.0, 1.0], [0.0, 0.0, 0.0, 0.0, 1.0], [0.0, 0.0, 0.0, 1.0, 1.0], [0.0, 0.0, 0.0, 0.0, -1.0], [0.0, 1.0, 0.0, 0.0, 0.0], [0.0, 0.0, 0.0, 0.0, 1.0], [-1.0, 0.0, 0.0, 0.0, -1.0], [0.0, 0.0, 0.0, 1.0, 0.0], [1.0, 0.0, 0.0, 0.0, 0.0], [0.0, 1.0, 0.0, 0.0, 0.0], [1.0, 1.0, 1.0, 0.0, 0.0], [1.0, 0.0, 0.0, 0.0, 0.0], [0.0, 0.0, 0.0, 1.0, 0.0], [0.0, 1.0, 0.0, 0.0, 1.0], [1.0, 0.0, 0.0, 0.0, 0.0], [1.0, 1.0, 0.0, 0.0, 0.0], [0.0, 1.0, 0.0, 0.0, 0.0], [1.0, 1.0, 0.0, 0.0, 0.0], [0.0, 1.0, 0.0, 0.0, 0.0], [1.0, 0.0, 0.0, 0.0, 0.0], [-1.0, 0.0, 0.0, 0.0, -1.0], [0.0, 0.0, 0.0, 0.0, -1.0], [1.0, 0.0, 0.0, 0.0, 0.0], [1.0, 0.0, 0.0, 0.0, 0.0], [0.0, 0.0, 0.0, 0.0, -1.0], [0.0, 0.0, 0.0, 0.0, -1.0], [1.0, 1.0, 0.0, 1.0, 0.0], [0.0, -1.0, 0.0, 0.0, 0.0], [0.0, 0.0, 0.0, 1.0, 1.0], [0.0, -1.0, 0.0, 0.0, 0.0], [0.0, 1.0, 0.0, 1.0, 0.0], [0.0, 0.0, 0.0, 0.0, -1.0], [-1.0, 0.0, 0.0, 0.0, 0.0], [1.0, 0.0, 0.0, 0.0, 1.0], [0.0, 0.0, 0.0, 0.0, 1.0], [0.0, 1.0, 0.0, 0.0, 1.0], [0.0, -1.0, 0.0, 0.0, 0.0], [0.0, -1.0, 0.0, 0.0, -1.0], [0.0, -1.0, 0.0, 0.0, -1.0], [1.0, 1.0, 0.0, 0.0, 0.0], [0.0, 1.0, 0.0, 0.0, 0.0], [0.0, -1.0, 0.0, 0.0, -1.0], [0.0, -1.0, 0.0, 0.0, 0.0], [0.0, -1.0, 0.0, 0.0, 0.0], [1.0, 0.0, 0.0, 0.0, 0.0], [0.0, 0.0, 0.0, 0.0, 1.0], [1.0, 1.0, 1.0, 1.0, 0.0], [1.0, 0.0, 0.0, 0.0, 0.0], [0.0, 0.0, 0.0, 0.0, 0.0], [1.0, 1.0, 0.0, 0.0, 0.0], [0.0, 1.0, 0.0, 0.0, 0.0], [0.0, 0.0, 0.0, 1.0, 0.0], [0.0, 1.0, 0.0, 1.0, 0.0], [0.0, 0.0, 1.0, 0.0, 0.0], [1.0, 0.0, 0.0, 0.0, 0.0], [0.0, 0.0, 0.0, 0.0, -1.0], [0.0, 1.0, 0.0, 1.0, 0.0], [0.0, -1.0, 0.0, 0.0, 0.0], [-1.0, 0.0, 0.0, 0.0, 0.0], [-1.0, 0.0, 0.0, 0.0, 0.0], [0.0, 1.0, 0.0, 0.0, 0.0], [0.0, 1.0, 0.0, 0.0, 0.0], [0.0, 0.0, 0.0, 0.0, 1.0], [0.0, 1.0, 0.0, 0.0, 0.0], [-1.0, 0.0, 0.0, 0.0, -1.0], [1.0, 1.0, 0.0, 1.0, 0.0], [0.0, 1.0, 0.0, 1.0, 0.0], [1.0, 0.0, 0.0, 0.0, 0.0], [0.0, 1.0, 0.0, 0.0, 0.0], [1.0, 1.0, 0.0, 1.0, 0.0], [0.0, -1.0, 0.0, 0.0, 0.0], [-1.0, 0.0, 0.0, 0.0, -1.0], [-1.0, 0.0, 0.0, 0.0, 0.0], [1.0, 0.0, 0.0, 1.0, 0.0], [0.0, 1.0, 0.0, 0.0, 0.0], [1.0, 0.0, 0.0, 0.0, 0.0], [0.0, 0.0, 0.0, 0.0, 1.0], [0.0, 0.0, 0.0, 0.0, -1.0], [1.0, 0.0, 0.0, 0.0, -1.0], [1.0, 1.0, 0.0, 0.0, 0.0], [1.0, 1.0, 0.0, 0.0, 0.0], [0.0, 0.0, 0.0, 0.0, -1.0], [0.0, 0.0, 0.0, 1.0, 0.0], [1.0, 0.0, 0.0, 0.0, -1.0], [0.0, -1.0, 0.0, 0.0, 0.0], [0.0, 0.0, 0.0, 0.0, 1.0], [-1.0, 0.0, 0.0, 0.0, 0.0], [-1.0, 0.0, 0.0, 0.0, 0.0], [1.0, 0.0, 0.0, 0.0, 0.0], [0.0, -1.0, 0.0, 0.0, -1.0], [0.0, 0.0, 0.0, 1.0, 1.0], [-1.0, 0.0, 0.0, 0.0, 0.0], [1.0, 0.0, 0.0, 0.0, -1.0], [-1.0, 0.0, 0.0, 0.0, 0.0], [1.0, 1.0, 0.0, 0.0, 0.0], [1.0, 1.0, 0.0, 0.0, 0.0], [-1.0, 1.0, 0.0, 0.0, 0.0], [0.0, 0.0, 0.0, 0.0, -1.0], [0.0, 0.0, 0.0, 0.0, -1.0], [0.0, 0.0, 0.0, 0.0, -1.0], [0.0, -1.0, 0.0, 0.0, -1.0], [0.0, 0.0, 0.0, 0.0, -1.0], [1.0, 1.0, 0.0, 0.0, 0.0], [0.0, 0.0, 0.0, 0.0, -1.0], [0.0, 0.0, 0.0, 0.0, -1.0], [0.0, 1.0, 0.0, 0.0, 1.0], [-1.0, 0.0, 0.0, 0.0, 0.0], [-1.0, 0.0, 0.0, 0.0, 0.0], [0.0, 1.0, 0.0, 0.0, 0.0], [0.0, 0.0, 0.0, 0.0, 1.0], [0.0, -1.0, 0.0, 0.0, -1.0], [0.0, 1.0, 0.0, 0.0, 0.0], [1.0, 1.0, 0.0, 0.0, 0.0], [0.0, 0.0, 0.0, 0.0, 1.0], [0.0, 0.0, 0.0, 0.0, -1.0], [-1.0, 0.0, 0.0, -1.0, 0.0], [0.0, 0.0, 0.0, 1.0, 0.0], [0.0, 0.0, 0.0, 0.0, 1.0], [0.0, -1.0, 0.0, 0.0, 0.0], [0.0, 0.0, 0.0, 0.0, 1.0], [1.0, 0.0, 0.0, 0.0, 0.0], [-1.0, 0.0, 0.0, 0.0, 0.0], [0.0, -1.0, 0.0, 0.0, 0.0], [0.0, 0.0, 0.0, 1.0, 0.0], [1.0, 0.0, 0.0, 0.0, 1.0], [1.0, 1.0, 0.0, 0.0, 0.0], [0.0, 0.0, 0.0, 0.0, -1.0], [0.0, 1.0, 0.0, 0.0, 0.0], [0.0, 0.0, 0.0, 0.0, 1.0], [1.0, 0.0, 0.0, 1.0, 0.0], [0.0, 1.0, 0.0, 0.0, 1.0], [0.0, 0.0, 0.0, 0.0, 0.0], [0.0, -1.0, 0.0, 0.0, 0.0], [1.0, 0.0, 0.0, 0.0, 0.0], [0.0, 0.0, 0.0, 0.0, -1.0], [0.0, 0.0, 0.0, 0.0, 1.0], [-1.0, 0.0, 0.0, 0.0, 0.0], [0.0, 0.0, 0.0, 0.0, -1.0], [0.0, 0.0, 0.0, 0.0, -1.0], [0.0, 0.0, 0.0, 0.0, 1.0], [-1.0, 0.0, 0.0, 0.0, 0.0], [-1.0, 0.0, 0.0, 0.0, -1.0], [0.0, 0.0, 0.0, 0.0, 1.0], [0.0, 0.0, 0.0, 0.0, 1.0], [1.0, 1.0, 0.0, 0.0, 1.0], [0.0, 0.0, 0.0, 0.0, -1.0], [0.0, -1.0, 0.0, 0.0, -1.0], [0.0, -1.0, 0.0, 0.0, -1.0], [0.0, 0.0, 0.0, 0.0, 1.0], [-1.0, 0.0, 0.0, 0.0, 0.0], [1.0, 0.0, 0.0, 0.0, 0.0], [0.0, 1.0, 0.0, 0.0, 0.0], [-1.0, 0.0, 0.0, 0.0, 0.0], [0.0, 0.0, 0.0, 1.0, 0.0], [1.0, 0.0, 0.0, 0.0, 0.0], [0.0, 1.0, 0.0, 0.0, 0.0], [-1.0, 0.0, 0.0, 0.0, 1.0], [-1.0, 0.0, 0.0, 1.0, 0.0], [0.0, 0.0, 0.0, 0.0, 1.0], [1.0, 0.0, 0.0, 1.0, 0.0], [0.0, 1.0, 0.0, 1.0, 0.0], [0.0, 1.0, 0.0, 0.0, 0.0], [-1.0, 0.0, 0.0, 0.0, -1.0], [0.0, -1.0, 0.0, 0.0, 0.0], [0.0, 0.0, 0.0, 0.0, -1.0], [-1.0, 0.0, 0.0, 0.0, 0.0], [0.0, 0.0, 0.0, 0.0, 1.0], [0.0, 1.0, 0.0, 0.0, 0.0], [1.0, 1.0, 0.0, 1.0, 0.0], [1.0, 0.0, 0.0, 0.0, -1.0], [-1.0, 1.0, 0.0, 0.0, 0.0], [1.0, 1.0, 0.0, 0.0, 0.0], [0.0, 0.0, 0.0, 1.0, 1.0], [0.0, -1.0, 0.0, -1.0, 0.0], [-1.0, 0.0, 0.0, 0.0, 0.0], [0.0, 0.0, 0.0, 0.0, -1.0], [1.0, 1.0, 0.0, 0.0, 1.0], [0.0, -1.0, 0.0, 0.0, 0.0], [0.0, -1.0, 0.0, 0.0, 0.0], [0.0, 1.0, 0.0, 0.0, 0.0], [0.0, 1.0, 0.0, 0.0, 0.0], [0.0, -1.0, -1.0, 0.0, 0.0], [0.0, 0.0, 0.0, 0.0, 1.0], [0.0, 1.0, 0.0, 0.0, 0.0], [0.0, -1.0, 0.0, 0.0, 0.0], [0.0, 0.0, -1.0, 0.0, -1.0], [0.0, 1.0, 0.0, 0.0, 0.0], [1.0, 0.0, 0.0, 0.0, 0.0], [0.0, 1.0, 0.0, 0.0, 0.0], [0.0, -1.0, 0.0, 0.0, 0.0], [0.0, -1.0, 0.0, 0.0, 0.0], [0.0, -1.0, 0.0, 0.0, 0.0], [0.0, 0.0, 0.0, 1.0, 0.0], [0.0, 1.0, 0.0, 0.0, 0.0], [0.0, 0.0, -1.0, 0.0, -1.0], [0.0, 0.0, 0.0, 0.0, 1.0], [0.0, 0.0, 0.0, 0.0, -1.0], [0.0, 1.0, 0.0, 0.0, 0.0], [0.0, 0.0, -1.0, 0.0, -1.0], [0.0, -1.0, 0.0, 1.0, 0.0], [1.0, 1.0, 0.0, 0.0, 0.0], [0.0, 0.0, 0.0, 0.0, -1.0], [-1.0, 0.0, 0.0, 0.0, -1.0], [0.0, 0.0, 0.0, 0.0, 1.0], [-1.0, 0.0, 0.0, 0.0, 0.0], [0.0, 1.0, 0.0, 0.0, 0.0], [0.0, 0.0, 0.0, 0.0, -1.0], [0.0, 0.0, 0.0, 1.0, 0.0], [0.0, 0.0, 0.0, 0.0, 1.0], [-1.0, 0.0, 0.0, 0.0, -1.0], [0.0, 1.0, 0.0, 0.0, 1.0], [0.0, 0.0, 0.0, 0.0, 1.0], [1.0, 1.0, 0.0, 0.0, 0.0], [1.0, 1.0, 0.0, 0.0, 0.0], [0.0, 0.0, 0.0, 0.0, 1.0], [0.0, 0.0, 0.0, 1.0, 1.0], [0.0, 1.0, 0.0, 0.0, 0.0], [0.0, 1.0, 0.0, 0.0, 0.0], [0.0, -1.0, 0.0, 0.0, 0.0], [1.0, 1.0, 0.0, 1.0, 0.0], [0.0, -1.0, 0.0, 0.0, 0.0], [0.0, 0.0, 0.0, 0.0, -1.0], [0.0, -1.0, 0.0, 0.0, 0.0], [0.0, 1.0, 0.0, 0.0, 1.0], [0.0, 1.0, 0.0, 0.0, 1.0], [0.0, 0.0, 0.0, 0.0, -1.0], [0.0, 1.0, 0.0, 1.0, 0.0], [0.0, -1.0, 0.0, 0.0, 0.0], [0.0, -1.0, 0.0, 0.0, 0.0], [0.0, 0.0, 0.0, 0.0, 1.0], [0.0, -1.0, 0.0, 0.0, 0.0], [0.0, 0.0, 0.0, 0.0, -1.0], [0.0, 1.0, 0.0, 0.0, 0.0], [0.0, 0.0, 0.0, -1.0, 0.0], [0.0, 0.0, 0.0, 1.0, 0.0], [0.0, -1.0, 0.0, 0.0, 0.0], [0.0, 1.0, 0.0, 0.0, 0.0], [0.0, 0.0, 0.0, 0.0, 1.0], [1.0, 0.0, 0.0, 0.0, 1.0], [0.0, 0.0, 0.0, 0.0, 0.0], [0.0, 0.0, 0.0, 0.0, 0.0], [0.0, 1.0, 0.0, 0.0, 0.0], [0.0, 1.0, 0.0, 0.0, 0.0], [0.0, 1.0, 0.0, 0.0, 0.0], [0.0, 0.0, 0.0, 1.0, 0.0], [0.0, 1.0, 0.0, 0.0, 0.0], [0.0, 0.0, 0.0, 0.0, 1.0], [0.0, 0.0, 0.0, 0.0, 1.0], [0.0, 0.0, 0.0, 1.0, 0.0], [0.0, 1.0, 0.0, 0.0, 0.0], [0.0, 1.0, 0.0, 0.0, 0.0], [0.0, 0.0, 0.0, 0.0, -1.0], [0.0, 1.0, 0.0, 0.0, 0.0], [1.0, 1.0, 0.0, 1.0, 0.0], [0.0, 1.0, 0.0, 0.0, 0.0], [0.0, -1.0, 0.0, 0.0, 0.0], [0.0, 1.0, 1.0, 0.0, 0.0], [0.0, -1.0, 0.0, 0.0, -1.0], [0.0, -1.0, 0.0, 0.0, 0.0], [1.0, 0.0, 0.0, 0.0, 0.0], [0.0, -1.0, 0.0, 0.0, -1.0], [1.0, 0.0, 0.0, 0.0, -1.0], [0.0, 0.0, 0.0, 0.0, 1.0], [0.0, 1.0, 0.0, 0.0, 0.0], [0.0, 1.0, 0.0, 0.0, 0.0], [0.0, 1.0, 0.0, 0.0, 0.0], [0.0, 1.0, 0.0, 0.0, 0.0], [0.0, 0.0, 0.0, 0.0, 1.0], [0.0, 0.0, 0.0, 0.0, -1.0], [0.0, 1.0, 0.0, 1.0, 0.0], [0.0, 1.0, 0.0, 1.0, 0.0], [0.0, 0.0, 0.0, 1.0, 1.0], [0.0, -1.0, 0.0, 0.0, 0.0], [0.0, -1.0, 0.0, 0.0, 0.0], [1.0, 1.0, 0.0, 0.0, 0.0], [0.0, 1.0, 0.0, 0.0, 0.0], [0.0, 1.0, 0.0, 0.0, 0.0], [0.0, -1.0, 0.0, 0.0, 0.0], [0.0, -1.0, 0.0, -1.0, 0.0], [0.0, -1.0, 0.0, 0.0, 1.0], [0.0, 1.0, 0.0, 1.0, 0.0], [-1.0, 0.0, 0.0, 0.0, 0.0], [0.0, 1.0, 0.0, 0.0, 0.0], [1.0, 0.0, 0.0, 0.0, -1.0], [1.0, 1.0, 0.0, 0.0, 0.0], [0.0, 0.0, 0.0, 0.0, 1.0], [0.0, 1.0, 0.0, 0.0, 0.0], [0.0, 1.0, 0.0, 0.0, 0.0], [0.0, 0.0, 0.0, 0.0, -1.0], [0.0, 1.0, 0.0, 0.0, 0.0], [1.0, 1.0, 0.0, 0.0, 0.0], [0.0, 1.0, 0.0, 0.0, 0.0], [0.0, 1.0, 0.0, 0.0, 0.0], [0.0, 1.0, 0.0, 0.0, 0.0], [0.0, 0.0, 0.0, 0.0, 1.0], [0.0, 0.0, 0.0, 1.0, 0.0], [0.0, 0.0, 0.0, 0.0, -1.0], [1.0, -1.0, 0.0, 0.0, 0.0], [0.0, 1.0, 0.0, 0.0, 0.0], [0.0, 0.0, 0.0, 0.0, 1.0], [0.0, 0.0, 0.0, 1.0, 0.0], [1.0, 0.0, 0.0, 1.0, 0.0], [0.0, 0.0, 0.0, 0.0, 1.0], [0.0, 0.0, 0.0, 0.0, 1.0], [0.0, 0.0, 0.0, 0.0, -1.0], [0.0, -1.0, 0.0, 0.0, 0.0], [0.0, 0.0, 0.0, 0.0, -1.0], [0.0, -1.0, 0.0, 0.0, 0.0], [0.0, 0.0, 0.0, 0.0, 1.0], [0.0, -1.0, 0.0, 0.0, -1.0], [1.0, 0.0, 0.0, 0.0, 0.0], [0.0, 0.0, 0.0, 0.0, 1.0], [-1.0, 0.0, 0.0, 0.0, -1.0], [0.0, 0.0, 0.0, 0.0, 1.0], [0.0, -1.0, 0.0, 0.0, -1.0], [0.0, 1.0, 0.0, 1.0, 0.0], [0.0, 0.0, 0.0, 0.0, -1.0], [0.0, 1.0, 0.0, 0.0, 0.0], [1.0, 1.0, 0.0, 0.0, 0.0], [0.0, -1.0, 0.0, 0.0, 0.0], [0.0, 1.0, 0.0, 0.0, 0.0], [0.0, 0.0, 0.0, 0.0, 0.0], [0.0, -1.0, 0.0, 0.0, 0.0], [0.0, 0.0, 0.0, 1.0, 0.0], [0.0, 0.0, 1.0, 0.0, 0.0], [0.0, -1.0, 0.0, 0.0, 0.0], [1.0, 0.0, 1.0, 1.0, 1.0], [0.0, 0.0, 0.0, 0.0, -1.0], [0.0, 0.0, 0.0, 0.0, 0.0], [0.0, 1.0, 0.0, 0.0, 0.0], [0.0, -1.0, 0.0, 0.0, 0.0], [0.0, 1.0, 0.0, 0.0, 0.0], [0.0, 0.0, 0.0, 0.0, 1.0], [0.0, -1.0, 0.0, 0.0, 0.0], [0.0, -1.0, 0.0, 1.0, 0.0], [0.0, -1.0, 0.0, 0.0, 0.0], [0.0, 0.0, 0.0, 0.0, 0.0], [0.0, 0.0, 0.0, 0.0, 1.0], [-1.0, 0.0, 0.0, 0.0, 0.0], [0.0, 0.0, 0.0, 0.0, 1.0], [0.0, 1.0, 0.0, 0.0, 0.0], [0.0, 1.0, 0.0, 0.0, 1.0]]\n"
     ]
    }
   ],
   "source": [
    "texts = df['review_comment_message_en'].tolist()\n",
    "labels = df[['Product_Quality', 'Delivery', 'Price', 'Repurchase_Intention', 'etc']].values.tolist()\n",
    "\n",
    "print(\"Texts:\", texts)\n",
    "print(\"Labels:\", labels)"
   ]
  },
  {
   "cell_type": "markdown",
   "metadata": {},
   "source": [
    "# 토크나이저 로드 및 처리"
   ]
  },
  {
   "cell_type": "code",
   "execution_count": 47,
   "metadata": {},
   "outputs": [],
   "source": [
    "# # Sample data\n",
    "# texts = [\"Black product, repackaged in a white box...\", \"WE ARE WAITING FOR A PAID ORDER...\"]\n",
    "# labels = [[0, -1, 0, 0, 0], [0, -1, 0, 0, -1]]\n",
    "tokenizer = RobertaTokenizer.from_pretrained(\"roberta-base\")\n",
    "dataset = MultiLabelDataset(texts, labels, tokenizer)\n",
    "train_loader = DataLoader(dataset, batch_size=8, shuffle=True)"
   ]
  },
  {
   "cell_type": "markdown",
   "metadata": {},
   "source": [
    "# 모델 초기화"
   ]
  },
  {
   "cell_type": "code",
   "execution_count": 48,
   "metadata": {},
   "outputs": [
    {
     "name": "stderr",
     "output_type": "stream",
     "text": [
      "Some weights of RobertaForSequenceClassification were not initialized from the model checkpoint at roberta-base and are newly initialized: ['classifier.dense.bias', 'classifier.dense.weight', 'classifier.out_proj.bias', 'classifier.out_proj.weight']\n",
      "You should probably TRAIN this model on a down-stream task to be able to use it for predictions and inference.\n",
      "c:\\Python310\\lib\\site-packages\\transformers\\optimization.py:591: FutureWarning: This implementation of AdamW is deprecated and will be removed in a future version. Use the PyTorch implementation torch.optim.AdamW instead, or set `no_deprecation_warning=True` to disable this warning\n",
      "  warnings.warn(\n"
     ]
    }
   ],
   "source": [
    "model = CustomRobertaForMultiLabelClassification()\n",
    "device = torch.device(\"cuda\" if torch.cuda.is_available() else \"cpu\")\n",
    "model.to(device)\n",
    "optimizer = AdamW(model.parameters(), lr=2e-5)"
   ]
  },
  {
   "cell_type": "markdown",
   "metadata": {},
   "source": [
    "# train"
   ]
  },
  {
   "cell_type": "code",
   "execution_count": 49,
   "metadata": {},
   "outputs": [
    {
     "name": "stdout",
     "output_type": "stream",
     "text": [
      "Epoch 1/5\n"
     ]
    },
    {
     "name": "stderr",
     "output_type": "stream",
     "text": [
      "Training:   0%|          | 0/138 [00:00<?, ?it/s]"
     ]
    },
    {
     "name": "stderr",
     "output_type": "stream",
     "text": [
      "                                                                       \r"
     ]
    },
    {
     "name": "stdout",
     "output_type": "stream",
     "text": [
      "Training Loss: 0.515200050736683\n",
      "Epoch 2/5\n"
     ]
    },
    {
     "name": "stderr",
     "output_type": "stream",
     "text": [
      "                                                                       \r"
     ]
    },
    {
     "name": "stdout",
     "output_type": "stream",
     "text": [
      "Training Loss: 0.27009070891401044\n",
      "Epoch 3/5\n"
     ]
    },
    {
     "name": "stderr",
     "output_type": "stream",
     "text": [
      "                                                                        \r"
     ]
    },
    {
     "name": "stdout",
     "output_type": "stream",
     "text": [
      "Training Loss: 0.1852645972824615\n",
      "Epoch 4/5\n"
     ]
    },
    {
     "name": "stderr",
     "output_type": "stream",
     "text": [
      "                                                                        \r"
     ]
    },
    {
     "name": "stdout",
     "output_type": "stream",
     "text": [
      "Training Loss: 0.1337185048268757\n",
      "Epoch 5/5\n"
     ]
    },
    {
     "name": "stderr",
     "output_type": "stream",
     "text": [
      "                                                                        "
     ]
    },
    {
     "name": "stdout",
     "output_type": "stream",
     "text": [
      "Training Loss: 0.10150474597416494\n"
     ]
    },
    {
     "name": "stderr",
     "output_type": "stream",
     "text": [
      "\r"
     ]
    }
   ],
   "source": [
    "num_epochs = 5\n",
    "for epoch in range(num_epochs):\n",
    "    print(f\"Epoch {epoch+1}/{num_epochs}\")\n",
    "    avg_loss = train(model, train_loader, optimizer, device)\n",
    "    print(f\"Training Loss: {avg_loss}\")"
   ]
  },
  {
   "cell_type": "markdown",
   "metadata": {},
   "source": [
    "# 모델 저장"
   ]
  },
  {
   "cell_type": "code",
   "execution_count": 50,
   "metadata": {},
   "outputs": [
    {
     "name": "stdout",
     "output_type": "stream",
     "text": [
      "Model saved to ../model/custom_roberta_model_1100_5epoch.pth\n"
     ]
    }
   ],
   "source": [
    "# 모델 가중치를 저장할 경로 지정\n",
    "model_save_path = \"../model/custom_roberta_model_1100_5epoch.pth\"\n",
    "\n",
    "# 모델 가중치 저장\n",
    "torch.save(model.state_dict(), model_save_path)\n",
    "print(f\"Model saved to {model_save_path}\")\n"
   ]
  },
  {
   "cell_type": "markdown",
   "metadata": {},
   "source": [
    "# 파인튜닝 모델 LOAD"
   ]
  },
  {
   "cell_type": "markdown",
   "metadata": {},
   "source": [
    "## model load 함수"
   ]
  },
  {
   "cell_type": "code",
   "execution_count": 41,
   "metadata": {},
   "outputs": [],
   "source": [
    "def load_model(model_path, device = torch.device(\"cuda\" if torch.cuda.is_available() else \"cpu\")):\n",
    "    model = CustomRobertaForMultiLabelClassification()\n",
    "    model.load_state_dict(torch.load(model_path, map_location=device))\n",
    "    model.to(device)\n",
    "    model.eval()  # 평가 모드로 설정\n",
    "    print(f\"Model loaded from {model_path}\")\n",
    "    return model"
   ]
  },
  {
   "cell_type": "markdown",
   "metadata": {},
   "source": [
    "# f1 score"
   ]
  },
  {
   "cell_type": "markdown",
   "metadata": {},
   "source": [
    "## 함수"
   ]
  },
  {
   "cell_type": "markdown",
   "metadata": {},
   "source": [
    "전체 나열, 라벨별, 리뷰별 순으로 f1 score 리턴"
   ]
  },
  {
   "cell_type": "code",
   "execution_count": 14,
   "metadata": {},
   "outputs": [],
   "source": [
    "# 3가지 F1-Score 계산 함수 정의\n",
    "def calculate_f1_scores(test_labels, test_predictions):\n",
    "    # 전체 레이블을 평탄화하여 F1-Score 계산\n",
    "    flattened_true_labels = [label for sublist in test_labels for label in sublist]\n",
    "    flattened_predictions = [pred for sublist in test_predictions for pred in sublist]\n",
    "    overall_f1 = f1_score(flattened_true_labels, flattened_predictions, average=\"micro\")\n",
    "\n",
    "    # 각 레이블별 F1-Score 계산\n",
    "    label_names = ['Product_Quality', 'Delivery', 'Price', 'Repurchase_Intention', 'etc']\n",
    "    label_f1_scores = {}\n",
    "    for i, label_name in enumerate(label_names):\n",
    "        true_labels = [label[i] for label in test_labels]\n",
    "        pred_labels = [pred[i] for pred in test_predictions]\n",
    "        label_f1 = f1_score(true_labels, pred_labels, average=\"micro\")\n",
    "        label_f1_scores[label_name] = label_f1\n",
    "\n",
    "    # 리뷰 단위 정확한 매칭 기반 F1-Score 계산\n",
    "    review_matches = [1 if true == pred else 0 for true, pred in zip(test_labels, test_predictions)]\n",
    "    true_review_matches = [1] * len(review_matches)\n",
    "    review_level_f1 = f1_score(true_review_matches, review_matches, average=\"binary\")\n",
    "\n",
    "    return overall_f1, label_f1_scores, review_level_f1"
   ]
  },
  {
   "cell_type": "markdown",
   "metadata": {},
   "source": [
    "## test data load"
   ]
  },
  {
   "cell_type": "code",
   "execution_count": 54,
   "metadata": {},
   "outputs": [
    {
     "data": {
      "text/html": [
       "<div>\n",
       "<style scoped>\n",
       "    .dataframe tbody tr th:only-of-type {\n",
       "        vertical-align: middle;\n",
       "    }\n",
       "\n",
       "    .dataframe tbody tr th {\n",
       "        vertical-align: top;\n",
       "    }\n",
       "\n",
       "    .dataframe thead th {\n",
       "        text-align: right;\n",
       "    }\n",
       "</style>\n",
       "<table border=\"1\" class=\"dataframe\">\n",
       "  <thead>\n",
       "    <tr style=\"text-align: right;\">\n",
       "      <th></th>\n",
       "      <th>review_comment_message</th>\n",
       "      <th>review_comment_message_en</th>\n",
       "      <th>Product_Quality</th>\n",
       "      <th>Delivery</th>\n",
       "      <th>Price</th>\n",
       "      <th>Repurchase_Intention</th>\n",
       "      <th>etc</th>\n",
       "    </tr>\n",
       "  </thead>\n",
       "  <tbody>\n",
       "    <tr>\n",
       "      <th>1195</th>\n",
       "      <td>Maravilhoso, e a entrega super rapido, recomendo.</td>\n",
       "      <td>Wonderful, and super fast delivery, I recommen...</td>\n",
       "      <td>0.0</td>\n",
       "      <td>1.0</td>\n",
       "      <td>0.0</td>\n",
       "      <td>1.0</td>\n",
       "      <td>0.0</td>\n",
       "    </tr>\n",
       "    <tr>\n",
       "      <th>1196</th>\n",
       "      <td>chegou tudo certo</td>\n",
       "      <td>everything arrived ok</td>\n",
       "      <td>0.0</td>\n",
       "      <td>0.0</td>\n",
       "      <td>0.0</td>\n",
       "      <td>0.0</td>\n",
       "      <td>1.0</td>\n",
       "    </tr>\n",
       "    <tr>\n",
       "      <th>1197</th>\n",
       "      <td>parece bom ainda não usei.</td>\n",
       "      <td>It looks good, I haven't used it yet.</td>\n",
       "      <td>1.0</td>\n",
       "      <td>0.0</td>\n",
       "      <td>0.0</td>\n",
       "      <td>0.0</td>\n",
       "      <td>0.0</td>\n",
       "    </tr>\n",
       "    <tr>\n",
       "      <th>1198</th>\n",
       "      <td>não recebi o produto completo como deveria, co...</td>\n",
       "      <td>I didn't receive the complete product as I sho...</td>\n",
       "      <td>0.0</td>\n",
       "      <td>0.0</td>\n",
       "      <td>0.0</td>\n",
       "      <td>0.0</td>\n",
       "      <td>1.0</td>\n",
       "    </tr>\n",
       "    <tr>\n",
       "      <th>1199</th>\n",
       "      <td>ótimo produto.\\nchegou bem rápido .\\nem menos ...</td>\n",
       "      <td>great product.\\narrived very quickly.\\nin less...</td>\n",
       "      <td>1.0</td>\n",
       "      <td>1.0</td>\n",
       "      <td>0.0</td>\n",
       "      <td>0.0</td>\n",
       "      <td>0.0</td>\n",
       "    </tr>\n",
       "  </tbody>\n",
       "</table>\n",
       "</div>"
      ],
      "text/plain": [
       "                                 review_comment_message  \\\n",
       "1195  Maravilhoso, e a entrega super rapido, recomendo.   \n",
       "1196                                  chegou tudo certo   \n",
       "1197                         parece bom ainda não usei.   \n",
       "1198  não recebi o produto completo como deveria, co...   \n",
       "1199  ótimo produto.\\nchegou bem rápido .\\nem menos ...   \n",
       "\n",
       "                              review_comment_message_en  Product_Quality  \\\n",
       "1195  Wonderful, and super fast delivery, I recommen...              0.0   \n",
       "1196                              everything arrived ok              0.0   \n",
       "1197              It looks good, I haven't used it yet.              1.0   \n",
       "1198  I didn't receive the complete product as I sho...              0.0   \n",
       "1199  great product.\\narrived very quickly.\\nin less...              1.0   \n",
       "\n",
       "      Delivery  Price  Repurchase_Intention  etc  \n",
       "1195       1.0    0.0                   1.0  0.0  \n",
       "1196       0.0    0.0                   0.0  1.0  \n",
       "1197       0.0    0.0                   0.0  0.0  \n",
       "1198       0.0    0.0                   0.0  1.0  \n",
       "1199       1.0    0.0                   0.0  0.0  "
      ]
     },
     "execution_count": 54,
     "metadata": {},
     "output_type": "execute_result"
    }
   ],
   "source": [
    "test_df = data.iloc[1100:1200, :]\n",
    "test_df.tail()\n"
   ]
  },
  {
   "cell_type": "code",
   "execution_count": 55,
   "metadata": {},
   "outputs": [],
   "source": [
    "# 리뷰 텍스트와 레이블 추출\n",
    "test_texts = test_df['review_comment_message_en'].tolist()\n",
    "test_labels = test_df[['Product_Quality', 'Delivery', 'Price', 'Repurchase_Intention', 'etc']].values.tolist()\n"
   ]
  },
  {
   "cell_type": "markdown",
   "metadata": {},
   "source": [
    "## 단일 모델 f1-score"
   ]
  },
  {
   "cell_type": "markdown",
   "metadata": {},
   "source": [
    "### 모델 불러오기"
   ]
  },
  {
   "cell_type": "code",
   "execution_count": 56,
   "metadata": {},
   "outputs": [],
   "source": [
    "model_path = \"../model/custom_roberta_model_1100_5epoch.pth\""
   ]
  },
  {
   "cell_type": "code",
   "execution_count": 57,
   "metadata": {},
   "outputs": [
    {
     "name": "stderr",
     "output_type": "stream",
     "text": [
      "Some weights of RobertaForSequenceClassification were not initialized from the model checkpoint at roberta-base and are newly initialized: ['classifier.dense.bias', 'classifier.dense.weight', 'classifier.out_proj.bias', 'classifier.out_proj.weight']\n",
      "You should probably TRAIN this model on a down-stream task to be able to use it for predictions and inference.\n",
      "C:\\Users\\Public\\Documents\\ESTsoft\\CreatorTemp\\ipykernel_7744\\2575577657.py:3: FutureWarning: You are using `torch.load` with `weights_only=False` (the current default value), which uses the default pickle module implicitly. It is possible to construct malicious pickle data which will execute arbitrary code during unpickling (See https://github.com/pytorch/pytorch/blob/main/SECURITY.md#untrusted-models for more details). In a future release, the default value for `weights_only` will be flipped to `True`. This limits the functions that could be executed during unpickling. Arbitrary objects will no longer be allowed to be loaded via this mode unless they are explicitly allowlisted by the user via `torch.serialization.add_safe_globals`. We recommend you start setting `weights_only=True` for any use case where you don't have full control of the loaded file. Please open an issue on GitHub for any issues related to this experimental feature.\n",
      "  model.load_state_dict(torch.load(model_path, map_location=device))\n"
     ]
    },
    {
     "name": "stdout",
     "output_type": "stream",
     "text": [
      "Model loaded from ../model/custom_roberta_model_1100_5epoch.pth\n"
     ]
    }
   ],
   "source": [
    "loaded_model = load_model(model_path)"
   ]
  },
  {
   "cell_type": "markdown",
   "metadata": {},
   "source": [
    "### f1 score 출력(단일 모델)"
   ]
  },
  {
   "cell_type": "code",
   "execution_count": 58,
   "metadata": {},
   "outputs": [
    {
     "name": "stdout",
     "output_type": "stream",
     "text": [
      "Results for model ../model/custom_roberta_model_1100_5epoch.pth:\n",
      "  Overall F1-Score: 0.9100\n",
      "  Product_Quality F1-Score: 0.9000\n",
      "  Delivery F1-Score: 0.9000\n",
      "  Price F1-Score: 0.9900\n",
      "  Repurchase_Intention F1-Score: 0.9800\n",
      "  etc F1-Score: 0.7800\n",
      "  Review-level Exact Match F1-Score: 0.7879\n",
      "--------------------------------------------------\n"
     ]
    }
   ],
   "source": [
    "# 예측 수행\n",
    "test_predictions = []\n",
    "for sentence in test_texts:\n",
    "    prediction = predict(loaded_model, sentence, tokenizer, device)\n",
    "    test_predictions.append([\n",
    "        prediction['Product_Quality'],\n",
    "        prediction['Delivery'],\n",
    "        prediction['Price'],\n",
    "        prediction['Repurchase_Intention'],\n",
    "        prediction['etc']\n",
    "    ])\n",
    "\n",
    "# 3. F1-Score 계산\n",
    "overall_f1, label_f1_scores, review_level_f1 = calculate_f1_scores(test_labels, test_predictions)\n",
    "\n",
    "# 결과 출력\n",
    "print(f\"Results for model {model_path}:\")\n",
    "print(f\"  Overall F1-Score: {overall_f1:.4f}\")\n",
    "for label_name, f1 in label_f1_scores.items():\n",
    "    print(f\"  {label_name} F1-Score: {f1:.4f}\")\n",
    "print(f\"  Review-level Exact Match F1-Score: {review_level_f1:.4f}\")\n",
    "print(\"--------------------------------------------------\")"
   ]
  },
  {
   "cell_type": "markdown",
   "metadata": {},
   "source": [
    "## 모든 모델 f1-score"
   ]
  },
  {
   "cell_type": "markdown",
   "metadata": {},
   "source": [
    "### 모델 리스트 불러오기"
   ]
  },
  {
   "cell_type": "code",
   "execution_count": 40,
   "metadata": {},
   "outputs": [],
   "source": [
    "model_folder = \"../model\"\n",
    "model_files = [f for f in os.listdir(model_folder) if f.endswith(\".pth\")]\n"
   ]
  },
  {
   "cell_type": "markdown",
   "metadata": {},
   "source": [
    "### f1 score 출력 (모든 모델)"
   ]
  },
  {
   "cell_type": "code",
   "execution_count": 25,
   "metadata": {},
   "outputs": [
    {
     "name": "stderr",
     "output_type": "stream",
     "text": [
      "  0%|          | 0/5 [00:00<?, ?it/s]Some weights of RobertaForSequenceClassification were not initialized from the model checkpoint at roberta-base and are newly initialized: ['classifier.dense.bias', 'classifier.dense.weight', 'classifier.out_proj.bias', 'classifier.out_proj.weight']\n",
      "You should probably TRAIN this model on a down-stream task to be able to use it for predictions and inference.\n",
      "C:\\Users\\Public\\Documents\\ESTsoft\\CreatorTemp\\ipykernel_7744\\3666518439.py:5: FutureWarning: You are using `torch.load` with `weights_only=False` (the current default value), which uses the default pickle module implicitly. It is possible to construct malicious pickle data which will execute arbitrary code during unpickling (See https://github.com/pytorch/pytorch/blob/main/SECURITY.md#untrusted-models for more details). In a future release, the default value for `weights_only` will be flipped to `True`. This limits the functions that could be executed during unpickling. Arbitrary objects will no longer be allowed to be loaded via this mode unless they are explicitly allowlisted by the user via `torch.serialization.add_safe_globals`. We recommend you start setting `weights_only=True` for any use case where you don't have full control of the loaded file. Please open an issue on GitHub for any issues related to this experimental feature.\n",
      "  model.load_state_dict(torch.load(model_path, map_location=device))\n"
     ]
    },
    {
     "name": "stdout",
     "output_type": "stream",
     "text": [
      "\n",
      "Loaded model: custom_roberta_model_1000_3epoch.pth\n"
     ]
    },
    {
     "name": "stderr",
     "output_type": "stream",
     "text": [
      " 20%|██        | 1/5 [01:31<06:06, 91.61s/it]"
     ]
    },
    {
     "name": "stdout",
     "output_type": "stream",
     "text": [
      "Results for model custom_roberta_model_1000_3epoch.pth:\n",
      "  Overall F1-Score: 0.9060\n",
      "  Product_Quality F1-Score: 0.8500\n",
      "  Delivery F1-Score: 0.8950\n",
      "  Price F1-Score: 0.9800\n",
      "  Repurchase_Intention F1-Score: 0.9700\n",
      "  etc F1-Score: 0.8350\n",
      "  Review-level Exact Match F1-Score: 0.7879\n",
      "--------------------------------------------------\n"
     ]
    },
    {
     "name": "stderr",
     "output_type": "stream",
     "text": [
      "Some weights of RobertaForSequenceClassification were not initialized from the model checkpoint at roberta-base and are newly initialized: ['classifier.dense.bias', 'classifier.dense.weight', 'classifier.out_proj.bias', 'classifier.out_proj.weight']\n",
      "You should probably TRAIN this model on a down-stream task to be able to use it for predictions and inference.\n",
      "C:\\Users\\Public\\Documents\\ESTsoft\\CreatorTemp\\ipykernel_7744\\3666518439.py:5: FutureWarning: You are using `torch.load` with `weights_only=False` (the current default value), which uses the default pickle module implicitly. It is possible to construct malicious pickle data which will execute arbitrary code during unpickling (See https://github.com/pytorch/pytorch/blob/main/SECURITY.md#untrusted-models for more details). In a future release, the default value for `weights_only` will be flipped to `True`. This limits the functions that could be executed during unpickling. Arbitrary objects will no longer be allowed to be loaded via this mode unless they are explicitly allowlisted by the user via `torch.serialization.add_safe_globals`. We recommend you start setting `weights_only=True` for any use case where you don't have full control of the loaded file. Please open an issue on GitHub for any issues related to this experimental feature.\n",
      "  model.load_state_dict(torch.load(model_path, map_location=device))\n"
     ]
    },
    {
     "name": "stdout",
     "output_type": "stream",
     "text": [
      "\n",
      "Loaded model: custom_roberta_model_600.pth\n"
     ]
    },
    {
     "name": "stderr",
     "output_type": "stream",
     "text": [
      " 40%|████      | 2/5 [02:56<04:23, 87.67s/it]"
     ]
    },
    {
     "name": "stdout",
     "output_type": "stream",
     "text": [
      "Results for model custom_roberta_model_600.pth:\n",
      "  Overall F1-Score: 0.8980\n",
      "  Product_Quality F1-Score: 0.8750\n",
      "  Delivery F1-Score: 0.9000\n",
      "  Price F1-Score: 0.9800\n",
      "  Repurchase_Intention F1-Score: 0.9550\n",
      "  etc F1-Score: 0.7800\n",
      "  Review-level Exact Match F1-Score: 0.7578\n",
      "--------------------------------------------------\n"
     ]
    },
    {
     "name": "stderr",
     "output_type": "stream",
     "text": [
      "Some weights of RobertaForSequenceClassification were not initialized from the model checkpoint at roberta-base and are newly initialized: ['classifier.dense.bias', 'classifier.dense.weight', 'classifier.out_proj.bias', 'classifier.out_proj.weight']\n",
      "You should probably TRAIN this model on a down-stream task to be able to use it for predictions and inference.\n",
      "C:\\Users\\Public\\Documents\\ESTsoft\\CreatorTemp\\ipykernel_7744\\3666518439.py:5: FutureWarning: You are using `torch.load` with `weights_only=False` (the current default value), which uses the default pickle module implicitly. It is possible to construct malicious pickle data which will execute arbitrary code during unpickling (See https://github.com/pytorch/pytorch/blob/main/SECURITY.md#untrusted-models for more details). In a future release, the default value for `weights_only` will be flipped to `True`. This limits the functions that could be executed during unpickling. Arbitrary objects will no longer be allowed to be loaded via this mode unless they are explicitly allowlisted by the user via `torch.serialization.add_safe_globals`. We recommend you start setting `weights_only=True` for any use case where you don't have full control of the loaded file. Please open an issue on GitHub for any issues related to this experimental feature.\n",
      "  model.load_state_dict(torch.load(model_path, map_location=device))\n"
     ]
    },
    {
     "name": "stdout",
     "output_type": "stream",
     "text": [
      "\n",
      "Loaded model: custom_roberta_model_700.pth\n"
     ]
    },
    {
     "name": "stderr",
     "output_type": "stream",
     "text": [
      " 60%|██████    | 3/5 [04:20<02:51, 85.76s/it]"
     ]
    },
    {
     "name": "stdout",
     "output_type": "stream",
     "text": [
      "Results for model custom_roberta_model_700.pth:\n",
      "  Overall F1-Score: 0.8990\n",
      "  Product_Quality F1-Score: 0.8650\n",
      "  Delivery F1-Score: 0.8800\n",
      "  Price F1-Score: 0.9800\n",
      "  Repurchase_Intention F1-Score: 0.9550\n",
      "  etc F1-Score: 0.8150\n",
      "  Review-level Exact Match F1-Score: 0.7768\n",
      "--------------------------------------------------\n"
     ]
    },
    {
     "name": "stderr",
     "output_type": "stream",
     "text": [
      "Some weights of RobertaForSequenceClassification were not initialized from the model checkpoint at roberta-base and are newly initialized: ['classifier.dense.bias', 'classifier.dense.weight', 'classifier.out_proj.bias', 'classifier.out_proj.weight']\n",
      "You should probably TRAIN this model on a down-stream task to be able to use it for predictions and inference.\n",
      "C:\\Users\\Public\\Documents\\ESTsoft\\CreatorTemp\\ipykernel_7744\\3666518439.py:5: FutureWarning: You are using `torch.load` with `weights_only=False` (the current default value), which uses the default pickle module implicitly. It is possible to construct malicious pickle data which will execute arbitrary code during unpickling (See https://github.com/pytorch/pytorch/blob/main/SECURITY.md#untrusted-models for more details). In a future release, the default value for `weights_only` will be flipped to `True`. This limits the functions that could be executed during unpickling. Arbitrary objects will no longer be allowed to be loaded via this mode unless they are explicitly allowlisted by the user via `torch.serialization.add_safe_globals`. We recommend you start setting `weights_only=True` for any use case where you don't have full control of the loaded file. Please open an issue on GitHub for any issues related to this experimental feature.\n",
      "  model.load_state_dict(torch.load(model_path, map_location=device))\n"
     ]
    },
    {
     "name": "stdout",
     "output_type": "stream",
     "text": [
      "\n",
      "Loaded model: custom_roberta_model_800.pth\n"
     ]
    },
    {
     "name": "stderr",
     "output_type": "stream",
     "text": [
      " 80%|████████  | 4/5 [05:45<01:25, 85.46s/it]"
     ]
    },
    {
     "name": "stdout",
     "output_type": "stream",
     "text": [
      "Results for model custom_roberta_model_800.pth:\n",
      "  Overall F1-Score: 0.8980\n",
      "  Product_Quality F1-Score: 0.8550\n",
      "  Delivery F1-Score: 0.9000\n",
      "  Price F1-Score: 0.9850\n",
      "  Repurchase_Intention F1-Score: 0.9700\n",
      "  etc F1-Score: 0.7800\n",
      "  Review-level Exact Match F1-Score: 0.7692\n",
      "--------------------------------------------------\n"
     ]
    },
    {
     "name": "stderr",
     "output_type": "stream",
     "text": [
      "Some weights of RobertaForSequenceClassification were not initialized from the model checkpoint at roberta-base and are newly initialized: ['classifier.dense.bias', 'classifier.dense.weight', 'classifier.out_proj.bias', 'classifier.out_proj.weight']\n",
      "You should probably TRAIN this model on a down-stream task to be able to use it for predictions and inference.\n",
      "C:\\Users\\Public\\Documents\\ESTsoft\\CreatorTemp\\ipykernel_7744\\3666518439.py:5: FutureWarning: You are using `torch.load` with `weights_only=False` (the current default value), which uses the default pickle module implicitly. It is possible to construct malicious pickle data which will execute arbitrary code during unpickling (See https://github.com/pytorch/pytorch/blob/main/SECURITY.md#untrusted-models for more details). In a future release, the default value for `weights_only` will be flipped to `True`. This limits the functions that could be executed during unpickling. Arbitrary objects will no longer be allowed to be loaded via this mode unless they are explicitly allowlisted by the user via `torch.serialization.add_safe_globals`. We recommend you start setting `weights_only=True` for any use case where you don't have full control of the loaded file. Please open an issue on GitHub for any issues related to this experimental feature.\n",
      "  model.load_state_dict(torch.load(model_path, map_location=device))\n"
     ]
    },
    {
     "name": "stdout",
     "output_type": "stream",
     "text": [
      "\n",
      "Loaded model: custom_roberta_model_900.pth\n"
     ]
    },
    {
     "name": "stderr",
     "output_type": "stream",
     "text": [
      "100%|██████████| 5/5 [07:09<00:00, 85.93s/it]"
     ]
    },
    {
     "name": "stdout",
     "output_type": "stream",
     "text": [
      "Results for model custom_roberta_model_900.pth:\n",
      "  Overall F1-Score: 0.8870\n",
      "  Product_Quality F1-Score: 0.8800\n",
      "  Delivery F1-Score: 0.8950\n",
      "  Price F1-Score: 0.9800\n",
      "  Repurchase_Intention F1-Score: 0.9400\n",
      "  etc F1-Score: 0.7400\n",
      "  Review-level Exact Match F1-Score: 0.7578\n",
      "--------------------------------------------------\n"
     ]
    },
    {
     "name": "stderr",
     "output_type": "stream",
     "text": [
      "\n"
     ]
    }
   ],
   "source": [
    "for model_file in tqdm(model_files):\n",
    "    # 모델 불러오기\n",
    "    model_path = os.path.join(model_folder, model_file)\n",
    "    model = CustomRobertaForMultiLabelClassification()\n",
    "    model.load_state_dict(torch.load(model_path, map_location=device))\n",
    "    model.to(device)\n",
    "    model.eval()\n",
    "    print(f\"\\nLoaded model: {model_file}\")\n",
    "\n",
    "    # 예측 수행\n",
    "    test_predictions = []\n",
    "    for sentence in test_texts:\n",
    "        prediction = predict(model, sentence, tokenizer, device)\n",
    "        test_predictions.append([\n",
    "            prediction['Product_Quality'],\n",
    "            prediction['Delivery'],\n",
    "            prediction['Price'],\n",
    "            prediction['Repurchase_Intention'],\n",
    "            prediction['etc']\n",
    "        ])\n",
    "\n",
    "    # 3. F1-Score 계산\n",
    "    overall_f1, label_f1_scores, review_level_f1 = calculate_f1_scores(test_labels, test_predictions)\n",
    "\n",
    "    # 결과 출력\n",
    "    print(f\"Results for model {model_file}:\")\n",
    "    print(f\"  Overall F1-Score: {overall_f1:.4f}\")\n",
    "    for label_name, f1 in label_f1_scores.items():\n",
    "        print(f\"  {label_name} F1-Score: {f1:.4f}\")\n",
    "    print(f\"  Review-level Exact Match F1-Score: {review_level_f1:.4f}\")\n",
    "    print(\"--------------------------------------------------\")"
   ]
  },
  {
   "cell_type": "markdown",
   "metadata": {},
   "source": [
    "# 모델 성능 평가"
   ]
  },
  {
   "cell_type": "markdown",
   "metadata": {},
   "source": [
    "1. Results for model custom_roberta_model_600.pth:   \n",
    "  - Overall F1-Score: 0.8980    \n",
    "  - Product_Quality F1-Score: 0.8750    \n",
    "  - Delivery F1-Score: 0.9000   \n",
    "  - Price F1-Score: 0.9800    \n",
    "  - Repurchase_Intention F1-Score: 0.9550   \n",
    "  - etc F1-Score: 0.7800    \n",
    "  - Review-level Exact Match F1-Score: 0.7578   \n",
    "--------------------------------------------------\n",
    "\n",
    "2. Results for model custom_roberta_model_700.pth:\n",
    "  - Overall F1-Score: 0.8990\n",
    "  - Product_Quality F1-Score: 0.8650\n",
    "  - Delivery F1-Score: 0.8800\n",
    "  - Price F1-Score: 0.9800\n",
    "  - Repurchase_Intention F1-Score: 0.9550\n",
    "  - etc F1-Score: 0.8150\n",
    "  - Review-level Exact Match F1-Score: 0.7768\n",
    "--------------------------------------------------\n",
    "\n",
    "3. Results for model custom_roberta_model_800.pth:\n",
    "  - Overall F1-Score: 0.8980\n",
    "  - Product_Quality F1-Score: 0.8550\n",
    "  - Delivery F1-Score: 0.9000\n",
    "  - Price F1-Score: 0.9850\n",
    "  - Repurchase_Intention F1-Score: 0.9700\n",
    "  - etc F1-Score: 0.7800\n",
    "  - Review-level Exact Match F1-Score: 0.7692\n",
    "--------------------------------------------------\n",
    "\n",
    "4. Results for model custom_roberta_model_900.pth:\n",
    "  - Overall F1-Score: 0.8870\n",
    "  - Product_Quality F1-Score: 0.8800\n",
    "  - Delivery F1-Score: 0.8950\n",
    "  - Price F1-Score: 0.9800\n",
    "  - Repurchase_Intention F1-Score: 0.9400\n",
    "  - etc F1-Score: 0.7400\n",
    "  - Review-level Exact Match F1-Score: 0.7578\n",
    "--------------------------------------------------\n",
    "\n",
    "5. <b>Results for model custom_roberta_model_1000_3epoch.pth</b>:\n",
    "  - Overall F1-Score: 0.9060\n",
    "  - Product_Quality F1-Score: 0.8500\n",
    "  - Delivery F1-Score: 0.8950\n",
    "  - Price F1-Score: 0.9800\n",
    "  - Repurchase_Intention F1-Score: 0.9700\n",
    "  - <u>etc F1-Score: 0.8350</u>\n",
    "  - Review-level Exact Match F1-Score: 0.7879\n",
    "--------------------------------------------------\n",
    "\n",
    "6. Results for model ../model/custom_roberta_model_1000_5epoch.pth:\n",
    "  - Overall F1-Score: 0.9070\n",
    "  - Product_Quality F1-Score: 0.9000\n",
    "  - Delivery F1-Score: 0.9250\n",
    "  - Price F1-Score: 0.9850\n",
    "  - Repurchase_Intention F1-Score: 0.9500\n",
    "  - etc F1-Score: 0.7750\n",
    "  - Review-level Exact Match F1-Score: 0.7842\n",
    "--------------------------------------------------\n",
    "\n",
    "7. Results for model ../model/custom_roberta_model_1100_5epoch.pth:\n",
    "  - Overall F1-Score: 0.9100\n",
    "  - Product_Quality F1-Score: 0.9000\n",
    "  - Delivery F1-Score: 0.9000\n",
    "  - Price F1-Score: 0.9900\n",
    "  - Repurchase_Intention F1-Score: 0.9800\n",
    "  - etc F1-Score: 0.7800\n",
    "  - Review-level Exact Match F1-Score: 0.7879\n",
    "--------------------------------------------------\n",
    "\n"
   ]
  }
 ],
 "metadata": {
  "kernelspec": {
   "display_name": "Python 3",
   "language": "python",
   "name": "python3"
  },
  "language_info": {
   "codemirror_mode": {
    "name": "ipython",
    "version": 3
   },
   "file_extension": ".py",
   "mimetype": "text/x-python",
   "name": "python",
   "nbconvert_exporter": "python",
   "pygments_lexer": "ipython3",
   "version": "3.10.8"
  }
 },
 "nbformat": 4,
 "nbformat_minor": 2
}
